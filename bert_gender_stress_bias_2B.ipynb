{
  "nbformat": 4,
  "nbformat_minor": 0,
  "metadata": {
    "colab": {
      "name": "bert_gender_stress_bias_2B.ipynb",
      "provenance": [],
      "collapsed_sections": [
        "bU6NDPfSF-V6",
        "d0w-3TWNGH_W",
        "-JHDfUB_GURY",
        "7E9QSqPjBU-Z",
        "75iuiz1_BZdd"
      ],
      "machine_shape": "hm"
    },
    "kernelspec": {
      "name": "python3",
      "display_name": "Python 3"
    },
    "language_info": {
      "name": "python"
    },
    "gpuClass": "standard",
    "accelerator": "GPU"
  },
  "cells": [
    {
      "cell_type": "markdown",
      "source": [
        "Git repo: https://github.com/lleviraz/bert-gender-bias\n",
        "\n",
        "This is the second part of an Advanced ML Course Final Project, Reichman University, 2022.\n",
        "\n",
        "\n",
        "Part 2.B :Training the probe to detect gender bias in a model's latent space.\n",
        "\n",
        "\n",
        "---\n",
        "By: Eli Terris-Assa and Liad Levi-Raz\n",
        "\n",
        "\n"
      ],
      "metadata": {
        "id": "py_lVxz1XNyh"
      }
    },
    {
      "cell_type": "markdown",
      "source": [
        "This notebook is comprised of the steps taken to create and train a custom bert model made out of a previous bert model's layers up to and including the encoder and a simple probe tasked in predicting a different task from the original bert model's task\n",
        " \n",
        " \n",
        "Running this will **not use any preset weights for the probe layers, and will train on the given data**. This task takes about **1~2.5** hours depending on GPU capacity, number of epochs and patience. \n",
        "\n"
      ],
      "metadata": {
        "id": "4INa-KLmX9x9"
      }
    },
    {
      "cell_type": "markdown",
      "source": [
        "# Setup"
      ],
      "metadata": {
        "id": "bU6NDPfSF-V6"
      }
    },
    {
      "cell_type": "code",
      "source": [
        "from IPython.display import clear_output"
      ],
      "metadata": {
        "id": "TqiCk7BYfuFP"
      },
      "execution_count": null,
      "outputs": []
    },
    {
      "cell_type": "code",
      "source": [
        "# in case of saving in google drive through colab\n",
        "#from google.colab import drive\n",
        "#drive.mount('/content/')"
      ],
      "metadata": {
        "colab": {
          "base_uri": "https://localhost:8080/"
        },
        "id": "ZUntglT30FE6",
        "outputId": "b0ecf2dd-23a9-4e58-ef0e-401c666bfadd"
      },
      "execution_count": null,
      "outputs": [
        {
          "output_type": "stream",
          "name": "stdout",
          "text": [
            "Mounted at /content/drive\n"
          ]
        }
      ]
    },
    {
      "cell_type": "code",
      "source": [
        "# where to save logs and df\n",
        "env = '/content/'"
      ],
      "metadata": {
        "id": "16K3YlSI2cHI"
      },
      "execution_count": null,
      "outputs": []
    },
    {
      "cell_type": "code",
      "source": [
        "!pip install transformers\n",
        "clear_output()"
      ],
      "metadata": {
        "id": "z07GSoXOuqmg"
      },
      "execution_count": null,
      "outputs": []
    },
    {
      "cell_type": "code",
      "source": [
        "!pip install gdown\n",
        "!pip install  simpletransformers gensim transformers-interpret -q\n",
        "clear_output()"
      ],
      "metadata": {
        "id": "4UjQXpmToqv_"
      },
      "execution_count": null,
      "outputs": []
    },
    {
      "cell_type": "code",
      "execution_count": null,
      "metadata": {
        "id": "nBcSlPdHewjQ"
      },
      "outputs": [],
      "source": [
        "import pandas as pd \n",
        "import torch\n",
        "import transformers\n",
        "import numpy as np\n",
        "from transformers import AutoModel,BertForSequenceClassification \n",
        "import matplotlib.pyplot as plt\n"
      ]
    },
    {
      "cell_type": "code",
      "source": [
        "import os\n",
        "import gdown \n",
        "from simpletransformers.classification import ClassificationModel, ClassificationArgs\n"
      ],
      "metadata": {
        "id": "oELCwAApZ3Nr"
      },
      "execution_count": null,
      "outputs": []
    },
    {
      "cell_type": "code",
      "source": [
        "def download_from_gdrive(file_id,dest_path):\n",
        "  if(not os.path.exists(dest_path)):\n",
        "    url = 'https://drive.google.com/uc?id='+file_id\n",
        "    gdown.download(url, dest_path, quiet=False)\n",
        "  else:\n",
        "    print('{} already exists'.format(dest_path))"
      ],
      "metadata": {
        "id": "q0fvT_-13mkG"
      },
      "execution_count": null,
      "outputs": []
    },
    {
      "cell_type": "markdown",
      "source": [
        "# loading data original data"
      ],
      "metadata": {
        "id": "d0w-3TWNGH_W"
      }
    },
    {
      "cell_type": "code",
      "execution_count": null,
      "metadata": {
        "id": "9ZcM4Tc_26HX"
      },
      "outputs": [],
      "source": [
        "VOCAB_FILE='dreaddit_vocab.txt'\n",
        "DATASET_FILE='dreaddit_data.zip'"
      ]
    },
    {
      "cell_type": "code",
      "source": [
        "download_from_gdrive('1q6wpGrdvgNihjoLwlooQiFcUSVmNCsTS',DATASET_FILE)"
      ],
      "metadata": {
        "colab": {
          "base_uri": "https://localhost:8080/"
        },
        "id": "hk62rBo-U4Ca",
        "outputId": "5ba0e6c0-04ec-4253-b17f-50d5ccd952d9"
      },
      "execution_count": null,
      "outputs": [
        {
          "output_type": "stream",
          "name": "stderr",
          "text": [
            "Downloading...\n",
            "From: https://drive.google.com/uc?id=1q6wpGrdvgNihjoLwlooQiFcUSVmNCsTS\n",
            "To: /content/dreaddit_data.zip\n",
            "100%|██████████| 1.35M/1.35M [00:00<00:00, 164MB/s]\n"
          ]
        }
      ]
    },
    {
      "cell_type": "code",
      "source": [
        "download_from_gdrive('1Q2Fpg3K0ayRtXsjRQAdXHnUp0rYoCgjj',VOCAB_FILE)"
      ],
      "metadata": {
        "colab": {
          "base_uri": "https://localhost:8080/"
        },
        "id": "usn6zSOUUcgM",
        "outputId": "9524334d-594b-4ed0-836b-181ecaa92606"
      },
      "execution_count": null,
      "outputs": [
        {
          "output_type": "stream",
          "name": "stderr",
          "text": [
            "Downloading...\n",
            "From: https://drive.google.com/uc?id=1Q2Fpg3K0ayRtXsjRQAdXHnUp0rYoCgjj\n",
            "To: /content/dreaddit_vocab.txt\n",
            "100%|██████████| 44.3M/44.3M [00:00<00:00, 177MB/s]\n"
          ]
        }
      ]
    },
    {
      "cell_type": "code",
      "execution_count": null,
      "metadata": {
        "colab": {
          "base_uri": "https://localhost:8080/"
        },
        "id": "DFsGFYgWQMb2",
        "outputId": "8229dcc0-e335-4bb9-8891-344125c0ef6a"
      },
      "outputs": [
        {
          "output_type": "stream",
          "name": "stdout",
          "text": [
            "Archive:  dreaddit_data.zip\n",
            "  inflating: data/dreaddit-train.csv  \n",
            "  inflating: data/dreaddit-test.csv  \n"
          ]
        }
      ],
      "source": [
        "!mkdir -p data \n",
        "!unzip -n dreaddit_data.zip -d data"
      ]
    },
    {
      "cell_type": "code",
      "source": [
        "df_train = pd.read_csv(\"data/dreaddit-train.csv\")\n",
        "df_test = pd.read_csv(\"data/dreaddit-test.csv\")\n"
      ],
      "metadata": {
        "id": "oXApnWCMBCUV"
      },
      "execution_count": null,
      "outputs": []
    },
    {
      "cell_type": "code",
      "source": [
        "df_train = df_train[['text','label','id']]\n",
        "df_test = df_test[['text','label','id']]"
      ],
      "metadata": {
        "id": "hRrgspcoKXsT"
      },
      "execution_count": null,
      "outputs": []
    },
    {
      "cell_type": "code",
      "source": [
        "df_train.head(8)"
      ],
      "metadata": {
        "colab": {
          "base_uri": "https://localhost:8080/",
          "height": 300
        },
        "id": "W_eWlcmgrrxZ",
        "outputId": "25ed2bc5-bdc4-4625-8697-17a9fbd970e5"
      },
      "execution_count": null,
      "outputs": [
        {
          "output_type": "execute_result",
          "data": {
            "text/plain": [
              "                                                text  label     id\n",
              "0  He said he had not felt that way before, sugge...      1  33181\n",
              "1  Hey there r/assistance, Not sure if this is th...      0   2606\n",
              "2  My mom then hit me with the newspaper and it s...      1  38816\n",
              "3  until i met my new boyfriend, he is amazing, h...      1    239\n",
              "4  October is Domestic Violence Awareness Month a...      1   1421\n",
              "5  I think he doesn't want to put in the effort f...      1  17554\n",
              "6  It was a big company so luckily I didn't have ...      0    165\n",
              "7    It cleared up and I was okay but. On Monday ...      1  33053"
            ],
            "text/html": [
              "\n",
              "  <div id=\"df-3e726f42-c210-4ef2-a9b8-6f8ef0f6c673\">\n",
              "    <div class=\"colab-df-container\">\n",
              "      <div>\n",
              "<style scoped>\n",
              "    .dataframe tbody tr th:only-of-type {\n",
              "        vertical-align: middle;\n",
              "    }\n",
              "\n",
              "    .dataframe tbody tr th {\n",
              "        vertical-align: top;\n",
              "    }\n",
              "\n",
              "    .dataframe thead th {\n",
              "        text-align: right;\n",
              "    }\n",
              "</style>\n",
              "<table border=\"1\" class=\"dataframe\">\n",
              "  <thead>\n",
              "    <tr style=\"text-align: right;\">\n",
              "      <th></th>\n",
              "      <th>text</th>\n",
              "      <th>label</th>\n",
              "      <th>id</th>\n",
              "    </tr>\n",
              "  </thead>\n",
              "  <tbody>\n",
              "    <tr>\n",
              "      <th>0</th>\n",
              "      <td>He said he had not felt that way before, sugge...</td>\n",
              "      <td>1</td>\n",
              "      <td>33181</td>\n",
              "    </tr>\n",
              "    <tr>\n",
              "      <th>1</th>\n",
              "      <td>Hey there r/assistance, Not sure if this is th...</td>\n",
              "      <td>0</td>\n",
              "      <td>2606</td>\n",
              "    </tr>\n",
              "    <tr>\n",
              "      <th>2</th>\n",
              "      <td>My mom then hit me with the newspaper and it s...</td>\n",
              "      <td>1</td>\n",
              "      <td>38816</td>\n",
              "    </tr>\n",
              "    <tr>\n",
              "      <th>3</th>\n",
              "      <td>until i met my new boyfriend, he is amazing, h...</td>\n",
              "      <td>1</td>\n",
              "      <td>239</td>\n",
              "    </tr>\n",
              "    <tr>\n",
              "      <th>4</th>\n",
              "      <td>October is Domestic Violence Awareness Month a...</td>\n",
              "      <td>1</td>\n",
              "      <td>1421</td>\n",
              "    </tr>\n",
              "    <tr>\n",
              "      <th>5</th>\n",
              "      <td>I think he doesn't want to put in the effort f...</td>\n",
              "      <td>1</td>\n",
              "      <td>17554</td>\n",
              "    </tr>\n",
              "    <tr>\n",
              "      <th>6</th>\n",
              "      <td>It was a big company so luckily I didn't have ...</td>\n",
              "      <td>0</td>\n",
              "      <td>165</td>\n",
              "    </tr>\n",
              "    <tr>\n",
              "      <th>7</th>\n",
              "      <td>It cleared up and I was okay but. On Monday ...</td>\n",
              "      <td>1</td>\n",
              "      <td>33053</td>\n",
              "    </tr>\n",
              "  </tbody>\n",
              "</table>\n",
              "</div>\n",
              "      <button class=\"colab-df-convert\" onclick=\"convertToInteractive('df-3e726f42-c210-4ef2-a9b8-6f8ef0f6c673')\"\n",
              "              title=\"Convert this dataframe to an interactive table.\"\n",
              "              style=\"display:none;\">\n",
              "        \n",
              "  <svg xmlns=\"http://www.w3.org/2000/svg\" height=\"24px\"viewBox=\"0 0 24 24\"\n",
              "       width=\"24px\">\n",
              "    <path d=\"M0 0h24v24H0V0z\" fill=\"none\"/>\n",
              "    <path d=\"M18.56 5.44l.94 2.06.94-2.06 2.06-.94-2.06-.94-.94-2.06-.94 2.06-2.06.94zm-11 1L8.5 8.5l.94-2.06 2.06-.94-2.06-.94L8.5 2.5l-.94 2.06-2.06.94zm10 10l.94 2.06.94-2.06 2.06-.94-2.06-.94-.94-2.06-.94 2.06-2.06.94z\"/><path d=\"M17.41 7.96l-1.37-1.37c-.4-.4-.92-.59-1.43-.59-.52 0-1.04.2-1.43.59L10.3 9.45l-7.72 7.72c-.78.78-.78 2.05 0 2.83L4 21.41c.39.39.9.59 1.41.59.51 0 1.02-.2 1.41-.59l7.78-7.78 2.81-2.81c.8-.78.8-2.07 0-2.86zM5.41 20L4 18.59l7.72-7.72 1.47 1.35L5.41 20z\"/>\n",
              "  </svg>\n",
              "      </button>\n",
              "      \n",
              "  <style>\n",
              "    .colab-df-container {\n",
              "      display:flex;\n",
              "      flex-wrap:wrap;\n",
              "      gap: 12px;\n",
              "    }\n",
              "\n",
              "    .colab-df-convert {\n",
              "      background-color: #E8F0FE;\n",
              "      border: none;\n",
              "      border-radius: 50%;\n",
              "      cursor: pointer;\n",
              "      display: none;\n",
              "      fill: #1967D2;\n",
              "      height: 32px;\n",
              "      padding: 0 0 0 0;\n",
              "      width: 32px;\n",
              "    }\n",
              "\n",
              "    .colab-df-convert:hover {\n",
              "      background-color: #E2EBFA;\n",
              "      box-shadow: 0px 1px 2px rgba(60, 64, 67, 0.3), 0px 1px 3px 1px rgba(60, 64, 67, 0.15);\n",
              "      fill: #174EA6;\n",
              "    }\n",
              "\n",
              "    [theme=dark] .colab-df-convert {\n",
              "      background-color: #3B4455;\n",
              "      fill: #D2E3FC;\n",
              "    }\n",
              "\n",
              "    [theme=dark] .colab-df-convert:hover {\n",
              "      background-color: #434B5C;\n",
              "      box-shadow: 0px 1px 3px 1px rgba(0, 0, 0, 0.15);\n",
              "      filter: drop-shadow(0px 1px 2px rgba(0, 0, 0, 0.3));\n",
              "      fill: #FFFFFF;\n",
              "    }\n",
              "  </style>\n",
              "\n",
              "      <script>\n",
              "        const buttonEl =\n",
              "          document.querySelector('#df-3e726f42-c210-4ef2-a9b8-6f8ef0f6c673 button.colab-df-convert');\n",
              "        buttonEl.style.display =\n",
              "          google.colab.kernel.accessAllowed ? 'block' : 'none';\n",
              "\n",
              "        async function convertToInteractive(key) {\n",
              "          const element = document.querySelector('#df-3e726f42-c210-4ef2-a9b8-6f8ef0f6c673');\n",
              "          const dataTable =\n",
              "            await google.colab.kernel.invokeFunction('convertToInteractive',\n",
              "                                                     [key], {});\n",
              "          if (!dataTable) return;\n",
              "\n",
              "          const docLinkHtml = 'Like what you see? Visit the ' +\n",
              "            '<a target=\"_blank\" href=https://colab.research.google.com/notebooks/data_table.ipynb>data table notebook</a>'\n",
              "            + ' to learn more about interactive tables.';\n",
              "          element.innerHTML = '';\n",
              "          dataTable['output_type'] = 'display_data';\n",
              "          await google.colab.output.renderOutput(dataTable, element);\n",
              "          const docLink = document.createElement('div');\n",
              "          docLink.innerHTML = docLinkHtml;\n",
              "          element.appendChild(docLink);\n",
              "        }\n",
              "      </script>\n",
              "    </div>\n",
              "  </div>\n",
              "  "
            ]
          },
          "metadata": {},
          "execution_count": 15
        }
      ]
    },
    {
      "cell_type": "code",
      "source": [
        "len(df_train),len(df_test)"
      ],
      "metadata": {
        "colab": {
          "base_uri": "https://localhost:8080/"
        },
        "id": "mDZpQETvJhIv",
        "outputId": "bcff65b8-f3e7-4a6c-8755-c601745bb901"
      },
      "execution_count": null,
      "outputs": [
        {
          "output_type": "execute_result",
          "data": {
            "text/plain": [
              "(2838, 715)"
            ]
          },
          "metadata": {},
          "execution_count": 16
        }
      ]
    },
    {
      "cell_type": "markdown",
      "source": [
        "# loading models and creating labels"
      ],
      "metadata": {
        "id": "-JHDfUB_GURY"
      }
    },
    {
      "cell_type": "code",
      "source": [
        "device = torch.device('cuda' if torch.cuda.is_available() else 'cpu')\n",
        "text_length = 128\n"
      ],
      "metadata": {
        "id": "51k2NHbpIhla"
      },
      "execution_count": null,
      "outputs": []
    },
    {
      "cell_type": "code",
      "source": [
        "#w2v_tok = transformers.BertTokenizer(env+'dreaddit_vocab.txt') VOCAB_FILE\n",
        "w2v_tok = transformers.BertTokenizer(VOCAB_FILE)"
      ],
      "metadata": {
        "id": "duMNlbeUfCVM"
      },
      "execution_count": null,
      "outputs": []
    },
    {
      "cell_type": "code",
      "source": [
        "P2_TRAINED_MODEL='bert_dreaddit_gender_model_part2.zip'\n",
        "download_from_gdrive('1uim3vGMQ_oUhpM6l7tsQ9nYypQaYsf3O',P2_TRAINED_MODEL)\n",
        "P2_INFERENCE_MODE = os.path.isfile(P2_TRAINED_MODEL)"
      ],
      "metadata": {
        "colab": {
          "base_uri": "https://localhost:8080/"
        },
        "id": "EZvmGBfpyuFK",
        "outputId": "7476196f-1f47-443d-ffe5-c0bc778da2a9"
      },
      "execution_count": null,
      "outputs": [
        {
          "output_type": "stream",
          "name": "stderr",
          "text": [
            "Downloading...\n",
            "From: https://drive.google.com/uc?id=1uim3vGMQ_oUhpM6l7tsQ9nYypQaYsf3O\n",
            "To: /content/bert_dreaddit_gender_model_part2.zip\n",
            "100%|██████████| 402M/402M [00:03<00:00, 119MB/s]\n"
          ]
        }
      ]
    },
    {
      "cell_type": "code",
      "source": [
        "print('Inference mode, loading best model...')\n",
        "!unzip -q -n {P2_TRAINED_MODEL}\n",
        "# Create a ClassificationModel\n",
        "model2 = ClassificationModel(\n",
        "    \"bert\", '/content/part2_outputs',\n",
        "    tokenizer_type=w2v_tok,\n",
        "    use_cuda=torch.cuda.is_available()\n",
        ")\n",
        "print('Best model loaded.')"
      ],
      "metadata": {
        "colab": {
          "base_uri": "https://localhost:8080/"
        },
        "id": "NX_mVjOJ3RtX",
        "outputId": "1d12130a-8994-4255-ef79-535e15d7922a"
      },
      "execution_count": null,
      "outputs": [
        {
          "output_type": "stream",
          "name": "stdout",
          "text": [
            "Inference mode, loading best model...\n",
            "Best model loaded.\n"
          ]
        }
      ]
    },
    {
      "cell_type": "code",
      "source": [
        "#model2.predict(list(df_test['text'][:1]))"
      ],
      "metadata": {
        "id": "FHPHWvFD4U2-"
      },
      "execution_count": null,
      "outputs": []
    },
    {
      "cell_type": "code",
      "source": [
        "model2.model.base_model.embeddings"
      ],
      "metadata": {
        "colab": {
          "base_uri": "https://localhost:8080/"
        },
        "id": "2jfY4lI8eNqK",
        "outputId": "f4657b04-1bfd-4bce-916b-60ed5d558121"
      },
      "execution_count": null,
      "outputs": [
        {
          "output_type": "execute_result",
          "data": {
            "text/plain": [
              "BertEmbeddings(\n",
              "  (word_embeddings): Embedding(28996, 768, padding_idx=0)\n",
              "  (position_embeddings): Embedding(512, 768)\n",
              "  (token_type_embeddings): Embedding(2, 768)\n",
              "  (LayerNorm): LayerNorm((768,), eps=1e-12, elementwise_affine=True)\n",
              "  (dropout): Dropout(p=0.1, inplace=False)\n",
              ")"
            ]
          },
          "metadata": {},
          "execution_count": 22
        }
      ]
    },
    {
      "cell_type": "code",
      "source": [
        "#model_gender = BertForSequenceClassification.from_pretrained(\"Cameron/BERT-rtgender-opgender-annotations\").to(device)\n",
        "#model_gender = BertForSequenceClassification.from_pretrained(env+\"outputs/gender_classifier\").to(device)\n",
        "#model_gender.resize_token_embeddings(3000002)\n",
        "\n",
        "def prepare_data(data, batch_size = 32):\n",
        "  data = data.copy()\n",
        "  \n",
        "  \n",
        "  data_sequences = []\n",
        "  batches = np.ceil(len(data)/batch_size)\n",
        "  for batch in range(int(batches)):\n",
        "    start_idx = batch * batch_size\n",
        "    end_idx = start_idx + batch_size\n",
        "    if end_idx > len(data):\n",
        "        end_idx = len(data)\n",
        "    \n",
        "\n",
        "    texts = list(data['text'].iloc[start_idx:end_idx])\n",
        "    labels = list(data['label'].iloc[start_idx:end_idx])\n",
        "    inputs = w2v_tok(texts, return_tensors=\"pt\", truncation = True, padding = True, max_length=text_length) # add things\n",
        "    with torch.no_grad():\n",
        "        logits = model2.predict(texts)[1]\n",
        "        #data['logits_0'].iloc[start_idx:end_idx] = logits[:,0].tolist()\n",
        "        #data['logits_1'].iloc[start_idx:end_idx] = logits[:,1].tolist()\n",
        "        #logits = model_stress_encoder(model_stress_embeddings.forward(inputs['input_ids']),inputs['attention_mask'])\n",
        "        #print(logits)\n",
        "        datum = (inputs,labels,logits)\n",
        "        data_sequences.append(datum)\n",
        "    \n",
        "  return data_sequences\n",
        "\n",
        "\n",
        "train = prepare_data(df_train)\n",
        "test = prepare_data(df_test)\n",
        "\n",
        "#model_gender.resize_token_embeddings(30002)\n",
        "#del model_gender; \n",
        "torch.cuda.empty_cache()\n",
        "clear_output()"
      ],
      "metadata": {
        "id": "s_4ecu2dx3kQ"
      },
      "execution_count": null,
      "outputs": []
    },
    {
      "cell_type": "code",
      "source": [
        "#train[0]"
      ],
      "metadata": {
        "id": "YgVW6g_wZ3-P"
      },
      "execution_count": null,
      "outputs": []
    },
    {
      "cell_type": "code",
      "source": [],
      "metadata": {
        "id": "TMVri_j7Z37j"
      },
      "execution_count": null,
      "outputs": []
    },
    {
      "cell_type": "code",
      "source": [
        "#model_stress = BertForSequenceClassification.from_pretrained(\"/content/drive/MyDrive/Studies/Adv Machine Learning/Final project/outputs/best_model\").to(device)\n",
        "#model_stress.resize_token_embeddings(3000002)\n"
      ],
      "metadata": {
        "id": "Z_31Ra6AZuwp"
      },
      "execution_count": null,
      "outputs": []
    },
    {
      "cell_type": "code",
      "source": [],
      "metadata": {
        "id": "81MBXmaHZ34r"
      },
      "execution_count": null,
      "outputs": []
    },
    {
      "cell_type": "markdown",
      "source": [
        "# create the bert and probe custom model"
      ],
      "metadata": {
        "id": "7E9QSqPjBU-Z"
      }
    },
    {
      "cell_type": "code",
      "source": [
        "def get_parameters(params, freeze_from = 0, freeze_last_until=0,verbose = False):\n",
        "    output = []\n",
        "    \n",
        "    \n",
        "    temp = list(params)\n",
        "    count = 0\n",
        "    for name, param in temp[:freeze_from]: \n",
        "        if verbose:\n",
        "          print('I won\\'t be frozen: {}'.format(name)) \n",
        "        param.requires_grad = True\n",
        "        output.append(param)\n",
        "        count+=len(param)\n",
        "\n",
        "    for name, param in temp[freeze_from:(-1)*freeze_last_until]: \n",
        "        if verbose:\n",
        "          print('I will be frozen: {}'.format(name)) \n",
        "        param.requires_grad = False\n",
        "    \n",
        "    for name, param in temp[(-1)*freeze_last_until:]: \n",
        "        if verbose:\n",
        "          print('I won\\'t be frozen: {}'.format(name)) \n",
        "        param.requires_grad = True\n",
        "        output.append(param)\n",
        "        count+=len(param)\n",
        "\n",
        "    print(f'Number of params = {count}')\n",
        "    return output"
      ],
      "metadata": {
        "id": "VM3LMDHPrF2G"
      },
      "execution_count": null,
      "outputs": []
    },
    {
      "cell_type": "code",
      "source": [
        "device = torch.device('cuda' if torch.cuda.is_available() else 'cpu')\n"
      ],
      "metadata": {
        "id": "QIsouu2vDspW"
      },
      "execution_count": null,
      "outputs": []
    },
    {
      "cell_type": "code",
      "source": [
        "TRAINED_MODEL='bert_dreaddit_stress_model_part2.zip'\n",
        "download_from_gdrive('1a4Qym6w7z-tmsjoZ7WJ3-Ft1doZ-gHTW',TRAINED_MODEL)\n",
        "INFERENCE_MODE = os.path.isfile(TRAINED_MODEL)"
      ],
      "metadata": {
        "colab": {
          "base_uri": "https://localhost:8080/"
        },
        "id": "YLNVczHYYNnu",
        "outputId": "eafac536-68ba-4f22-e73c-9120f04c70d5"
      },
      "execution_count": null,
      "outputs": [
        {
          "output_type": "stream",
          "name": "stderr",
          "text": [
            "Downloading...\n",
            "From: https://drive.google.com/uc?id=1a4Qym6w7z-tmsjoZ7WJ3-Ft1doZ-gHTW\n",
            "To: /content/bert_dreaddit_stress_model_part2.zip\n",
            "100%|██████████| 1.14G/1.14G [00:09<00:00, 120MB/s]\n"
          ]
        }
      ]
    },
    {
      "cell_type": "code",
      "source": [
        "print('Inference mode, loading best model...')\n",
        "!unzip -q -n {TRAINED_MODEL}\n",
        "# Create a ClassificationModel\n",
        "bert = ClassificationModel(\n",
        "    \"bert\", \"outputs/best_model\",\n",
        "    tokenizer_type=w2v_tok,\n",
        "    use_cuda=torch.cuda.is_available()\n",
        ")\n",
        "print('Best model loaded.')"
      ],
      "metadata": {
        "colab": {
          "base_uri": "https://localhost:8080/"
        },
        "id": "6byUthkgYRaV",
        "outputId": "1d901cd9-7d08-4fa5-faac-e8f3b4f422aa"
      },
      "execution_count": null,
      "outputs": [
        {
          "output_type": "stream",
          "name": "stdout",
          "text": [
            "Inference mode, loading best model...\n",
            "Best model loaded.\n"
          ]
        }
      ]
    },
    {
      "cell_type": "code",
      "source": [
        "import torch\n",
        "\n",
        "class CustomBERTModel(torch.nn.Module):\n",
        "    def __init__(self,model):\n",
        "          super(CustomBERTModel, self).__init__()          \n",
        "          model.resize_token_embeddings(3000002)\n",
        "          self.model_stress_embeddings = model.base_model.embeddings\n",
        "          self.model_stress_encoder = model.base_model.encoder\n",
        "\n",
        "          # add the probe\n",
        "          self.linear1 = torch.nn.Linear(768*text_length, 768*2)  \n",
        "          self.batchnorm = torch.nn.BatchNorm1d(768*2)\n",
        "          self.linear2 = torch.nn.Linear(768*2, 2)\n",
        "\n",
        "          \n",
        "    def forward(self, input_ids, attention_mask):\n",
        "          embedding_output = self.model_stress_embeddings(input_ids=input_ids)\n",
        "          encoder_output = self.model_stress_encoder(embedding_output).last_hidden_state\n",
        "          logits = self.linear1(encoder_output.view(-1,768*text_length))\n",
        "          logits = self.batchnorm(logits)\n",
        "          logits = self.linear2(logits)\n",
        "          \n",
        "          return logits"
      ],
      "metadata": {
        "id": "S-TlJd8MtnME"
      },
      "execution_count": null,
      "outputs": []
    },
    {
      "cell_type": "code",
      "source": [
        "bert_and_probe = CustomBERTModel(bert.model).to(device)\n",
        "optimizer = torch.optim.AdamW(get_parameters(bert_and_probe.named_parameters(),0,6,verbose = True), lr=0.000001)"
      ],
      "metadata": {
        "colab": {
          "base_uri": "https://localhost:8080/"
        },
        "id": "ie7F78MnfbV3",
        "outputId": "22cf7e53-7451-4465-bf06-fac064f9f31b"
      },
      "execution_count": null,
      "outputs": [
        {
          "output_type": "stream",
          "name": "stdout",
          "text": [
            "I will be frozen: model_stress_embeddings.word_embeddings.weight\n",
            "I will be frozen: model_stress_embeddings.position_embeddings.weight\n",
            "I will be frozen: model_stress_embeddings.token_type_embeddings.weight\n",
            "I will be frozen: model_stress_embeddings.LayerNorm.weight\n",
            "I will be frozen: model_stress_embeddings.LayerNorm.bias\n",
            "I will be frozen: model_stress_encoder.layer.0.attention.self.query.weight\n",
            "I will be frozen: model_stress_encoder.layer.0.attention.self.query.bias\n",
            "I will be frozen: model_stress_encoder.layer.0.attention.self.key.weight\n",
            "I will be frozen: model_stress_encoder.layer.0.attention.self.key.bias\n",
            "I will be frozen: model_stress_encoder.layer.0.attention.self.value.weight\n",
            "I will be frozen: model_stress_encoder.layer.0.attention.self.value.bias\n",
            "I will be frozen: model_stress_encoder.layer.0.attention.output.dense.weight\n",
            "I will be frozen: model_stress_encoder.layer.0.attention.output.dense.bias\n",
            "I will be frozen: model_stress_encoder.layer.0.attention.output.LayerNorm.weight\n",
            "I will be frozen: model_stress_encoder.layer.0.attention.output.LayerNorm.bias\n",
            "I will be frozen: model_stress_encoder.layer.0.intermediate.dense.weight\n",
            "I will be frozen: model_stress_encoder.layer.0.intermediate.dense.bias\n",
            "I will be frozen: model_stress_encoder.layer.0.output.dense.weight\n",
            "I will be frozen: model_stress_encoder.layer.0.output.dense.bias\n",
            "I will be frozen: model_stress_encoder.layer.0.output.LayerNorm.weight\n",
            "I will be frozen: model_stress_encoder.layer.0.output.LayerNorm.bias\n",
            "I will be frozen: model_stress_encoder.layer.1.attention.self.query.weight\n",
            "I will be frozen: model_stress_encoder.layer.1.attention.self.query.bias\n",
            "I will be frozen: model_stress_encoder.layer.1.attention.self.key.weight\n",
            "I will be frozen: model_stress_encoder.layer.1.attention.self.key.bias\n",
            "I will be frozen: model_stress_encoder.layer.1.attention.self.value.weight\n",
            "I will be frozen: model_stress_encoder.layer.1.attention.self.value.bias\n",
            "I will be frozen: model_stress_encoder.layer.1.attention.output.dense.weight\n",
            "I will be frozen: model_stress_encoder.layer.1.attention.output.dense.bias\n",
            "I will be frozen: model_stress_encoder.layer.1.attention.output.LayerNorm.weight\n",
            "I will be frozen: model_stress_encoder.layer.1.attention.output.LayerNorm.bias\n",
            "I will be frozen: model_stress_encoder.layer.1.intermediate.dense.weight\n",
            "I will be frozen: model_stress_encoder.layer.1.intermediate.dense.bias\n",
            "I will be frozen: model_stress_encoder.layer.1.output.dense.weight\n",
            "I will be frozen: model_stress_encoder.layer.1.output.dense.bias\n",
            "I will be frozen: model_stress_encoder.layer.1.output.LayerNorm.weight\n",
            "I will be frozen: model_stress_encoder.layer.1.output.LayerNorm.bias\n",
            "I will be frozen: model_stress_encoder.layer.2.attention.self.query.weight\n",
            "I will be frozen: model_stress_encoder.layer.2.attention.self.query.bias\n",
            "I will be frozen: model_stress_encoder.layer.2.attention.self.key.weight\n",
            "I will be frozen: model_stress_encoder.layer.2.attention.self.key.bias\n",
            "I will be frozen: model_stress_encoder.layer.2.attention.self.value.weight\n",
            "I will be frozen: model_stress_encoder.layer.2.attention.self.value.bias\n",
            "I will be frozen: model_stress_encoder.layer.2.attention.output.dense.weight\n",
            "I will be frozen: model_stress_encoder.layer.2.attention.output.dense.bias\n",
            "I will be frozen: model_stress_encoder.layer.2.attention.output.LayerNorm.weight\n",
            "I will be frozen: model_stress_encoder.layer.2.attention.output.LayerNorm.bias\n",
            "I will be frozen: model_stress_encoder.layer.2.intermediate.dense.weight\n",
            "I will be frozen: model_stress_encoder.layer.2.intermediate.dense.bias\n",
            "I will be frozen: model_stress_encoder.layer.2.output.dense.weight\n",
            "I will be frozen: model_stress_encoder.layer.2.output.dense.bias\n",
            "I will be frozen: model_stress_encoder.layer.2.output.LayerNorm.weight\n",
            "I will be frozen: model_stress_encoder.layer.2.output.LayerNorm.bias\n",
            "I will be frozen: model_stress_encoder.layer.3.attention.self.query.weight\n",
            "I will be frozen: model_stress_encoder.layer.3.attention.self.query.bias\n",
            "I will be frozen: model_stress_encoder.layer.3.attention.self.key.weight\n",
            "I will be frozen: model_stress_encoder.layer.3.attention.self.key.bias\n",
            "I will be frozen: model_stress_encoder.layer.3.attention.self.value.weight\n",
            "I will be frozen: model_stress_encoder.layer.3.attention.self.value.bias\n",
            "I will be frozen: model_stress_encoder.layer.3.attention.output.dense.weight\n",
            "I will be frozen: model_stress_encoder.layer.3.attention.output.dense.bias\n",
            "I will be frozen: model_stress_encoder.layer.3.attention.output.LayerNorm.weight\n",
            "I will be frozen: model_stress_encoder.layer.3.attention.output.LayerNorm.bias\n",
            "I will be frozen: model_stress_encoder.layer.3.intermediate.dense.weight\n",
            "I will be frozen: model_stress_encoder.layer.3.intermediate.dense.bias\n",
            "I will be frozen: model_stress_encoder.layer.3.output.dense.weight\n",
            "I will be frozen: model_stress_encoder.layer.3.output.dense.bias\n",
            "I will be frozen: model_stress_encoder.layer.3.output.LayerNorm.weight\n",
            "I will be frozen: model_stress_encoder.layer.3.output.LayerNorm.bias\n",
            "I will be frozen: model_stress_encoder.layer.4.attention.self.query.weight\n",
            "I will be frozen: model_stress_encoder.layer.4.attention.self.query.bias\n",
            "I will be frozen: model_stress_encoder.layer.4.attention.self.key.weight\n",
            "I will be frozen: model_stress_encoder.layer.4.attention.self.key.bias\n",
            "I will be frozen: model_stress_encoder.layer.4.attention.self.value.weight\n",
            "I will be frozen: model_stress_encoder.layer.4.attention.self.value.bias\n",
            "I will be frozen: model_stress_encoder.layer.4.attention.output.dense.weight\n",
            "I will be frozen: model_stress_encoder.layer.4.attention.output.dense.bias\n",
            "I will be frozen: model_stress_encoder.layer.4.attention.output.LayerNorm.weight\n",
            "I will be frozen: model_stress_encoder.layer.4.attention.output.LayerNorm.bias\n",
            "I will be frozen: model_stress_encoder.layer.4.intermediate.dense.weight\n",
            "I will be frozen: model_stress_encoder.layer.4.intermediate.dense.bias\n",
            "I will be frozen: model_stress_encoder.layer.4.output.dense.weight\n",
            "I will be frozen: model_stress_encoder.layer.4.output.dense.bias\n",
            "I will be frozen: model_stress_encoder.layer.4.output.LayerNorm.weight\n",
            "I will be frozen: model_stress_encoder.layer.4.output.LayerNorm.bias\n",
            "I will be frozen: model_stress_encoder.layer.5.attention.self.query.weight\n",
            "I will be frozen: model_stress_encoder.layer.5.attention.self.query.bias\n",
            "I will be frozen: model_stress_encoder.layer.5.attention.self.key.weight\n",
            "I will be frozen: model_stress_encoder.layer.5.attention.self.key.bias\n",
            "I will be frozen: model_stress_encoder.layer.5.attention.self.value.weight\n",
            "I will be frozen: model_stress_encoder.layer.5.attention.self.value.bias\n",
            "I will be frozen: model_stress_encoder.layer.5.attention.output.dense.weight\n",
            "I will be frozen: model_stress_encoder.layer.5.attention.output.dense.bias\n",
            "I will be frozen: model_stress_encoder.layer.5.attention.output.LayerNorm.weight\n",
            "I will be frozen: model_stress_encoder.layer.5.attention.output.LayerNorm.bias\n",
            "I will be frozen: model_stress_encoder.layer.5.intermediate.dense.weight\n",
            "I will be frozen: model_stress_encoder.layer.5.intermediate.dense.bias\n",
            "I will be frozen: model_stress_encoder.layer.5.output.dense.weight\n",
            "I will be frozen: model_stress_encoder.layer.5.output.dense.bias\n",
            "I will be frozen: model_stress_encoder.layer.5.output.LayerNorm.weight\n",
            "I will be frozen: model_stress_encoder.layer.5.output.LayerNorm.bias\n",
            "I will be frozen: model_stress_encoder.layer.6.attention.self.query.weight\n",
            "I will be frozen: model_stress_encoder.layer.6.attention.self.query.bias\n",
            "I will be frozen: model_stress_encoder.layer.6.attention.self.key.weight\n",
            "I will be frozen: model_stress_encoder.layer.6.attention.self.key.bias\n",
            "I will be frozen: model_stress_encoder.layer.6.attention.self.value.weight\n",
            "I will be frozen: model_stress_encoder.layer.6.attention.self.value.bias\n",
            "I will be frozen: model_stress_encoder.layer.6.attention.output.dense.weight\n",
            "I will be frozen: model_stress_encoder.layer.6.attention.output.dense.bias\n",
            "I will be frozen: model_stress_encoder.layer.6.attention.output.LayerNorm.weight\n",
            "I will be frozen: model_stress_encoder.layer.6.attention.output.LayerNorm.bias\n",
            "I will be frozen: model_stress_encoder.layer.6.intermediate.dense.weight\n",
            "I will be frozen: model_stress_encoder.layer.6.intermediate.dense.bias\n",
            "I will be frozen: model_stress_encoder.layer.6.output.dense.weight\n",
            "I will be frozen: model_stress_encoder.layer.6.output.dense.bias\n",
            "I will be frozen: model_stress_encoder.layer.6.output.LayerNorm.weight\n",
            "I will be frozen: model_stress_encoder.layer.6.output.LayerNorm.bias\n",
            "I will be frozen: model_stress_encoder.layer.7.attention.self.query.weight\n",
            "I will be frozen: model_stress_encoder.layer.7.attention.self.query.bias\n",
            "I will be frozen: model_stress_encoder.layer.7.attention.self.key.weight\n",
            "I will be frozen: model_stress_encoder.layer.7.attention.self.key.bias\n",
            "I will be frozen: model_stress_encoder.layer.7.attention.self.value.weight\n",
            "I will be frozen: model_stress_encoder.layer.7.attention.self.value.bias\n",
            "I will be frozen: model_stress_encoder.layer.7.attention.output.dense.weight\n",
            "I will be frozen: model_stress_encoder.layer.7.attention.output.dense.bias\n",
            "I will be frozen: model_stress_encoder.layer.7.attention.output.LayerNorm.weight\n",
            "I will be frozen: model_stress_encoder.layer.7.attention.output.LayerNorm.bias\n",
            "I will be frozen: model_stress_encoder.layer.7.intermediate.dense.weight\n",
            "I will be frozen: model_stress_encoder.layer.7.intermediate.dense.bias\n",
            "I will be frozen: model_stress_encoder.layer.7.output.dense.weight\n",
            "I will be frozen: model_stress_encoder.layer.7.output.dense.bias\n",
            "I will be frozen: model_stress_encoder.layer.7.output.LayerNorm.weight\n",
            "I will be frozen: model_stress_encoder.layer.7.output.LayerNorm.bias\n",
            "I will be frozen: model_stress_encoder.layer.8.attention.self.query.weight\n",
            "I will be frozen: model_stress_encoder.layer.8.attention.self.query.bias\n",
            "I will be frozen: model_stress_encoder.layer.8.attention.self.key.weight\n",
            "I will be frozen: model_stress_encoder.layer.8.attention.self.key.bias\n",
            "I will be frozen: model_stress_encoder.layer.8.attention.self.value.weight\n",
            "I will be frozen: model_stress_encoder.layer.8.attention.self.value.bias\n",
            "I will be frozen: model_stress_encoder.layer.8.attention.output.dense.weight\n",
            "I will be frozen: model_stress_encoder.layer.8.attention.output.dense.bias\n",
            "I will be frozen: model_stress_encoder.layer.8.attention.output.LayerNorm.weight\n",
            "I will be frozen: model_stress_encoder.layer.8.attention.output.LayerNorm.bias\n",
            "I will be frozen: model_stress_encoder.layer.8.intermediate.dense.weight\n",
            "I will be frozen: model_stress_encoder.layer.8.intermediate.dense.bias\n",
            "I will be frozen: model_stress_encoder.layer.8.output.dense.weight\n",
            "I will be frozen: model_stress_encoder.layer.8.output.dense.bias\n",
            "I will be frozen: model_stress_encoder.layer.8.output.LayerNorm.weight\n",
            "I will be frozen: model_stress_encoder.layer.8.output.LayerNorm.bias\n",
            "I will be frozen: model_stress_encoder.layer.9.attention.self.query.weight\n",
            "I will be frozen: model_stress_encoder.layer.9.attention.self.query.bias\n",
            "I will be frozen: model_stress_encoder.layer.9.attention.self.key.weight\n",
            "I will be frozen: model_stress_encoder.layer.9.attention.self.key.bias\n",
            "I will be frozen: model_stress_encoder.layer.9.attention.self.value.weight\n",
            "I will be frozen: model_stress_encoder.layer.9.attention.self.value.bias\n",
            "I will be frozen: model_stress_encoder.layer.9.attention.output.dense.weight\n",
            "I will be frozen: model_stress_encoder.layer.9.attention.output.dense.bias\n",
            "I will be frozen: model_stress_encoder.layer.9.attention.output.LayerNorm.weight\n",
            "I will be frozen: model_stress_encoder.layer.9.attention.output.LayerNorm.bias\n",
            "I will be frozen: model_stress_encoder.layer.9.intermediate.dense.weight\n",
            "I will be frozen: model_stress_encoder.layer.9.intermediate.dense.bias\n",
            "I will be frozen: model_stress_encoder.layer.9.output.dense.weight\n",
            "I will be frozen: model_stress_encoder.layer.9.output.dense.bias\n",
            "I will be frozen: model_stress_encoder.layer.9.output.LayerNorm.weight\n",
            "I will be frozen: model_stress_encoder.layer.9.output.LayerNorm.bias\n",
            "I will be frozen: model_stress_encoder.layer.10.attention.self.query.weight\n",
            "I will be frozen: model_stress_encoder.layer.10.attention.self.query.bias\n",
            "I will be frozen: model_stress_encoder.layer.10.attention.self.key.weight\n",
            "I will be frozen: model_stress_encoder.layer.10.attention.self.key.bias\n",
            "I will be frozen: model_stress_encoder.layer.10.attention.self.value.weight\n",
            "I will be frozen: model_stress_encoder.layer.10.attention.self.value.bias\n",
            "I will be frozen: model_stress_encoder.layer.10.attention.output.dense.weight\n",
            "I will be frozen: model_stress_encoder.layer.10.attention.output.dense.bias\n",
            "I will be frozen: model_stress_encoder.layer.10.attention.output.LayerNorm.weight\n",
            "I will be frozen: model_stress_encoder.layer.10.attention.output.LayerNorm.bias\n",
            "I will be frozen: model_stress_encoder.layer.10.intermediate.dense.weight\n",
            "I will be frozen: model_stress_encoder.layer.10.intermediate.dense.bias\n",
            "I will be frozen: model_stress_encoder.layer.10.output.dense.weight\n",
            "I will be frozen: model_stress_encoder.layer.10.output.dense.bias\n",
            "I will be frozen: model_stress_encoder.layer.10.output.LayerNorm.weight\n",
            "I will be frozen: model_stress_encoder.layer.10.output.LayerNorm.bias\n",
            "I will be frozen: model_stress_encoder.layer.11.attention.self.query.weight\n",
            "I will be frozen: model_stress_encoder.layer.11.attention.self.query.bias\n",
            "I will be frozen: model_stress_encoder.layer.11.attention.self.key.weight\n",
            "I will be frozen: model_stress_encoder.layer.11.attention.self.key.bias\n",
            "I will be frozen: model_stress_encoder.layer.11.attention.self.value.weight\n",
            "I will be frozen: model_stress_encoder.layer.11.attention.self.value.bias\n",
            "I will be frozen: model_stress_encoder.layer.11.attention.output.dense.weight\n",
            "I will be frozen: model_stress_encoder.layer.11.attention.output.dense.bias\n",
            "I will be frozen: model_stress_encoder.layer.11.attention.output.LayerNorm.weight\n",
            "I will be frozen: model_stress_encoder.layer.11.attention.output.LayerNorm.bias\n",
            "I will be frozen: model_stress_encoder.layer.11.intermediate.dense.weight\n",
            "I will be frozen: model_stress_encoder.layer.11.intermediate.dense.bias\n",
            "I will be frozen: model_stress_encoder.layer.11.output.dense.weight\n",
            "I will be frozen: model_stress_encoder.layer.11.output.dense.bias\n",
            "I will be frozen: model_stress_encoder.layer.11.output.LayerNorm.weight\n",
            "I will be frozen: model_stress_encoder.layer.11.output.LayerNorm.bias\n",
            "I won't be frozen: linear1.weight\n",
            "I won't be frozen: linear1.bias\n",
            "I won't be frozen: batchnorm.weight\n",
            "I won't be frozen: batchnorm.bias\n",
            "I won't be frozen: linear2.weight\n",
            "I won't be frozen: linear2.bias\n",
            "Number of params = 6148\n"
          ]
        }
      ]
    },
    {
      "cell_type": "code",
      "source": [
        "#from torchviz import make_dot\n",
        "\n",
        "#make_dot(yhat, params=dict(list(bert_and_probe.named_parameters()))).render(\"bert_torchviz\", format=\"png\")"
      ],
      "metadata": {
        "id": "XQQdF52O7gxC"
      },
      "execution_count": null,
      "outputs": []
    },
    {
      "cell_type": "markdown",
      "source": [
        "# train the probe"
      ],
      "metadata": {
        "id": "75iuiz1_BZdd"
      }
    },
    {
      "cell_type": "code",
      "source": [
        "from sklearn.metrics import confusion_matrix\n",
        "def train_loop_probe(model, n_epochs, train_data, dev_data):\n",
        "  # Loss function\n",
        "  criterion1 = torch.nn.MSELoss() #other options:  HuberLoss  L1Loss\n",
        "  criterion2 = torch.nn.MSELoss()\n",
        "  best_loss = np.inf\n",
        "  patience = 10\n",
        "  triggertimes = 0\n",
        "  hist_loss_train = []\n",
        "  hist_loss_val = []\n",
        "\n",
        "  hist_tp_train = []\n",
        "  hist_tn_train = []\n",
        "  hist_fp_train = []\n",
        "  hist_fn_train = []\n",
        "\n",
        "  hist_tp_val = []\n",
        "  hist_tn_val = []\n",
        "  hist_fp_val = []\n",
        "  hist_fn_val = []\n",
        "  for e in range(1, n_epochs + 1):\n",
        "      #TRAIN\n",
        "      model.train()\n",
        "      train_loss_total = 0\n",
        "      y_hat_train = []\n",
        "      y_train = []\n",
        "      for batch in train_data:\n",
        "          inputs,labels,logits = batch\n",
        "          logits = torch.tensor(logits, dtype = torch.float).to(device)\n",
        "\n",
        "          input_ids = inputs['input_ids']\n",
        "          attention_mask = inputs['attention_mask']\n",
        "          model.zero_grad()\n",
        "\n",
        "          \n",
        "          outputs = model(input_ids=input_ids.to(device),\n",
        "                          attention_mask=attention_mask.to(device))\n",
        "          \n",
        "          y_hat_train.extend(np.argmax(outputs.cpu().detach().numpy(),axis =1 ))\n",
        "          y_train.extend(np.argmax(logits.cpu().detach().numpy(),axis =1 ))\n",
        "\n",
        "          loss = criterion1(outputs.view(-1,2), logits.view(-1,2))\n",
        "          \n",
        "\n",
        "          loss.backward()\n",
        "          train_loss_total+=loss.item()\n",
        "          torch.nn.utils.clip_grad_norm_(model.parameters(), 1.0)\n",
        "          optimizer.step()\n",
        "          \n",
        "      \n",
        "      # DEV\n",
        "      model.eval()\n",
        "      dev_loss_total = 0\n",
        "      y_hat_val = []\n",
        "      y_val = []\n",
        "      with torch.no_grad():\n",
        "          for batch in dev_data:\n",
        "              inputs,labels,logits = batch\n",
        "              logits = torch.tensor(logits, dtype = torch.float).to(device)\n",
        "\n",
        "              input_ids = inputs['input_ids']\n",
        "              attention_mask = inputs['attention_mask']\n",
        "\n",
        "              outputs = model(input_ids=input_ids.to(device),\n",
        "                          attention_mask=attention_mask.to(device))\n",
        "              \n",
        "              y_hat_val.extend(np.argmax(outputs.cpu().detach().numpy(),axis =1 ))\n",
        "              y_val.extend(np.argmax(logits.cpu().detach().numpy(),axis =1 ))\n",
        "              \n",
        "              loss = criterion2(outputs.view(-1,2), logits.view(-1, 2))\n",
        "\n",
        "              \n",
        "              \n",
        "              dev_loss_total += loss.item()\n",
        "      \n",
        "      \n",
        "      current_train_loss = train_loss_total/len(train_data)\n",
        "      current_val_loss = dev_loss_total/len(dev_data)\n",
        "      hist_loss_train.append(current_train_loss)\n",
        "      hist_loss_val.append(current_val_loss)\n",
        "\n",
        "      \n",
        "      tn, fp, fn, tp = confusion_matrix(y_train, y_hat_train).ravel()\n",
        "      hist_tp_train.append(tp)\n",
        "      hist_tn_train.append(tn)\n",
        "      hist_fp_train.append(fp)\n",
        "      hist_fn_train.append(fn)\n",
        "      print(f'Train : TP = {tp}, TN = {tn}, FP = {fp}, FN = {fn}')\n",
        "\n",
        "\n",
        "      \n",
        "      tn, fp, fn, tp = confusion_matrix(y_val, y_hat_val).ravel()\n",
        "      hist_tp_val.append(tp)\n",
        "      hist_tn_val.append(tn)\n",
        "      hist_fp_val.append(fp)\n",
        "      hist_fn_val.append(fn)\n",
        "      \n",
        "      print(f'Val : TP = {tp}, TN = {tn}, FP = {fp}, FN = {fn}')\n",
        "\n",
        "      print(f\"Epoch {e}, Train loss = {current_train_loss}, Dev loss = {current_val_loss}\")\n",
        "\n",
        "      # choose to use train loss or val loss for earlystopping\n",
        "      patience_loss = train_loss_total\n",
        "      if patience_loss >= best_loss:\n",
        "        print('Triggered')\n",
        "        trigger_times += 1\n",
        "        if trigger_times >= patience:\n",
        "            print('Early stopping!')\n",
        "            model.load_state_dict(best_model_dict)\n",
        "\n",
        "            df = pd.DataFrame()\n",
        "            df['tp_train'] = hist_tp_train\n",
        "            df['tn_train'] = hist_tn_train\n",
        "            df['fp_train'] = hist_fp_train\n",
        "            df['fn_train'] = hist_fn_train\n",
        "            \n",
        "            df['tp_val'] = hist_tp_val\n",
        "            df['tn_val'] = hist_tn_val\n",
        "            df['fp_val'] = hist_fp_val\n",
        "            df['fn_val'] = hist_fn_val\n",
        "\n",
        "            df['train_loss'] = hist_loss_train\n",
        "            df['val_loss'] = hist_loss_val\n",
        "            return df\n",
        "      else:\n",
        "        best_loss = patience_loss\n",
        "        best_model_dict = model.state_dict()\n",
        "        trigger_times = 0\n",
        "\n",
        "        \n",
        "        torch.save({\n",
        "        'model_state_dict': model.state_dict(),\n",
        "        'optimizer_state_dict': optimizer.state_dict(),\n",
        "        'hist_loss_train': hist_loss_train,\n",
        "        'hist_loss_val': hist_loss_val\n",
        "                    }, env+'best_1.pth')\n",
        "      \n",
        "  df = pd.DataFrame()\n",
        "  df['tp_train'] = hist_tp_train\n",
        "  df['tn_train'] = hist_tn_train\n",
        "  df['fp_train'] = hist_fp_train\n",
        "  df['fn_train'] = hist_fn_train\n",
        "  \n",
        "  df['tp_val'] = hist_tp_val\n",
        "  df['tn_val'] = hist_tn_val\n",
        "  df['fp_val'] = hist_fp_val\n",
        "  df['fn_val'] = hist_fn_val\n",
        "\n",
        "  df['train_loss'] = hist_loss_train\n",
        "  df['val_loss'] = hist_loss_val\n",
        "  return df"
      ],
      "metadata": {
        "id": "qGNvAx3Gfmj5"
      },
      "execution_count": null,
      "outputs": []
    },
    {
      "cell_type": "code",
      "source": [
        "df = train_loop_probe(bert_and_probe, n_epochs=1000,\n",
        "                 train_data=train, dev_data=test)"
      ],
      "metadata": {
        "colab": {
          "base_uri": "https://localhost:8080/"
        },
        "id": "tBz3X31G9cCW",
        "outputId": "87649261-eb6c-43d3-996b-9860907e03fb"
      },
      "execution_count": null,
      "outputs": [
        {
          "output_type": "stream",
          "name": "stdout",
          "text": [
            "Train : TP = 420, TN = 1107, FP = 1006, FN = 305\n",
            "Val : TP = 163, TN = 74, FP = 459, FN = 19\n",
            "Epoch 1, Train loss = 9.133581777636925, Dev loss = 12.520495953767195\n",
            "Train : TP = 482, TN = 1175, FP = 938, FN = 243\n",
            "Val : TP = 173, TN = 39, FP = 494, FN = 9\n",
            "Epoch 2, Train loss = 8.763163936272097, Dev loss = 15.23002288652503\n",
            "Train : TP = 473, TN = 1180, FP = 933, FN = 252\n",
            "Val : TP = 171, TN = 43, FP = 490, FN = 11\n",
            "Epoch 3, Train loss = 8.657809053913931, Dev loss = 15.616560314012611\n",
            "Train : TP = 509, TN = 1208, FP = 905, FN = 216\n",
            "Val : TP = 177, TN = 30, FP = 503, FN = 5\n",
            "Epoch 4, Train loss = 8.483783941590383, Dev loss = 17.734655504641324\n",
            "Train : TP = 537, TN = 1232, FP = 881, FN = 188\n",
            "Val : TP = 136, TN = 181, FP = 352, FN = 46\n",
            "Epoch 5, Train loss = 8.285139083862305, Dev loss = 11.0061674947324\n",
            "Train : TP = 525, TN = 1262, FP = 851, FN = 200\n",
            "Val : TP = 136, TN = 180, FP = 353, FN = 46\n",
            "Epoch 6, Train loss = 8.13501799508427, Dev loss = 10.917963898700217\n",
            "Train : TP = 538, TN = 1237, FP = 876, FN = 187\n",
            "Val : TP = 171, TN = 55, FP = 478, FN = 11\n",
            "Epoch 7, Train loss = 8.07829340924038, Dev loss = 15.855827455935271\n",
            "Train : TP = 547, TN = 1247, FP = 866, FN = 178\n",
            "Val : TP = 144, TN = 143, FP = 390, FN = 38\n",
            "Epoch 8, Train loss = 7.87728586089745, Dev loss = 12.465742442918861\n",
            "Train : TP = 564, TN = 1310, FP = 803, FN = 161\n",
            "Val : TP = 157, TN = 97, FP = 436, FN = 25\n",
            "Epoch 9, Train loss = 7.800293600961064, Dev loss = 13.82469890428626\n",
            "Train : TP = 571, TN = 1299, FP = 814, FN = 154\n",
            "Val : TP = 138, TN = 182, FP = 351, FN = 44\n",
            "Epoch 10, Train loss = 7.734397791744618, Dev loss = 11.26029574352762\n",
            "Train : TP = 592, TN = 1288, FP = 825, FN = 133\n",
            "Val : TP = 122, TN = 258, FP = 275, FN = 60\n",
            "Epoch 11, Train loss = 7.64933833111538, Dev loss = 9.680914277615754\n",
            "Train : TP = 586, TN = 1342, FP = 771, FN = 139\n",
            "Val : TP = 157, TN = 95, FP = 438, FN = 25\n",
            "Epoch 12, Train loss = 7.442661301473553, Dev loss = 13.350360124007516\n",
            "Train : TP = 589, TN = 1304, FP = 809, FN = 136\n",
            "Val : TP = 142, TN = 149, FP = 384, FN = 40\n",
            "Epoch 13, Train loss = 7.565655188614063, Dev loss = 12.324943086375361\n",
            "Triggered\n",
            "Train : TP = 590, TN = 1349, FP = 764, FN = 135\n",
            "Val : TP = 108, TN = 275, FP = 258, FN = 74\n",
            "Epoch 14, Train loss = 7.379528136735551, Dev loss = 9.174972865892494\n",
            "Train : TP = 618, TN = 1363, FP = 750, FN = 107\n",
            "Val : TP = 160, TN = 90, FP = 443, FN = 22\n",
            "Epoch 15, Train loss = 7.178385809566198, Dev loss = 14.853482661039934\n",
            "Train : TP = 604, TN = 1353, FP = 760, FN = 121\n",
            "Val : TP = 141, TN = 167, FP = 366, FN = 41\n",
            "Epoch 16, Train loss = 7.179253208503295, Dev loss = 12.107188100400178\n",
            "Triggered\n",
            "Train : TP = 617, TN = 1365, FP = 748, FN = 108\n",
            "Val : TP = 141, TN = 167, FP = 366, FN = 41\n",
            "Epoch 17, Train loss = 7.091732410902388, Dev loss = 12.258035991502846\n",
            "Train : TP = 613, TN = 1354, FP = 759, FN = 112\n",
            "Val : TP = 138, TN = 186, FP = 347, FN = 44\n",
            "Epoch 18, Train loss = 7.064891032958299, Dev loss = 11.967780776645826\n",
            "Train : TP = 622, TN = 1377, FP = 736, FN = 103\n",
            "Val : TP = 153, TN = 125, FP = 408, FN = 29\n",
            "Epoch 19, Train loss = 6.958768544572123, Dev loss = 13.950903685196586\n",
            "Train : TP = 598, TN = 1368, FP = 745, FN = 127\n",
            "Val : TP = 132, TN = 189, FP = 344, FN = 50\n",
            "Epoch 20, Train loss = 6.99133630281084, Dev loss = 11.681212881337041\n",
            "Triggered\n",
            "Train : TP = 636, TN = 1379, FP = 734, FN = 89\n",
            "Val : TP = 150, TN = 117, FP = 416, FN = 32\n",
            "Epoch 21, Train loss = 6.842331087991093, Dev loss = 14.213003863459049\n",
            "Train : TP = 627, TN = 1436, FP = 677, FN = 98\n",
            "Val : TP = 151, TN = 115, FP = 418, FN = 31\n",
            "Epoch 22, Train loss = 6.7119044721796275, Dev loss = 14.283708447995393\n",
            "Train : TP = 618, TN = 1413, FP = 700, FN = 107\n",
            "Val : TP = 150, TN = 132, FP = 401, FN = 32\n",
            "Epoch 23, Train loss = 6.710709127147546, Dev loss = 13.359688551529594\n",
            "Train : TP = 631, TN = 1420, FP = 693, FN = 94\n",
            "Val : TP = 156, TN = 108, FP = 425, FN = 26\n",
            "Epoch 24, Train loss = 6.590150334861841, Dev loss = 14.777369001637334\n",
            "Train : TP = 628, TN = 1409, FP = 704, FN = 97\n",
            "Val : TP = 151, TN = 123, FP = 410, FN = 31\n",
            "Epoch 25, Train loss = 6.583839245056838, Dev loss = 14.599951661151389\n",
            "Train : TP = 649, TN = 1421, FP = 692, FN = 76\n",
            "Val : TP = 157, TN = 93, FP = 440, FN = 25\n",
            "Epoch 26, Train loss = 6.491947525002983, Dev loss = 16.220160898954973\n",
            "Train : TP = 643, TN = 1433, FP = 680, FN = 82\n",
            "Val : TP = 154, TN = 111, FP = 422, FN = 28\n",
            "Epoch 27, Train loss = 6.560699200362302, Dev loss = 15.694908017697541\n",
            "Triggered\n",
            "Train : TP = 642, TN = 1449, FP = 664, FN = 83\n",
            "Val : TP = 130, TN = 206, FP = 327, FN = 52\n",
            "Epoch 28, Train loss = 6.477075801806503, Dev loss = 11.334931249203889\n",
            "Train : TP = 643, TN = 1462, FP = 651, FN = 82\n",
            "Val : TP = 121, TN = 240, FP = 293, FN = 61\n",
            "Epoch 29, Train loss = 6.31750128778179, Dev loss = 10.402281906293785\n",
            "Train : TP = 654, TN = 1465, FP = 648, FN = 71\n",
            "Val : TP = 133, TN = 205, FP = 328, FN = 49\n",
            "Epoch 30, Train loss = 6.311385015423379, Dev loss = 11.559894499571428\n",
            "Train : TP = 646, TN = 1462, FP = 651, FN = 79\n",
            "Val : TP = 141, TN = 156, FP = 377, FN = 41\n",
            "Epoch 31, Train loss = 6.298790599522966, Dev loss = 13.488096610359523\n",
            "Train : TP = 651, TN = 1427, FP = 686, FN = 74\n",
            "Val : TP = 172, TN = 63, FP = 470, FN = 10\n",
            "Epoch 32, Train loss = 6.310977539319671, Dev loss = 17.767093368198562\n",
            "Triggered\n",
            "Train : TP = 657, TN = 1460, FP = 653, FN = 68\n",
            "Val : TP = 151, TN = 112, FP = 421, FN = 31\n",
            "Epoch 33, Train loss = 6.120558320806268, Dev loss = 14.974734679512355\n",
            "Train : TP = 678, TN = 1480, FP = 633, FN = 47\n",
            "Val : TP = 131, TN = 200, FP = 333, FN = 51\n",
            "Epoch 34, Train loss = 6.01152308335465, Dev loss = 11.765249418175738\n",
            "Train : TP = 657, TN = 1495, FP = 618, FN = 68\n",
            "Val : TP = 132, TN = 209, FP = 324, FN = 50\n",
            "Epoch 35, Train loss = 6.016566598013545, Dev loss = 11.539894643037215\n",
            "Triggered\n",
            "Train : TP = 655, TN = 1485, FP = 628, FN = 70\n",
            "Val : TP = 144, TN = 149, FP = 384, FN = 38\n",
            "Epoch 36, Train loss = 5.936955149254103, Dev loss = 13.19957857546599\n",
            "Train : TP = 659, TN = 1504, FP = 609, FN = 66\n",
            "Val : TP = 144, TN = 146, FP = 387, FN = 38\n",
            "Epoch 37, Train loss = 5.936137402995249, Dev loss = 13.895377076190451\n",
            "Train : TP = 647, TN = 1484, FP = 629, FN = 78\n",
            "Val : TP = 154, TN = 104, FP = 429, FN = 28\n",
            "Epoch 38, Train loss = 5.975319101569358, Dev loss = 15.498881174170453\n",
            "Triggered\n",
            "Train : TP = 661, TN = 1522, FP = 591, FN = 64\n",
            "Val : TP = 143, TN = 142, FP = 391, FN = 39\n",
            "Epoch 39, Train loss = 5.843776788604393, Dev loss = 13.989270500514818\n",
            "Train : TP = 653, TN = 1506, FP = 607, FN = 72\n",
            "Val : TP = 90, TN = 349, FP = 184, FN = 92\n",
            "Epoch 40, Train loss = 5.874824931112568, Dev loss = 8.932672770127006\n",
            "Triggered\n",
            "Train : TP = 662, TN = 1522, FP = 591, FN = 63\n",
            "Val : TP = 136, TN = 181, FP = 352, FN = 46\n",
            "Epoch 41, Train loss = 5.839574963858958, Dev loss = 12.623815951140031\n",
            "Train : TP = 661, TN = 1505, FP = 608, FN = 64\n",
            "Val : TP = 139, TN = 180, FP = 353, FN = 43\n",
            "Epoch 42, Train loss = 5.731138154362025, Dev loss = 12.3917293963225\n",
            "Train : TP = 657, TN = 1515, FP = 598, FN = 68\n",
            "Val : TP = 130, TN = 199, FP = 334, FN = 52\n",
            "Epoch 43, Train loss = 5.783805340863346, Dev loss = 11.857432199561078\n",
            "Triggered\n",
            "Train : TP = 658, TN = 1548, FP = 565, FN = 67\n",
            "Val : TP = 125, TN = 232, FP = 301, FN = 57\n",
            "Epoch 44, Train loss = 5.712820235263096, Dev loss = 10.788920195206352\n",
            "Train : TP = 664, TN = 1527, FP = 586, FN = 61\n",
            "Val : TP = 93, TN = 342, FP = 191, FN = 89\n",
            "Epoch 45, Train loss = 5.587691548165311, Dev loss = 9.255130560501762\n",
            "Train : TP = 676, TN = 1523, FP = 590, FN = 49\n",
            "Val : TP = 134, TN = 193, FP = 340, FN = 48\n",
            "Epoch 46, Train loss = 5.550765016105737, Dev loss = 12.743536368660305\n",
            "Train : TP = 674, TN = 1543, FP = 570, FN = 51\n",
            "Val : TP = 154, TN = 113, FP = 420, FN = 28\n",
            "Epoch 47, Train loss = 5.54208560472124, Dev loss = 16.12099249466606\n",
            "Train : TP = 659, TN = 1528, FP = 585, FN = 66\n",
            "Val : TP = 148, TN = 131, FP = 402, FN = 34\n",
            "Epoch 48, Train loss = 5.698385986049524, Dev loss = 14.805840119071629\n",
            "Triggered\n",
            "Train : TP = 676, TN = 1553, FP = 560, FN = 49\n",
            "Val : TP = 115, TN = 275, FP = 258, FN = 67\n",
            "Epoch 49, Train loss = 5.530428133653791, Dev loss = 10.044912255328635\n",
            "Train : TP = 667, TN = 1565, FP = 548, FN = 58\n",
            "Val : TP = 151, TN = 122, FP = 411, FN = 31\n",
            "Epoch 50, Train loss = 5.485961169339298, Dev loss = 14.890315470488176\n",
            "Train : TP = 674, TN = 1564, FP = 549, FN = 51\n",
            "Val : TP = 129, TN = 214, FP = 319, FN = 53\n",
            "Epoch 51, Train loss = 5.411929044830665, Dev loss = 11.50382311447807\n",
            "Train : TP = 684, TN = 1554, FP = 559, FN = 41\n",
            "Val : TP = 157, TN = 107, FP = 426, FN = 25\n",
            "Epoch 52, Train loss = 5.405357529608051, Dev loss = 16.001031502433445\n",
            "Train : TP = 662, TN = 1554, FP = 559, FN = 63\n",
            "Val : TP = 147, TN = 128, FP = 405, FN = 35\n",
            "Epoch 53, Train loss = 5.493070797973804, Dev loss = 15.169918226159137\n",
            "Triggered\n",
            "Train : TP = 658, TN = 1549, FP = 564, FN = 67\n",
            "Val : TP = 105, TN = 320, FP = 213, FN = 77\n",
            "Epoch 54, Train loss = 5.468305027886723, Dev loss = 9.372226798016092\n",
            "Triggered\n",
            "Train : TP = 669, TN = 1524, FP = 589, FN = 56\n",
            "Val : TP = 135, TN = 189, FP = 344, FN = 47\n",
            "Epoch 55, Train loss = 5.531576231624303, Dev loss = 13.436703847802203\n",
            "Triggered\n",
            "Train : TP = 674, TN = 1546, FP = 567, FN = 51\n",
            "Val : TP = 141, TN = 156, FP = 377, FN = 41\n",
            "Epoch 56, Train loss = 5.459069710099295, Dev loss = 13.853229439776877\n",
            "Triggered\n",
            "Train : TP = 675, TN = 1572, FP = 541, FN = 50\n",
            "Val : TP = 110, TN = 306, FP = 227, FN = 72\n",
            "Epoch 57, Train loss = 5.281807811072703, Dev loss = 9.548859181611434\n",
            "Train : TP = 684, TN = 1577, FP = 536, FN = 41\n",
            "Val : TP = 168, TN = 84, FP = 449, FN = 14\n",
            "Epoch 58, Train loss = 5.239416484082683, Dev loss = 17.809746825176738\n",
            "Train : TP = 671, TN = 1567, FP = 546, FN = 54\n",
            "Val : TP = 129, TN = 209, FP = 324, FN = 53\n",
            "Epoch 59, Train loss = 5.346586771225661, Dev loss = 11.482962525409201\n",
            "Triggered\n",
            "Train : TP = 678, TN = 1572, FP = 541, FN = 47\n",
            "Val : TP = 160, TN = 95, FP = 438, FN = 22\n",
            "Epoch 60, Train loss = 5.180300602752172, Dev loss = 16.79462673353112\n",
            "Train : TP = 674, TN = 1566, FP = 547, FN = 51\n",
            "Val : TP = 105, TN = 313, FP = 220, FN = 77\n",
            "Epoch 61, Train loss = 5.164711470014594, Dev loss = 9.38565326773602\n",
            "Train : TP = 685, TN = 1585, FP = 528, FN = 40\n",
            "Val : TP = 140, TN = 165, FP = 368, FN = 42\n",
            "Epoch 62, Train loss = 5.1907971575019065, Dev loss = 14.328727639239768\n",
            "Triggered\n",
            "Train : TP = 680, TN = 1574, FP = 539, FN = 45\n",
            "Val : TP = 168, TN = 77, FP = 456, FN = 14\n",
            "Epoch 63, Train loss = 5.044138699435116, Dev loss = 18.611044427622918\n",
            "Train : TP = 681, TN = 1576, FP = 537, FN = 44\n",
            "Val : TP = 130, TN = 185, FP = 348, FN = 52\n",
            "Epoch 64, Train loss = 5.17721103550343, Dev loss = 12.740149373593537\n",
            "Triggered\n",
            "Train : TP = 674, TN = 1561, FP = 552, FN = 51\n",
            "Val : TP = 132, TN = 198, FP = 335, FN = 50\n",
            "Epoch 65, Train loss = 5.226539737722847, Dev loss = 12.148414943529213\n",
            "Triggered\n",
            "Train : TP = 679, TN = 1602, FP = 511, FN = 46\n",
            "Val : TP = 158, TN = 107, FP = 426, FN = 24\n",
            "Epoch 66, Train loss = 5.090420235408826, Dev loss = 16.84370414070461\n",
            "Triggered\n",
            "Train : TP = 679, TN = 1604, FP = 509, FN = 46\n",
            "Val : TP = 145, TN = 148, FP = 385, FN = 37\n",
            "Epoch 67, Train loss = 5.069262852829493, Dev loss = 13.71131009640901\n",
            "Triggered\n",
            "Train : TP = 684, TN = 1616, FP = 497, FN = 41\n",
            "Val : TP = 156, TN = 114, FP = 419, FN = 26\n",
            "Epoch 68, Train loss = 5.002237960193934, Dev loss = 16.548118010811184\n",
            "Train : TP = 684, TN = 1599, FP = 514, FN = 41\n",
            "Val : TP = 144, TN = 154, FP = 379, FN = 38\n",
            "Epoch 69, Train loss = 4.987315188632922, Dev loss = 14.34050348530645\n",
            "Train : TP = 681, TN = 1606, FP = 507, FN = 44\n",
            "Val : TP = 163, TN = 102, FP = 431, FN = 19\n",
            "Epoch 70, Train loss = 5.035150340433871, Dev loss = 17.164334089859672\n",
            "Triggered\n",
            "Train : TP = 676, TN = 1608, FP = 505, FN = 49\n",
            "Val : TP = 134, TN = 175, FP = 358, FN = 48\n",
            "Epoch 71, Train loss = 4.962872320346618, Dev loss = 12.907036200813625\n",
            "Train : TP = 674, TN = 1597, FP = 516, FN = 51\n",
            "Val : TP = 157, TN = 111, FP = 422, FN = 25\n",
            "Epoch 72, Train loss = 4.987426339910272, Dev loss = 15.685034503107486\n",
            "Triggered\n",
            "Train : TP = 684, TN = 1636, FP = 477, FN = 41\n",
            "Val : TP = 125, TN = 237, FP = 296, FN = 57\n",
            "Epoch 73, Train loss = 4.852427517430166, Dev loss = 11.265397776728092\n",
            "Train : TP = 672, TN = 1618, FP = 495, FN = 53\n",
            "Val : TP = 145, TN = 156, FP = 377, FN = 37\n",
            "Epoch 74, Train loss = 4.905427587166261, Dev loss = 13.895584728406822\n",
            "Triggered\n",
            "Train : TP = 689, TN = 1610, FP = 503, FN = 36\n",
            "Val : TP = 180, TN = 32, FP = 501, FN = 2\n",
            "Epoch 75, Train loss = 4.86607441741429, Dev loss = 25.488348836484164\n",
            "Triggered\n",
            "Train : TP = 689, TN = 1609, FP = 504, FN = 36\n",
            "Val : TP = 110, TN = 277, FP = 256, FN = 72\n",
            "Epoch 76, Train loss = 4.821651616793, Dev loss = 10.353785017262334\n",
            "Train : TP = 679, TN = 1614, FP = 499, FN = 46\n",
            "Val : TP = 113, TN = 257, FP = 276, FN = 69\n",
            "Epoch 77, Train loss = 4.927951531463794, Dev loss = 10.605978654778522\n",
            "Triggered\n",
            "Train : TP = 685, TN = 1622, FP = 491, FN = 40\n",
            "Val : TP = 137, TN = 184, FP = 349, FN = 45\n",
            "Epoch 78, Train loss = 4.7958713622575395, Dev loss = 13.32648754119873\n",
            "Train : TP = 689, TN = 1618, FP = 495, FN = 36\n",
            "Val : TP = 132, TN = 200, FP = 333, FN = 50\n",
            "Epoch 79, Train loss = 4.778199115496003, Dev loss = 12.490763581317404\n",
            "Train : TP = 685, TN = 1624, FP = 489, FN = 40\n",
            "Val : TP = 152, TN = 122, FP = 411, FN = 30\n",
            "Epoch 80, Train loss = 4.7841796821422795, Dev loss = 15.638225182243016\n",
            "Triggered\n",
            "Train : TP = 684, TN = 1631, FP = 482, FN = 41\n",
            "Val : TP = 157, TN = 106, FP = 427, FN = 25\n",
            "Epoch 81, Train loss = 4.792338604337714, Dev loss = 17.178056136421535\n",
            "Triggered\n",
            "Train : TP = 688, TN = 1649, FP = 464, FN = 37\n",
            "Val : TP = 118, TN = 266, FP = 267, FN = 64\n",
            "Epoch 82, Train loss = 4.686359073338884, Dev loss = 10.39630359152089\n",
            "Train : TP = 689, TN = 1662, FP = 451, FN = 36\n",
            "Val : TP = 143, TN = 152, FP = 381, FN = 39\n",
            "Epoch 83, Train loss = 4.710270986128389, Dev loss = 14.708764615266219\n",
            "Triggered\n",
            "Train : TP = 691, TN = 1620, FP = 493, FN = 34\n",
            "Val : TP = 100, TN = 307, FP = 226, FN = 82\n",
            "Epoch 84, Train loss = 4.738938219091866, Dev loss = 9.642227235047713\n",
            "Triggered\n",
            "Train : TP = 690, TN = 1613, FP = 500, FN = 35\n",
            "Val : TP = 130, TN = 219, FP = 314, FN = 52\n",
            "Epoch 85, Train loss = 4.838826388455509, Dev loss = 12.125266904416291\n",
            "Triggered\n",
            "Train : TP = 687, TN = 1617, FP = 496, FN = 38\n",
            "Val : TP = 93, TN = 340, FP = 193, FN = 89\n",
            "Epoch 86, Train loss = 4.744907052329417, Dev loss = 9.38141273415607\n",
            "Triggered\n",
            "Train : TP = 698, TN = 1659, FP = 454, FN = 27\n",
            "Val : TP = 100, TN = 311, FP = 222, FN = 82\n",
            "Epoch 87, Train loss = 4.692887807160281, Dev loss = 9.811163404713506\n",
            "Triggered\n",
            "Train : TP = 690, TN = 1670, FP = 443, FN = 35\n",
            "Val : TP = 149, TN = 104, FP = 429, FN = 33\n",
            "Epoch 88, Train loss = 4.514244893963418, Dev loss = 17.758559766023055\n",
            "Train : TP = 690, TN = 1655, FP = 458, FN = 35\n",
            "Val : TP = 108, TN = 296, FP = 237, FN = 74\n",
            "Epoch 89, Train loss = 4.554443150423886, Dev loss = 10.096911844999894\n",
            "Triggered\n",
            "Train : TP = 689, TN = 1632, FP = 481, FN = 36\n",
            "Val : TP = 77, TN = 378, FP = 155, FN = 105\n",
            "Epoch 90, Train loss = 4.674858208452718, Dev loss = 9.132899305094844\n",
            "Triggered\n",
            "Train : TP = 687, TN = 1640, FP = 473, FN = 38\n",
            "Val : TP = 121, TN = 252, FP = 281, FN = 61\n",
            "Epoch 91, Train loss = 4.591074530997973, Dev loss = 11.463618568752123\n",
            "Triggered\n",
            "Train : TP = 695, TN = 1617, FP = 496, FN = 30\n",
            "Val : TP = 133, TN = 212, FP = 321, FN = 49\n",
            "Epoch 92, Train loss = 4.580523857909642, Dev loss = 12.357800691024117\n",
            "Triggered\n",
            "Train : TP = 683, TN = 1666, FP = 447, FN = 42\n",
            "Val : TP = 135, TN = 210, FP = 323, FN = 47\n",
            "Epoch 93, Train loss = 4.605647036198819, Dev loss = 12.21232335463814\n",
            "Triggered\n",
            "Train : TP = 686, TN = 1656, FP = 457, FN = 39\n",
            "Val : TP = 103, TN = 313, FP = 220, FN = 79\n",
            "Epoch 94, Train loss = 4.542331272296691, Dev loss = 10.166835017826246\n",
            "Triggered\n",
            "Train : TP = 690, TN = 1652, FP = 461, FN = 35\n",
            "Val : TP = 136, TN = 163, FP = 370, FN = 46\n",
            "Epoch 95, Train loss = 4.5431858917300625, Dev loss = 13.79431790890901\n",
            "Triggered\n",
            "Train : TP = 696, TN = 1639, FP = 474, FN = 29\n",
            "Val : TP = 128, TN = 215, FP = 318, FN = 54\n",
            "Epoch 96, Train loss = 4.573548000850034, Dev loss = 12.389911610147227\n",
            "Triggered\n",
            "Train : TP = 706, TN = 1673, FP = 440, FN = 19\n",
            "Val : TP = 132, TN = 190, FP = 343, FN = 50\n",
            "Epoch 97, Train loss = 4.425057630860404, Dev loss = 13.081101376077402\n",
            "Train : TP = 689, TN = 1682, FP = 431, FN = 36\n",
            "Val : TP = 141, TN = 146, FP = 387, FN = 41\n",
            "Epoch 98, Train loss = 4.459457384066635, Dev loss = 14.35263496896495\n",
            "Triggered\n",
            "Train : TP = 690, TN = 1667, FP = 446, FN = 35\n",
            "Val : TP = 137, TN = 170, FP = 363, FN = 45\n",
            "Epoch 99, Train loss = 4.506863267234202, Dev loss = 14.192347775334897\n",
            "Triggered\n",
            "Train : TP = 691, TN = 1686, FP = 427, FN = 34\n",
            "Val : TP = 98, TN = 327, FP = 206, FN = 84\n",
            "Epoch 100, Train loss = 4.369790358489819, Dev loss = 9.516410412995711\n",
            "Train : TP = 689, TN = 1682, FP = 431, FN = 36\n",
            "Val : TP = 138, TN = 172, FP = 361, FN = 44\n",
            "Epoch 101, Train loss = 4.480932203571448, Dev loss = 14.450530383897865\n",
            "Triggered\n",
            "Train : TP = 688, TN = 1642, FP = 471, FN = 37\n",
            "Val : TP = 139, TN = 186, FP = 347, FN = 43\n",
            "Epoch 102, Train loss = 4.522467074769266, Dev loss = 13.455950902855914\n",
            "Triggered\n",
            "Train : TP = 688, TN = 1642, FP = 471, FN = 37\n",
            "Val : TP = 131, TN = 194, FP = 339, FN = 51\n",
            "Epoch 103, Train loss = 4.460502078024189, Dev loss = 12.43828707155974\n",
            "Triggered\n",
            "Train : TP = 700, TN = 1671, FP = 442, FN = 25\n",
            "Val : TP = 138, TN = 178, FP = 355, FN = 44\n",
            "Epoch 104, Train loss = 4.451751585756795, Dev loss = 13.778712770213252\n",
            "Triggered\n",
            "Train : TP = 702, TN = 1711, FP = 402, FN = 23\n",
            "Val : TP = 147, TN = 167, FP = 366, FN = 35\n",
            "Epoch 105, Train loss = 4.2607268135199385, Dev loss = 13.783204410387123\n",
            "Train : TP = 696, TN = 1678, FP = 435, FN = 29\n",
            "Val : TP = 115, TN = 280, FP = 253, FN = 67\n",
            "Epoch 106, Train loss = 4.4727896626076005, Dev loss = 10.595759184464164\n",
            "Triggered\n",
            "Train : TP = 699, TN = 1690, FP = 423, FN = 26\n",
            "Val : TP = 119, TN = 241, FP = 292, FN = 63\n",
            "Epoch 107, Train loss = 4.310755215334089, Dev loss = 11.262521992559018\n",
            "Triggered\n",
            "Train : TP = 702, TN = 1688, FP = 425, FN = 23\n",
            "Val : TP = 157, TN = 121, FP = 412, FN = 25\n",
            "Epoch 108, Train loss = 4.3783053440994095, Dev loss = 15.83029780180558\n",
            "Triggered\n",
            "Train : TP = 695, TN = 1675, FP = 438, FN = 30\n",
            "Val : TP = 110, TN = 283, FP = 250, FN = 72\n",
            "Epoch 109, Train loss = 4.321282593052039, Dev loss = 10.431444976640785\n",
            "Triggered\n",
            "Train : TP = 696, TN = 1677, FP = 436, FN = 29\n",
            "Val : TP = 90, TN = 355, FP = 178, FN = 92\n",
            "Epoch 110, Train loss = 4.411898816569468, Dev loss = 9.247030714283818\n",
            "Triggered\n",
            "Train : TP = 693, TN = 1724, FP = 389, FN = 32\n",
            "Val : TP = 110, TN = 288, FP = 245, FN = 72\n",
            "Epoch 111, Train loss = 4.222641998462462, Dev loss = 10.075398569521697\n",
            "Train : TP = 694, TN = 1687, FP = 426, FN = 31\n",
            "Val : TP = 110, TN = 303, FP = 230, FN = 72\n",
            "Epoch 112, Train loss = 4.367845031652558, Dev loss = 10.207183506177818\n",
            "Triggered\n",
            "Train : TP = 691, TN = 1684, FP = 429, FN = 34\n",
            "Val : TP = 105, TN = 313, FP = 220, FN = 77\n",
            "Epoch 113, Train loss = 4.271921305174239, Dev loss = 10.005923457767652\n",
            "Triggered\n",
            "Train : TP = 695, TN = 1672, FP = 441, FN = 30\n",
            "Val : TP = 141, TN = 164, FP = 369, FN = 41\n",
            "Epoch 114, Train loss = 4.350558109497756, Dev loss = 13.98124305061672\n",
            "Triggered\n",
            "Train : TP = 695, TN = 1699, FP = 414, FN = 30\n",
            "Val : TP = 82, TN = 371, FP = 162, FN = 100\n",
            "Epoch 115, Train loss = 4.38076175464673, Dev loss = 8.89822935021442\n",
            "Triggered\n",
            "Train : TP = 698, TN = 1680, FP = 433, FN = 27\n",
            "Val : TP = 140, TN = 171, FP = 362, FN = 42\n",
            "Epoch 116, Train loss = 4.266867150081677, Dev loss = 13.666888568712318\n",
            "Triggered\n",
            "Train : TP = 695, TN = 1709, FP = 404, FN = 30\n",
            "Val : TP = 93, TN = 331, FP = 202, FN = 89\n",
            "Epoch 117, Train loss = 4.24464524997754, Dev loss = 9.324330723803977\n",
            "Triggered\n",
            "Train : TP = 699, TN = 1692, FP = 421, FN = 26\n",
            "Val : TP = 132, TN = 211, FP = 322, FN = 50\n",
            "Epoch 118, Train loss = 4.329917950576611, Dev loss = 12.377223678257154\n",
            "Triggered\n",
            "Train : TP = 699, TN = 1684, FP = 429, FN = 26\n",
            "Val : TP = 117, TN = 253, FP = 280, FN = 65\n",
            "Epoch 119, Train loss = 4.2197919400890225, Dev loss = 11.310605836951215\n",
            "Train : TP = 688, TN = 1693, FP = 420, FN = 37\n",
            "Val : TP = 122, TN = 250, FP = 283, FN = 60\n",
            "Epoch 120, Train loss = 4.3010020309619685, Dev loss = 11.226355345352836\n",
            "Triggered\n",
            "Train : TP = 696, TN = 1708, FP = 405, FN = 29\n",
            "Val : TP = 138, TN = 181, FP = 352, FN = 44\n",
            "Epoch 121, Train loss = 4.194776516282157, Dev loss = 13.620787744936736\n",
            "Train : TP = 696, TN = 1694, FP = 419, FN = 29\n",
            "Val : TP = 117, TN = 272, FP = 261, FN = 65\n",
            "Epoch 122, Train loss = 4.294850135117434, Dev loss = 10.837114748747453\n",
            "Triggered\n",
            "Train : TP = 694, TN = 1686, FP = 427, FN = 31\n",
            "Val : TP = 126, TN = 223, FP = 310, FN = 56\n",
            "Epoch 123, Train loss = 4.200412972589557, Dev loss = 12.233489907306174\n",
            "Triggered\n",
            "Train : TP = 683, TN = 1724, FP = 389, FN = 42\n",
            "Val : TP = 141, TN = 175, FP = 358, FN = 41\n",
            "Epoch 124, Train loss = 4.177120267675164, Dev loss = 13.51598598646081\n",
            "Train : TP = 701, TN = 1676, FP = 437, FN = 24\n",
            "Val : TP = 124, TN = 252, FP = 281, FN = 58\n",
            "Epoch 125, Train loss = 4.251419313837973, Dev loss = 11.19642398668372\n",
            "Triggered\n",
            "Train : TP = 687, TN = 1701, FP = 412, FN = 38\n",
            "Val : TP = 111, TN = 305, FP = 228, FN = 71\n",
            "Epoch 126, Train loss = 4.2035039609737614, Dev loss = 9.9368547356647\n",
            "Triggered\n",
            "Train : TP = 689, TN = 1713, FP = 400, FN = 36\n",
            "Val : TP = 120, TN = 243, FP = 290, FN = 62\n",
            "Epoch 127, Train loss = 4.135388873936085, Dev loss = 11.524909185326617\n",
            "Train : TP = 700, TN = 1723, FP = 390, FN = 25\n",
            "Val : TP = 110, TN = 281, FP = 252, FN = 72\n",
            "Epoch 128, Train loss = 4.165629526202598, Dev loss = 10.585401783818783\n",
            "Triggered\n",
            "Train : TP = 692, TN = 1722, FP = 391, FN = 33\n",
            "Val : TP = 90, TN = 343, FP = 190, FN = 92\n",
            "Epoch 129, Train loss = 4.2147010484438265, Dev loss = 9.389093150263248\n",
            "Triggered\n",
            "Train : TP = 702, TN = 1712, FP = 401, FN = 23\n",
            "Val : TP = 157, TN = 102, FP = 431, FN = 25\n",
            "Epoch 130, Train loss = 4.116735169057096, Dev loss = 17.551883117012355\n",
            "Train : TP = 703, TN = 1707, FP = 406, FN = 22\n",
            "Val : TP = 100, TN = 315, FP = 218, FN = 82\n",
            "Epoch 131, Train loss = 4.084535483563884, Dev loss = 9.851187457209049\n",
            "Train : TP = 700, TN = 1700, FP = 413, FN = 25\n",
            "Val : TP = 116, TN = 291, FP = 242, FN = 66\n",
            "Epoch 132, Train loss = 4.209307895617538, Dev loss = 10.64410808812017\n",
            "Triggered\n",
            "Train : TP = 686, TN = 1694, FP = 419, FN = 39\n",
            "Val : TP = 95, TN = 336, FP = 197, FN = 87\n",
            "Epoch 133, Train loss = 4.206622550996502, Dev loss = 9.626516176306684\n",
            "Triggered\n",
            "Train : TP = 702, TN = 1718, FP = 395, FN = 23\n",
            "Val : TP = 122, TN = 252, FP = 281, FN = 60\n",
            "Epoch 134, Train loss = 4.091917962170719, Dev loss = 11.621660688649053\n",
            "Triggered\n",
            "Train : TP = 693, TN = 1693, FP = 420, FN = 32\n",
            "Val : TP = 93, TN = 342, FP = 191, FN = 89\n",
            "Epoch 135, Train loss = 4.223833879727996, Dev loss = 9.562008878459102\n",
            "Triggered\n",
            "Train : TP = 704, TN = 1734, FP = 379, FN = 21\n",
            "Val : TP = 148, TN = 121, FP = 412, FN = 34\n",
            "Epoch 136, Train loss = 4.046790171205328, Dev loss = 16.083253984865934\n",
            "Train : TP = 692, TN = 1705, FP = 408, FN = 33\n",
            "Val : TP = 133, TN = 199, FP = 334, FN = 49\n",
            "Epoch 137, Train loss = 4.163578162032567, Dev loss = 12.722163532091225\n",
            "Triggered\n",
            "Train : TP = 700, TN = 1715, FP = 398, FN = 25\n",
            "Val : TP = 104, TN = 308, FP = 225, FN = 78\n",
            "Epoch 138, Train loss = 4.148033128695541, Dev loss = 10.099828823753025\n",
            "Triggered\n",
            "Train : TP = 693, TN = 1691, FP = 422, FN = 32\n",
            "Val : TP = 121, TN = 251, FP = 282, FN = 61\n",
            "Epoch 139, Train loss = 4.206943789224946, Dev loss = 11.433211160742719\n",
            "Triggered\n",
            "Train : TP = 698, TN = 1730, FP = 383, FN = 27\n",
            "Val : TP = 71, TN = 389, FP = 144, FN = 111\n",
            "Epoch 140, Train loss = 4.125813243094455, Dev loss = 8.680862986523172\n",
            "Triggered\n",
            "Train : TP = 702, TN = 1724, FP = 389, FN = 23\n",
            "Val : TP = 124, TN = 243, FP = 290, FN = 58\n",
            "Epoch 141, Train loss = 3.977013068252735, Dev loss = 11.555149327153744\n",
            "Train : TP = 699, TN = 1736, FP = 377, FN = 26\n",
            "Val : TP = 100, TN = 320, FP = 213, FN = 82\n",
            "Epoch 142, Train loss = 4.038979598645414, Dev loss = 9.717180003290592\n",
            "Triggered\n",
            "Train : TP = 697, TN = 1709, FP = 404, FN = 28\n",
            "Val : TP = 66, TN = 396, FP = 137, FN = 116\n",
            "Epoch 143, Train loss = 4.082275621006998, Dev loss = 8.682813520016877\n",
            "Triggered\n",
            "Train : TP = 692, TN = 1696, FP = 417, FN = 33\n",
            "Val : TP = 112, TN = 299, FP = 234, FN = 70\n",
            "Epoch 144, Train loss = 4.192978491943873, Dev loss = 10.37208368467248\n",
            "Triggered\n",
            "Train : TP = 696, TN = 1700, FP = 413, FN = 29\n",
            "Val : TP = 151, TN = 129, FP = 404, FN = 31\n",
            "Epoch 145, Train loss = 4.046862227193425, Dev loss = 15.534096054408861\n",
            "Triggered\n",
            "Train : TP = 704, TN = 1739, FP = 374, FN = 21\n",
            "Val : TP = 99, TN = 320, FP = 213, FN = 83\n",
            "Epoch 146, Train loss = 3.9540002386221724, Dev loss = 9.614260507666547\n",
            "Train : TP = 700, TN = 1742, FP = 371, FN = 25\n",
            "Val : TP = 136, TN = 187, FP = 346, FN = 46\n",
            "Epoch 147, Train loss = 3.997047728367066, Dev loss = 12.643754005432129\n",
            "Triggered\n",
            "Train : TP = 698, TN = 1734, FP = 379, FN = 27\n",
            "Val : TP = 99, TN = 318, FP = 215, FN = 83\n",
            "Epoch 148, Train loss = 4.0077016380395785, Dev loss = 9.796107769012451\n",
            "Triggered\n",
            "Train : TP = 697, TN = 1737, FP = 376, FN = 28\n",
            "Val : TP = 117, TN = 281, FP = 252, FN = 65\n",
            "Epoch 149, Train loss = 3.970880397250143, Dev loss = 10.552210434623387\n",
            "Triggered\n",
            "Train : TP = 706, TN = 1725, FP = 388, FN = 19\n",
            "Val : TP = 97, TN = 334, FP = 199, FN = 85\n",
            "Epoch 150, Train loss = 4.024231924099869, Dev loss = 9.381071007770041\n",
            "Triggered\n",
            "Train : TP = 696, TN = 1736, FP = 377, FN = 29\n",
            "Val : TP = 89, TN = 352, FP = 181, FN = 93\n",
            "Epoch 151, Train loss = 3.9245335252097484, Dev loss = 9.235459410625955\n",
            "Train : TP = 706, TN = 1721, FP = 392, FN = 19\n",
            "Val : TP = 108, TN = 300, FP = 233, FN = 74\n",
            "Epoch 152, Train loss = 3.980136190907339, Dev loss = 9.889452395231828\n",
            "Triggered\n",
            "Train : TP = 715, TN = 1745, FP = 368, FN = 10\n",
            "Val : TP = 135, TN = 207, FP = 326, FN = 47\n",
            "Epoch 153, Train loss = 3.8446794815277787, Dev loss = 12.509813681892727\n",
            "Train : TP = 702, TN = 1729, FP = 384, FN = 23\n",
            "Val : TP = 118, TN = 269, FP = 264, FN = 64\n",
            "Epoch 154, Train loss = 3.9325786440559987, Dev loss = 10.610190101291822\n",
            "Triggered\n",
            "Train : TP = 694, TN = 1754, FP = 359, FN = 31\n",
            "Val : TP = 127, TN = 253, FP = 280, FN = 55\n",
            "Epoch 155, Train loss = 3.8559306672449862, Dev loss = 11.04794162252675\n",
            "Triggered\n",
            "Train : TP = 702, TN = 1734, FP = 379, FN = 23\n",
            "Val : TP = 123, TN = 255, FP = 278, FN = 59\n",
            "Epoch 156, Train loss = 3.9784246482206194, Dev loss = 10.910051719002102\n",
            "Triggered\n",
            "Train : TP = 698, TN = 1744, FP = 369, FN = 27\n",
            "Val : TP = 77, TN = 381, FP = 152, FN = 105\n",
            "Epoch 157, Train loss = 3.997594246703587, Dev loss = 8.810816806295644\n",
            "Triggered\n",
            "Train : TP = 699, TN = 1763, FP = 350, FN = 26\n",
            "Val : TP = 114, TN = 267, FP = 266, FN = 68\n",
            "Epoch 158, Train loss = 3.8560358754704507, Dev loss = 10.63103487180627\n",
            "Triggered\n",
            "Train : TP = 693, TN = 1738, FP = 375, FN = 32\n",
            "Val : TP = 132, TN = 202, FP = 331, FN = 50\n",
            "Epoch 159, Train loss = 3.9407063012712458, Dev loss = 12.570335015006687\n",
            "Triggered\n",
            "Train : TP = 697, TN = 1733, FP = 380, FN = 28\n",
            "Val : TP = 94, TN = 346, FP = 187, FN = 88\n",
            "Epoch 160, Train loss = 3.963449649596482, Dev loss = 9.226977742236594\n",
            "Triggered\n",
            "Train : TP = 702, TN = 1759, FP = 354, FN = 23\n",
            "Val : TP = 135, TN = 227, FP = 306, FN = 47\n",
            "Epoch 161, Train loss = 3.825698300693812, Dev loss = 11.809720536936885\n",
            "Train : TP = 688, TN = 1726, FP = 387, FN = 37\n",
            "Val : TP = 87, TN = 334, FP = 199, FN = 95\n",
            "Epoch 162, Train loss = 4.035250411944443, Dev loss = 9.583745085674783\n",
            "Triggered\n",
            "Train : TP = 703, TN = 1751, FP = 362, FN = 22\n",
            "Val : TP = 85, TN = 351, FP = 182, FN = 97\n",
            "Epoch 163, Train loss = 3.902861090188616, Dev loss = 9.383128041806428\n",
            "Triggered\n",
            "Train : TP = 704, TN = 1745, FP = 368, FN = 21\n",
            "Val : TP = 98, TN = 320, FP = 213, FN = 84\n",
            "Epoch 164, Train loss = 3.823871272333552, Dev loss = 9.624552788941756\n",
            "Train : TP = 709, TN = 1759, FP = 354, FN = 16\n",
            "Val : TP = 99, TN = 324, FP = 209, FN = 83\n",
            "Epoch 165, Train loss = 3.769456153505304, Dev loss = 9.657653041507887\n",
            "Train : TP = 704, TN = 1766, FP = 347, FN = 21\n",
            "Val : TP = 97, TN = 331, FP = 202, FN = 85\n",
            "Epoch 166, Train loss = 3.8550351603647295, Dev loss = 9.52125014429507\n",
            "Triggered\n",
            "Train : TP = 696, TN = 1763, FP = 350, FN = 29\n",
            "Val : TP = 88, TN = 350, FP = 183, FN = 94\n",
            "Epoch 167, Train loss = 3.819054918342762, Dev loss = 9.250263504360033\n",
            "Triggered\n",
            "Train : TP = 704, TN = 1752, FP = 361, FN = 21\n",
            "Val : TP = 126, TN = 260, FP = 273, FN = 56\n",
            "Epoch 168, Train loss = 3.7792633624559038, Dev loss = 11.027229640794838\n",
            "Triggered\n",
            "Train : TP = 708, TN = 1736, FP = 377, FN = 17\n",
            "Val : TP = 109, TN = 295, FP = 238, FN = 73\n",
            "Epoch 169, Train loss = 3.8576799202501104, Dev loss = 10.1360211994337\n",
            "Triggered\n",
            "Train : TP = 701, TN = 1734, FP = 379, FN = 24\n",
            "Val : TP = 143, TN = 160, FP = 373, FN = 39\n",
            "Epoch 170, Train loss = 3.883981088574013, Dev loss = 14.007499238719111\n",
            "Triggered\n",
            "Train : TP = 700, TN = 1768, FP = 345, FN = 25\n",
            "Val : TP = 121, TN = 250, FP = 283, FN = 61\n",
            "Epoch 171, Train loss = 3.7451183501254306, Dev loss = 11.475262641906738\n",
            "Train : TP = 702, TN = 1749, FP = 364, FN = 23\n",
            "Val : TP = 94, TN = 322, FP = 211, FN = 88\n",
            "Epoch 172, Train loss = 3.8980720605743064, Dev loss = 9.548416635264521\n",
            "Triggered\n",
            "Train : TP = 690, TN = 1762, FP = 351, FN = 35\n",
            "Val : TP = 94, TN = 323, FP = 210, FN = 88\n",
            "Epoch 173, Train loss = 3.8742690019393233, Dev loss = 9.474727547687033\n",
            "Triggered\n",
            "Train : TP = 697, TN = 1768, FP = 345, FN = 28\n",
            "Val : TP = 52, TN = 438, FP = 95, FN = 130\n",
            "Epoch 174, Train loss = 3.8188877092318587, Dev loss = 8.594348244045092\n",
            "Triggered\n",
            "Train : TP = 701, TN = 1762, FP = 351, FN = 24\n",
            "Val : TP = 95, TN = 335, FP = 198, FN = 87\n",
            "Epoch 175, Train loss = 3.919552853937899, Dev loss = 9.470150657322096\n",
            "Triggered\n",
            "Train : TP = 705, TN = 1769, FP = 344, FN = 20\n",
            "Val : TP = 131, TN = 195, FP = 338, FN = 51\n",
            "Epoch 176, Train loss = 3.748330295755622, Dev loss = 12.857483200404955\n",
            "Triggered\n",
            "Train : TP = 690, TN = 1795, FP = 318, FN = 35\n",
            "Val : TP = 100, TN = 315, FP = 218, FN = 82\n",
            "Epoch 177, Train loss = 3.7296487374252147, Dev loss = 9.826731142790422\n",
            "Train : TP = 704, TN = 1750, FP = 363, FN = 21\n",
            "Val : TP = 129, TN = 209, FP = 324, FN = 53\n",
            "Epoch 178, Train loss = 3.8017817963375133, Dev loss = 12.55832468945047\n",
            "Triggered\n",
            "Train : TP = 693, TN = 1785, FP = 328, FN = 32\n",
            "Val : TP = 127, TN = 217, FP = 316, FN = 55\n",
            "Epoch 179, Train loss = 3.713247372862998, Dev loss = 12.186341907667076\n",
            "Train : TP = 704, TN = 1742, FP = 371, FN = 21\n",
            "Val : TP = 98, TN = 321, FP = 212, FN = 84\n",
            "Epoch 180, Train loss = 3.816547758123848, Dev loss = 10.065795939901601\n",
            "Triggered\n",
            "Train : TP = 699, TN = 1757, FP = 356, FN = 26\n",
            "Val : TP = 116, TN = 266, FP = 267, FN = 66\n",
            "Epoch 181, Train loss = 3.791333069962062, Dev loss = 10.78862132196841\n",
            "Triggered\n",
            "Train : TP = 699, TN = 1773, FP = 340, FN = 26\n",
            "Val : TP = 143, TN = 168, FP = 365, FN = 39\n",
            "Epoch 182, Train loss = 3.7483740415465965, Dev loss = 14.353169026582137\n",
            "Triggered\n",
            "Train : TP = 703, TN = 1767, FP = 346, FN = 22\n",
            "Val : TP = 145, TN = 140, FP = 393, FN = 37\n",
            "Epoch 183, Train loss = 3.751714813575316, Dev loss = 14.801381277001422\n",
            "Triggered\n",
            "Train : TP = 697, TN = 1774, FP = 339, FN = 28\n",
            "Val : TP = 140, TN = 165, FP = 368, FN = 42\n",
            "Epoch 184, Train loss = 3.7500822758406738, Dev loss = 14.015313853388248\n",
            "Triggered\n",
            "Train : TP = 703, TN = 1759, FP = 354, FN = 22\n",
            "Val : TP = 129, TN = 210, FP = 323, FN = 53\n",
            "Epoch 185, Train loss = 3.740995010633147, Dev loss = 12.706960263459578\n",
            "Triggered\n",
            "Train : TP = 702, TN = 1758, FP = 355, FN = 23\n",
            "Val : TP = 147, TN = 159, FP = 374, FN = 35\n",
            "Epoch 186, Train loss = 3.7360439447874434, Dev loss = 14.69784919075344\n",
            "Triggered\n",
            "Train : TP = 699, TN = 1760, FP = 353, FN = 26\n",
            "Val : TP = 111, TN = 288, FP = 245, FN = 71\n",
            "Epoch 187, Train loss = 3.7802952327085344, Dev loss = 10.295982236447541\n",
            "Triggered\n",
            "Train : TP = 701, TN = 1777, FP = 336, FN = 24\n",
            "Val : TP = 111, TN = 277, FP = 256, FN = 71\n",
            "Epoch 188, Train loss = 3.723429986600126, Dev loss = 10.38423024053159\n",
            "Triggered\n",
            "Train : TP = 694, TN = 1788, FP = 325, FN = 31\n",
            "Val : TP = 106, TN = 308, FP = 225, FN = 76\n",
            "Epoch 189, Train loss = 3.753626587685574, Dev loss = 9.838729816934336\n",
            "Triggered\n",
            "Early stopping!\n"
          ]
        }
      ]
    },
    {
      "cell_type": "code",
      "source": [
        "plt.plot(range(len(df)),df['train_loss'],df['val_loss'])\n",
        "plt.legend(['train','validation'])\n",
        "plt.title('loss')\n",
        "plt.show()\n",
        "#plt.yscale('log')"
      ],
      "metadata": {
        "id": "ujSQSLH5B-ZS",
        "colab": {
          "base_uri": "https://localhost:8080/"
        },
        "outputId": "5bc9c99b-8bc6-41a3-b82b-65b575e441f5"
      },
      "execution_count": null,
      "outputs": [
        {
          "output_type": "display_data",
          "data": {
            "text/plain": [
              "<Figure size 432x288 with 1 Axes>"
            ],
            "image/png": "[encoded data removed]"
          },
          "metadata": {
            "needs_background": "light"
          }
        }
      ]
    },
    {
      "cell_type": "code",
      "source": [
        "plt.plot(range(len(df)),df['train_loss'])\n",
        "plt.legend(['train'])\n",
        "plt.title('loss')\n",
        "plt.show()"
      ],
      "metadata": {
        "colab": {
          "base_uri": "https://localhost:8080/"
        },
        "id": "88EJTg0GjWFZ",
        "outputId": "e756cc6b-fad0-479f-d782-a785a11553bb"
      },
      "execution_count": null,
      "outputs": [
        {
          "output_type": "display_data",
          "data": {
            "text/plain": [
              "<Figure size 432x288 with 1 Axes>"
            ],
            "image/png": "[encoded data removed]"
          },
          "metadata": {
            "needs_background": "light"
          }
        }
      ]
    },
    {
      "cell_type": "code",
      "source": [
        "recall_train = df['tp_train']/(df['tp_train'] + df['fn_train'])\n",
        "precision_train = df['tp_train']/(df['tp_train'] + df['fp_train'])\n",
        "\n",
        "\n",
        "recall_val = df['tp_val']/(df['tp_val'] + df['fn_val'])\n",
        "precision_val = df['tp_val']/(df['tp_val'] + df['fp_val'])"
      ],
      "metadata": {
        "id": "l2lY4zfPkDSV"
      },
      "execution_count": null,
      "outputs": []
    },
    {
      "cell_type": "code",
      "source": [
        "plt.plot(range(len(df)),recall_train,recall_val)\n",
        "plt.legend(['train','validation'])\n",
        "plt.title('recall')\n",
        "plt.show()\n"
      ],
      "metadata": {
        "id": "nzI7lkOpWYtx",
        "colab": {
          "base_uri": "https://localhost:8080/",
          "height": 281
        },
        "outputId": "2cacff4a-d311-40ea-f98f-93ff7ea5cee4"
      },
      "execution_count": null,
      "outputs": [
        {
          "output_type": "display_data",
          "data": {
            "text/plain": [
              "<Figure size 432x288 with 1 Axes>"
            ],
            "image/png": "[encoded data removed]"
          },
          "metadata": {
            "needs_background": "light"
          }
        }
      ]
    },
    {
      "cell_type": "code",
      "source": [
        "plt.plot(range(len(df)),precision_train,precision_val)\n",
        "plt.legend(['train','validation'])\n",
        "plt.title('precision')\n",
        "plt.show()\n"
      ],
      "metadata": {
        "id": "XKYi7UYwhK3v",
        "colab": {
          "base_uri": "https://localhost:8080/",
          "height": 281
        },
        "outputId": "9a6b509a-35b6-49f6-9b51-11f9496a488e"
      },
      "execution_count": null,
      "outputs": [
        {
          "output_type": "display_data",
          "data": {
            "text/plain": [
              "<Figure size 432x288 with 1 Axes>"
            ],
            "image/png": "[encoded data removed]"
          },
          "metadata": {
            "needs_background": "light"
          }
        }
      ]
    },
    {
      "cell_type": "code",
      "source": [
        "torch.save({\n",
        "        'df': df\n",
        "                    }, env+'results_df.pth')"
      ],
      "metadata": {
        "id": "ZEPcPjyo1rcv"
      },
      "execution_count": null,
      "outputs": []
    }
  ]
}