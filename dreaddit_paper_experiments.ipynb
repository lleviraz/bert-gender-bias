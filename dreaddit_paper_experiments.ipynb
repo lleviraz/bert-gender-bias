{
  "cells": [
    {
      "cell_type": "markdown",
      "metadata": {
        "id": "E2x4yoAFZdty"
      },
      "source": [
        "# **Text based Stress Detection on “Dreaddit” Dataset**\n",
        "Advanced ML Course Final Project\n",
        "\n",
        "**Part 1 - Anchor Paper Mission Report**\n",
        "\n",
        "\n",
        "---\n",
        "Students: Eli Terris-Assa and Liad Levi-Raz\n",
        "\n",
        "\n"
      ],
      "id": "E2x4yoAFZdty"
    },
    {
      "cell_type": "markdown",
      "source": [
        "Git repo: https://github.com/lleviraz/bert-gender-bias\n",
        "\n",
        "This is the first part of an Advanced ML Course Final Project, Reichman University, 2022.\n",
        "\n",
        "---\n",
        "\n",
        "In this [Part 1 NB](https://github.com/lleviraz/bert-gender-bias/blob/main/dreaddit_paper_experiments.ipynb) we reproduced the ['Dreaddit' paper](https://arxiv.org/abs/1911.00133) results\n",
        "\n",
        "---\n",
        "By: Eli Terris-Assa and Liad Levi-Raz\n",
        "\n",
        "\n"
      ],
      "metadata": {
        "id": "dmla-EMwVpq9"
      },
      "id": "dmla-EMwVpq9"
    },
    {
      "cell_type": "markdown",
      "metadata": {
        "id": "_vYjOn78SuZE"
      },
      "source": [
        "# Setup\n",
        "\n",
        "This is a self contained notebook, when you run it will download what is needed from either google drive or Github.\n",
        "A GPU is required for training.\n"
      ],
      "id": "_vYjOn78SuZE"
    },
    {
      "cell_type": "code",
      "execution_count": 1,
      "metadata": {
        "id": "o35u-tPRP-Sc"
      },
      "outputs": [],
      "source": [
        "SEED=777"
      ],
      "id": "o35u-tPRP-Sc"
    },
    {
      "cell_type": "code",
      "execution_count": 2,
      "metadata": {
        "id": "8BTPfsdDUsxv",
        "colab": {
          "base_uri": "https://localhost:8080/"
        },
        "outputId": "895c1188-cdb3-41f3-eaee-e3e1311a7ab9"
      },
      "outputs": [
        {
          "output_type": "stream",
          "name": "stdout",
          "text": [
            "\u001b[K     |████████████████████████████████| 4.7 MB 4.9 MB/s \n",
            "\u001b[K     |████████████████████████████████| 249 kB 43.1 MB/s \n",
            "\u001b[K     |████████████████████████████████| 6.6 MB 36.9 MB/s \n",
            "\u001b[K     |████████████████████████████████| 120 kB 36.8 MB/s \n",
            "\u001b[K     |████████████████████████████████| 1.8 MB 39.7 MB/s \n",
            "\u001b[K     |████████████████████████████████| 43 kB 767 kB/s \n",
            "\u001b[K     |████████████████████████████████| 365 kB 33.6 MB/s \n",
            "\u001b[K     |████████████████████████████████| 1.3 MB 40.3 MB/s \n",
            "\u001b[K     |████████████████████████████████| 9.1 MB 32.5 MB/s \n",
            "\u001b[K     |████████████████████████████████| 157 kB 40.0 MB/s \n",
            "\u001b[K     |████████████████████████████████| 181 kB 34.9 MB/s \n",
            "\u001b[K     |████████████████████████████████| 63 kB 1.4 MB/s \n",
            "\u001b[K     |████████████████████████████████| 157 kB 34.0 MB/s \n",
            "\u001b[K     |████████████████████████████████| 157 kB 36.5 MB/s \n",
            "\u001b[K     |████████████████████████████████| 157 kB 42.0 MB/s \n",
            "\u001b[K     |████████████████████████████████| 157 kB 40.2 MB/s \n",
            "\u001b[K     |████████████████████████████████| 156 kB 13.5 MB/s \n",
            "\u001b[K     |████████████████████████████████| 212 kB 15.6 MB/s \n",
            "\u001b[K     |████████████████████████████████| 115 kB 54.6 MB/s \n",
            "\u001b[K     |████████████████████████████████| 127 kB 36.2 MB/s \n",
            "\u001b[K     |████████████████████████████████| 164 kB 38.8 MB/s \n",
            "\u001b[K     |████████████████████████████████| 4.7 MB 36.7 MB/s \n",
            "\u001b[K     |████████████████████████████████| 235 kB 39.5 MB/s \n",
            "\u001b[K     |████████████████████████████████| 78 kB 3.9 MB/s \n",
            "\u001b[K     |████████████████████████████████| 51 kB 5.8 MB/s \n",
            "\u001b[?25h  Building wheel for pathtools (setup.py) ... \u001b[?25l\u001b[?25hdone\n",
            "  Building wheel for seqeval (setup.py) ... \u001b[?25l\u001b[?25hdone\n",
            "  Building wheel for validators (setup.py) ... \u001b[?25l\u001b[?25hdone\n"
          ]
        }
      ],
      "source": [
        "!pip install -q transformers simpletransformers gensim gdown"
      ],
      "id": "8BTPfsdDUsxv"
    },
    {
      "cell_type": "code",
      "execution_count": 3,
      "metadata": {
        "id": "SqMjrzX6Srvb"
      },
      "outputs": [],
      "source": [
        "#imports and setup\n",
        "import os\n",
        "import torch\n",
        "import gdown\n",
        "import logging\n",
        "import numpy as np\n",
        "import pandas as pd\n",
        "from numpy import std\n",
        "import seaborn as sns\n",
        "from numpy import mean\n",
        "from tqdm.notebook import tqdm\n",
        "import matplotlib.pyplot as plt\n",
        "%matplotlib inline\n",
        "\n",
        "#preprocessing\n",
        "from keras.preprocessing import sequence\n",
        "from sklearn.preprocessing import LabelEncoder, MinMaxScaler,StandardScaler\n",
        "\n",
        "#sklearn related\n",
        "from sklearn.svm import SVC\n",
        "from xgboost import XGBClassifier\n",
        "from sklearn.pipeline import make_pipeline\n",
        "from sklearn.linear_model import Perceptron,LogisticRegression\n",
        "from sklearn.naive_bayes import MultinomialNB,GaussianNB\n",
        "from sklearn.tree import DecisionTreeClassifier\n",
        "from sklearn.neighbors import KNeighborsClassifier\n",
        "from sklearn.metrics import confusion_matrix,classification_report,f1_score\n",
        "from sklearn.model_selection import cross_val_score, RepeatedStratifiedKFold\n",
        "from sklearn.ensemble import GradientBoostingClassifier, RandomForestClassifier, AdaBoostClassifier\n",
        "\n",
        "#NLP related\n",
        "import transformers\n",
        "from gensim import downloader\n",
        "from simpletransformers.classification import ClassificationModel, ClassificationArgs\n",
        "\n",
        "import warnings\n",
        "warnings.filterwarnings(action='ignore', category=UserWarning)\n",
        "warnings.filterwarnings(action='ignore', category=DeprecationWarning)\n",
        "warnings.filterwarnings(action='ignore', category=FutureWarning)"
      ],
      "id": "SqMjrzX6Srvb"
    },
    {
      "cell_type": "code",
      "execution_count": 4,
      "metadata": {
        "colab": {
          "base_uri": "https://localhost:8080/"
        },
        "id": "F0GEnHyrgOpK",
        "outputId": "2e648c4b-e373-4c7f-aef7-30be6bc815d0"
      },
      "outputs": [
        {
          "output_type": "execute_result",
          "data": {
            "text/plain": [
              "device(type='cuda', index=0)"
            ]
          },
          "metadata": {},
          "execution_count": 4
        }
      ],
      "source": [
        "# Device configuration\n",
        "device = torch.device(\"cuda:0\" if torch.cuda.is_available() else \"cpu\")\n",
        "device"
      ],
      "id": "F0GEnHyrgOpK"
    },
    {
      "cell_type": "markdown",
      "source": [
        "# Load dataset\n",
        "\n",
        "- A copy of the dataset is shared here: https://drive.google.com/drive/folders/1kAOWXCtLfPK9sC72L_U7CJtXR-baHQH8?usp=sharing\n",
        "\n",
        "- A copy of the word2vec-300 embedding vocabulary file is shared here: https://drive.google.com/file/d/1Q2Fpg3K0ayRtXsjRQAdXHnUp0rYoCgjj/view?usp=sharing "
      ],
      "metadata": {
        "id": "MR3xaxnrZbvf"
      },
      "id": "MR3xaxnrZbvf"
    },
    {
      "cell_type": "code",
      "source": [
        "def download_from_gdrive(file_id,dest_path):\n",
        "  if(not os.path.exists(dest_path)):\n",
        "    url = 'https://drive.google.com/uc?id='+file_id\n",
        "    gdown.download(url, dest_path, quiet=False)\n",
        "  else:\n",
        "    print('{} already exists'.format(dest_path))"
      ],
      "metadata": {
        "id": "mL8OnJoGWg7b"
      },
      "id": "mL8OnJoGWg7b",
      "execution_count": 5,
      "outputs": []
    },
    {
      "cell_type": "code",
      "source": [
        "# a word2vec-300 embedding vocabulary file prepared once (downloading w2v-300 is 1.6GB)\n",
        "VOCAB_FILE='dreaddit_vocab.txt'\n",
        "DATASET_FILE='dreaddit_data.zip'"
      ],
      "metadata": {
        "id": "9ZcM4Tc_26HX"
      },
      "id": "9ZcM4Tc_26HX",
      "execution_count": 6,
      "outputs": []
    },
    {
      "cell_type": "code",
      "source": [
        "download_from_gdrive('1q6wpGrdvgNihjoLwlooQiFcUSVmNCsTS',DATASET_FILE)"
      ],
      "metadata": {
        "colab": {
          "base_uri": "https://localhost:8080/"
        },
        "id": "vKStF2iiWsRb",
        "outputId": "7fbdedd7-4c23-4385-d3fe-18ce3d4733b9"
      },
      "id": "vKStF2iiWsRb",
      "execution_count": 7,
      "outputs": [
        {
          "output_type": "stream",
          "name": "stderr",
          "text": [
            "Downloading...\n",
            "From: https://drive.google.com/uc?id=1q6wpGrdvgNihjoLwlooQiFcUSVmNCsTS\n",
            "To: /content/dreaddit_data.zip\n",
            "100%|██████████| 1.35M/1.35M [00:00<00:00, 89.6MB/s]\n"
          ]
        }
      ]
    },
    {
      "cell_type": "code",
      "source": [
        "download_from_gdrive('1Q2Fpg3K0ayRtXsjRQAdXHnUp0rYoCgjj',VOCAB_FILE)"
      ],
      "metadata": {
        "colab": {
          "base_uri": "https://localhost:8080/"
        },
        "id": "6FLMJWLaWsJR",
        "outputId": "19a228b5-8d69-4201-fd90-c1b9a3308101"
      },
      "id": "6FLMJWLaWsJR",
      "execution_count": 8,
      "outputs": [
        {
          "output_type": "stream",
          "name": "stderr",
          "text": [
            "Downloading...\n",
            "From: https://drive.google.com/uc?id=1Q2Fpg3K0ayRtXsjRQAdXHnUp0rYoCgjj\n",
            "To: /content/dreaddit_vocab.txt\n",
            "100%|██████████| 44.3M/44.3M [00:00<00:00, 77.0MB/s]\n"
          ]
        }
      ]
    },
    {
      "cell_type": "code",
      "execution_count": 9,
      "metadata": {
        "colab": {
          "base_uri": "https://localhost:8080/"
        },
        "id": "DFsGFYgWQMb2",
        "outputId": "e74d4c98-7f78-4c08-b0ad-001190a874e7"
      },
      "outputs": [
        {
          "output_type": "stream",
          "name": "stdout",
          "text": [
            "Archive:  dreaddit_data.zip\n",
            "  inflating: data/dreaddit-train.csv  \n",
            "  inflating: data/dreaddit-test.csv  \n"
          ]
        }
      ],
      "source": [
        "!mkdir -p data \n",
        "# !cp -n {DRIVE_PATH}/dataset/dreaddit_data.zip .\n",
        "# !cp -n {DRIVE_PATH}/{VOCAB_FILE} .\n",
        "!unzip -n dreaddit_data.zip -d data"
      ],
      "id": "DFsGFYgWQMb2"
    },
    {
      "cell_type": "code",
      "execution_count": 10,
      "metadata": {
        "colab": {
          "base_uri": "https://localhost:8080/",
          "height": 327
        },
        "id": "conscious-plaza",
        "outputId": "4aa5c55b-2852-4d31-ef05-e4ff5efc1dec"
      },
      "outputs": [
        {
          "output_type": "execute_result",
          "data": {
            "text/plain": [
              "    subreddit post_id sentence_range  \\\n",
              "0        ptsd  8601tu       (15, 20)   \n",
              "1  assistance  8lbrx9         (0, 5)   \n",
              "\n",
              "                                                text     id  label  \\\n",
              "0  He said he had not felt that way before, sugge...  33181      1   \n",
              "1  Hey there r/assistance, Not sure if this is th...   2606      0   \n",
              "\n",
              "   confidence  social_timestamp  social_karma  syntax_ari  ...  \\\n",
              "0         0.8        1521614353             5    1.806818  ...   \n",
              "1         1.0        1527009817             4    9.429737  ...   \n",
              "\n",
              "   lex_dal_min_pleasantness  lex_dal_min_activation  lex_dal_min_imagery  \\\n",
              "0                     1.000                   1.125                  1.0   \n",
              "1                     1.125                   1.000                  1.0   \n",
              "\n",
              "   lex_dal_avg_activation  lex_dal_avg_imagery  lex_dal_avg_pleasantness  \\\n",
              "0                 1.77000              1.52211                   1.89556   \n",
              "1                 1.69586              1.62045                   1.88919   \n",
              "\n",
              "   social_upvote_ratio  social_num_comments  syntax_fk_grade  sentiment  \n",
              "0                 0.86                    1         3.253573  -0.002742  \n",
              "1                 0.65                    2         8.828316   0.292857  \n",
              "\n",
              "[2 rows x 116 columns]"
            ],
            "text/html": [
              "\n",
              "  <div id=\"df-cd2927cc-4fb5-4996-b339-5e5fc1f7a02b\">\n",
              "    <div class=\"colab-df-container\">\n",
              "      <div>\n",
              "<style scoped>\n",
              "    .dataframe tbody tr th:only-of-type {\n",
              "        vertical-align: middle;\n",
              "    }\n",
              "\n",
              "    .dataframe tbody tr th {\n",
              "        vertical-align: top;\n",
              "    }\n",
              "\n",
              "    .dataframe thead th {\n",
              "        text-align: right;\n",
              "    }\n",
              "</style>\n",
              "<table border=\"1\" class=\"dataframe\">\n",
              "  <thead>\n",
              "    <tr style=\"text-align: right;\">\n",
              "      <th></th>\n",
              "      <th>subreddit</th>\n",
              "      <th>post_id</th>\n",
              "      <th>sentence_range</th>\n",
              "      <th>text</th>\n",
              "      <th>id</th>\n",
              "      <th>label</th>\n",
              "      <th>confidence</th>\n",
              "      <th>social_timestamp</th>\n",
              "      <th>social_karma</th>\n",
              "      <th>syntax_ari</th>\n",
              "      <th>...</th>\n",
              "      <th>lex_dal_min_pleasantness</th>\n",
              "      <th>lex_dal_min_activation</th>\n",
              "      <th>lex_dal_min_imagery</th>\n",
              "      <th>lex_dal_avg_activation</th>\n",
              "      <th>lex_dal_avg_imagery</th>\n",
              "      <th>lex_dal_avg_pleasantness</th>\n",
              "      <th>social_upvote_ratio</th>\n",
              "      <th>social_num_comments</th>\n",
              "      <th>syntax_fk_grade</th>\n",
              "      <th>sentiment</th>\n",
              "    </tr>\n",
              "  </thead>\n",
              "  <tbody>\n",
              "    <tr>\n",
              "      <th>0</th>\n",
              "      <td>ptsd</td>\n",
              "      <td>8601tu</td>\n",
              "      <td>(15, 20)</td>\n",
              "      <td>He said he had not felt that way before, sugge...</td>\n",
              "      <td>33181</td>\n",
              "      <td>1</td>\n",
              "      <td>0.8</td>\n",
              "      <td>1521614353</td>\n",
              "      <td>5</td>\n",
              "      <td>1.806818</td>\n",
              "      <td>...</td>\n",
              "      <td>1.000</td>\n",
              "      <td>1.125</td>\n",
              "      <td>1.0</td>\n",
              "      <td>1.77000</td>\n",
              "      <td>1.52211</td>\n",
              "      <td>1.89556</td>\n",
              "      <td>0.86</td>\n",
              "      <td>1</td>\n",
              "      <td>3.253573</td>\n",
              "      <td>-0.002742</td>\n",
              "    </tr>\n",
              "    <tr>\n",
              "      <th>1</th>\n",
              "      <td>assistance</td>\n",
              "      <td>8lbrx9</td>\n",
              "      <td>(0, 5)</td>\n",
              "      <td>Hey there r/assistance, Not sure if this is th...</td>\n",
              "      <td>2606</td>\n",
              "      <td>0</td>\n",
              "      <td>1.0</td>\n",
              "      <td>1527009817</td>\n",
              "      <td>4</td>\n",
              "      <td>9.429737</td>\n",
              "      <td>...</td>\n",
              "      <td>1.125</td>\n",
              "      <td>1.000</td>\n",
              "      <td>1.0</td>\n",
              "      <td>1.69586</td>\n",
              "      <td>1.62045</td>\n",
              "      <td>1.88919</td>\n",
              "      <td>0.65</td>\n",
              "      <td>2</td>\n",
              "      <td>8.828316</td>\n",
              "      <td>0.292857</td>\n",
              "    </tr>\n",
              "  </tbody>\n",
              "</table>\n",
              "<p>2 rows × 116 columns</p>\n",
              "</div>\n",
              "      <button class=\"colab-df-convert\" onclick=\"convertToInteractive('df-cd2927cc-4fb5-4996-b339-5e5fc1f7a02b')\"\n",
              "              title=\"Convert this dataframe to an interactive table.\"\n",
              "              style=\"display:none;\">\n",
              "        \n",
              "  <svg xmlns=\"http://www.w3.org/2000/svg\" height=\"24px\"viewBox=\"0 0 24 24\"\n",
              "       width=\"24px\">\n",
              "    <path d=\"M0 0h24v24H0V0z\" fill=\"none\"/>\n",
              "    <path d=\"M18.56 5.44l.94 2.06.94-2.06 2.06-.94-2.06-.94-.94-2.06-.94 2.06-2.06.94zm-11 1L8.5 8.5l.94-2.06 2.06-.94-2.06-.94L8.5 2.5l-.94 2.06-2.06.94zm10 10l.94 2.06.94-2.06 2.06-.94-2.06-.94-.94-2.06-.94 2.06-2.06.94z\"/><path d=\"M17.41 7.96l-1.37-1.37c-.4-.4-.92-.59-1.43-.59-.52 0-1.04.2-1.43.59L10.3 9.45l-7.72 7.72c-.78.78-.78 2.05 0 2.83L4 21.41c.39.39.9.59 1.41.59.51 0 1.02-.2 1.41-.59l7.78-7.78 2.81-2.81c.8-.78.8-2.07 0-2.86zM5.41 20L4 18.59l7.72-7.72 1.47 1.35L5.41 20z\"/>\n",
              "  </svg>\n",
              "      </button>\n",
              "      \n",
              "  <style>\n",
              "    .colab-df-container {\n",
              "      display:flex;\n",
              "      flex-wrap:wrap;\n",
              "      gap: 12px;\n",
              "    }\n",
              "\n",
              "    .colab-df-convert {\n",
              "      background-color: #E8F0FE;\n",
              "      border: none;\n",
              "      border-radius: 50%;\n",
              "      cursor: pointer;\n",
              "      display: none;\n",
              "      fill: #1967D2;\n",
              "      height: 32px;\n",
              "      padding: 0 0 0 0;\n",
              "      width: 32px;\n",
              "    }\n",
              "\n",
              "    .colab-df-convert:hover {\n",
              "      background-color: #E2EBFA;\n",
              "      box-shadow: 0px 1px 2px rgba(60, 64, 67, 0.3), 0px 1px 3px 1px rgba(60, 64, 67, 0.15);\n",
              "      fill: #174EA6;\n",
              "    }\n",
              "\n",
              "    [theme=dark] .colab-df-convert {\n",
              "      background-color: #3B4455;\n",
              "      fill: #D2E3FC;\n",
              "    }\n",
              "\n",
              "    [theme=dark] .colab-df-convert:hover {\n",
              "      background-color: #434B5C;\n",
              "      box-shadow: 0px 1px 3px 1px rgba(0, 0, 0, 0.15);\n",
              "      filter: drop-shadow(0px 1px 2px rgba(0, 0, 0, 0.3));\n",
              "      fill: #FFFFFF;\n",
              "    }\n",
              "  </style>\n",
              "\n",
              "      <script>\n",
              "        const buttonEl =\n",
              "          document.querySelector('#df-cd2927cc-4fb5-4996-b339-5e5fc1f7a02b button.colab-df-convert');\n",
              "        buttonEl.style.display =\n",
              "          google.colab.kernel.accessAllowed ? 'block' : 'none';\n",
              "\n",
              "        async function convertToInteractive(key) {\n",
              "          const element = document.querySelector('#df-cd2927cc-4fb5-4996-b339-5e5fc1f7a02b');\n",
              "          const dataTable =\n",
              "            await google.colab.kernel.invokeFunction('convertToInteractive',\n",
              "                                                     [key], {});\n",
              "          if (!dataTable) return;\n",
              "\n",
              "          const docLinkHtml = 'Like what you see? Visit the ' +\n",
              "            '<a target=\"_blank\" href=https://colab.research.google.com/notebooks/data_table.ipynb>data table notebook</a>'\n",
              "            + ' to learn more about interactive tables.';\n",
              "          element.innerHTML = '';\n",
              "          dataTable['output_type'] = 'display_data';\n",
              "          await google.colab.output.renderOutput(dataTable, element);\n",
              "          const docLink = document.createElement('div');\n",
              "          docLink.innerHTML = docLinkHtml;\n",
              "          element.appendChild(docLink);\n",
              "        }\n",
              "      </script>\n",
              "    </div>\n",
              "  </div>\n",
              "  "
            ]
          },
          "metadata": {},
          "execution_count": 10
        }
      ],
      "source": [
        "df_train = pd.read_csv(\"data/dreaddit-train.csv\")\n",
        "df_test = pd.read_csv(\"data/dreaddit-test.csv\")\n",
        "\n",
        "df_train.head(2)"
      ],
      "id": "conscious-plaza"
    },
    {
      "cell_type": "code",
      "execution_count": 11,
      "metadata": {
        "colab": {
          "base_uri": "https://localhost:8080/",
          "height": 379
        },
        "id": "demographic-wholesale",
        "outputId": "f379159a-5307-4b1a-d83b-c43376dbc3e0"
      },
      "outputs": [
        {
          "output_type": "execute_result",
          "data": {
            "text/plain": [
              "      id      subreddit post_id sentence_range  \\\n",
              "0    896  relationships  7nu7as       [50, 55]   \n",
              "1  19059        anxiety  680i6d        (5, 10)   \n",
              "\n",
              "                                                text  label  confidence  \\\n",
              "0  Its like that, if you want or not.“ ME: I have...      0         0.8   \n",
              "1  I man the front desk and my title is HR Custom...      0         1.0   \n",
              "\n",
              "   social_timestamp  social_karma  syntax_ari  ...  lex_dal_min_pleasantness  \\\n",
              "0      1.514981e+09            22   -1.238793  ...                       1.0   \n",
              "1      1.493348e+09             5    7.684583  ...                       1.4   \n",
              "\n",
              "   lex_dal_min_activation  lex_dal_min_imagery  lex_dal_avg_activation  \\\n",
              "0                   1.200                  1.0                 1.65864   \n",
              "1                   1.125                  1.0                 1.69133   \n",
              "\n",
              "   lex_dal_avg_imagery  lex_dal_avg_pleasantness  social_upvote_ratio  \\\n",
              "0              1.32245                   1.80264                 0.63   \n",
              "1              1.69180                   1.97249                 1.00   \n",
              "\n",
              "   social_num_comments  syntax_fk_grade  sentiment  \n",
              "0                   62        -0.148707   0.000000  \n",
              "1                    2         7.398222  -0.065909  \n",
              "\n",
              "[2 rows x 116 columns]"
            ],
            "text/html": [
              "\n",
              "  <div id=\"df-599e6669-e67e-4d7d-9c7e-eebb47e4f3ad\">\n",
              "    <div class=\"colab-df-container\">\n",
              "      <div>\n",
              "<style scoped>\n",
              "    .dataframe tbody tr th:only-of-type {\n",
              "        vertical-align: middle;\n",
              "    }\n",
              "\n",
              "    .dataframe tbody tr th {\n",
              "        vertical-align: top;\n",
              "    }\n",
              "\n",
              "    .dataframe thead th {\n",
              "        text-align: right;\n",
              "    }\n",
              "</style>\n",
              "<table border=\"1\" class=\"dataframe\">\n",
              "  <thead>\n",
              "    <tr style=\"text-align: right;\">\n",
              "      <th></th>\n",
              "      <th>id</th>\n",
              "      <th>subreddit</th>\n",
              "      <th>post_id</th>\n",
              "      <th>sentence_range</th>\n",
              "      <th>text</th>\n",
              "      <th>label</th>\n",
              "      <th>confidence</th>\n",
              "      <th>social_timestamp</th>\n",
              "      <th>social_karma</th>\n",
              "      <th>syntax_ari</th>\n",
              "      <th>...</th>\n",
              "      <th>lex_dal_min_pleasantness</th>\n",
              "      <th>lex_dal_min_activation</th>\n",
              "      <th>lex_dal_min_imagery</th>\n",
              "      <th>lex_dal_avg_activation</th>\n",
              "      <th>lex_dal_avg_imagery</th>\n",
              "      <th>lex_dal_avg_pleasantness</th>\n",
              "      <th>social_upvote_ratio</th>\n",
              "      <th>social_num_comments</th>\n",
              "      <th>syntax_fk_grade</th>\n",
              "      <th>sentiment</th>\n",
              "    </tr>\n",
              "  </thead>\n",
              "  <tbody>\n",
              "    <tr>\n",
              "      <th>0</th>\n",
              "      <td>896</td>\n",
              "      <td>relationships</td>\n",
              "      <td>7nu7as</td>\n",
              "      <td>[50, 55]</td>\n",
              "      <td>Its like that, if you want or not.“ ME: I have...</td>\n",
              "      <td>0</td>\n",
              "      <td>0.8</td>\n",
              "      <td>1.514981e+09</td>\n",
              "      <td>22</td>\n",
              "      <td>-1.238793</td>\n",
              "      <td>...</td>\n",
              "      <td>1.0</td>\n",
              "      <td>1.200</td>\n",
              "      <td>1.0</td>\n",
              "      <td>1.65864</td>\n",
              "      <td>1.32245</td>\n",
              "      <td>1.80264</td>\n",
              "      <td>0.63</td>\n",
              "      <td>62</td>\n",
              "      <td>-0.148707</td>\n",
              "      <td>0.000000</td>\n",
              "    </tr>\n",
              "    <tr>\n",
              "      <th>1</th>\n",
              "      <td>19059</td>\n",
              "      <td>anxiety</td>\n",
              "      <td>680i6d</td>\n",
              "      <td>(5, 10)</td>\n",
              "      <td>I man the front desk and my title is HR Custom...</td>\n",
              "      <td>0</td>\n",
              "      <td>1.0</td>\n",
              "      <td>1.493348e+09</td>\n",
              "      <td>5</td>\n",
              "      <td>7.684583</td>\n",
              "      <td>...</td>\n",
              "      <td>1.4</td>\n",
              "      <td>1.125</td>\n",
              "      <td>1.0</td>\n",
              "      <td>1.69133</td>\n",
              "      <td>1.69180</td>\n",
              "      <td>1.97249</td>\n",
              "      <td>1.00</td>\n",
              "      <td>2</td>\n",
              "      <td>7.398222</td>\n",
              "      <td>-0.065909</td>\n",
              "    </tr>\n",
              "  </tbody>\n",
              "</table>\n",
              "<p>2 rows × 116 columns</p>\n",
              "</div>\n",
              "      <button class=\"colab-df-convert\" onclick=\"convertToInteractive('df-599e6669-e67e-4d7d-9c7e-eebb47e4f3ad')\"\n",
              "              title=\"Convert this dataframe to an interactive table.\"\n",
              "              style=\"display:none;\">\n",
              "        \n",
              "  <svg xmlns=\"http://www.w3.org/2000/svg\" height=\"24px\"viewBox=\"0 0 24 24\"\n",
              "       width=\"24px\">\n",
              "    <path d=\"M0 0h24v24H0V0z\" fill=\"none\"/>\n",
              "    <path d=\"M18.56 5.44l.94 2.06.94-2.06 2.06-.94-2.06-.94-.94-2.06-.94 2.06-2.06.94zm-11 1L8.5 8.5l.94-2.06 2.06-.94-2.06-.94L8.5 2.5l-.94 2.06-2.06.94zm10 10l.94 2.06.94-2.06 2.06-.94-2.06-.94-.94-2.06-.94 2.06-2.06.94z\"/><path d=\"M17.41 7.96l-1.37-1.37c-.4-.4-.92-.59-1.43-.59-.52 0-1.04.2-1.43.59L10.3 9.45l-7.72 7.72c-.78.78-.78 2.05 0 2.83L4 21.41c.39.39.9.59 1.41.59.51 0 1.02-.2 1.41-.59l7.78-7.78 2.81-2.81c.8-.78.8-2.07 0-2.86zM5.41 20L4 18.59l7.72-7.72 1.47 1.35L5.41 20z\"/>\n",
              "  </svg>\n",
              "      </button>\n",
              "      \n",
              "  <style>\n",
              "    .colab-df-container {\n",
              "      display:flex;\n",
              "      flex-wrap:wrap;\n",
              "      gap: 12px;\n",
              "    }\n",
              "\n",
              "    .colab-df-convert {\n",
              "      background-color: #E8F0FE;\n",
              "      border: none;\n",
              "      border-radius: 50%;\n",
              "      cursor: pointer;\n",
              "      display: none;\n",
              "      fill: #1967D2;\n",
              "      height: 32px;\n",
              "      padding: 0 0 0 0;\n",
              "      width: 32px;\n",
              "    }\n",
              "\n",
              "    .colab-df-convert:hover {\n",
              "      background-color: #E2EBFA;\n",
              "      box-shadow: 0px 1px 2px rgba(60, 64, 67, 0.3), 0px 1px 3px 1px rgba(60, 64, 67, 0.15);\n",
              "      fill: #174EA6;\n",
              "    }\n",
              "\n",
              "    [theme=dark] .colab-df-convert {\n",
              "      background-color: #3B4455;\n",
              "      fill: #D2E3FC;\n",
              "    }\n",
              "\n",
              "    [theme=dark] .colab-df-convert:hover {\n",
              "      background-color: #434B5C;\n",
              "      box-shadow: 0px 1px 3px 1px rgba(0, 0, 0, 0.15);\n",
              "      filter: drop-shadow(0px 1px 2px rgba(0, 0, 0, 0.3));\n",
              "      fill: #FFFFFF;\n",
              "    }\n",
              "  </style>\n",
              "\n",
              "      <script>\n",
              "        const buttonEl =\n",
              "          document.querySelector('#df-599e6669-e67e-4d7d-9c7e-eebb47e4f3ad button.colab-df-convert');\n",
              "        buttonEl.style.display =\n",
              "          google.colab.kernel.accessAllowed ? 'block' : 'none';\n",
              "\n",
              "        async function convertToInteractive(key) {\n",
              "          const element = document.querySelector('#df-599e6669-e67e-4d7d-9c7e-eebb47e4f3ad');\n",
              "          const dataTable =\n",
              "            await google.colab.kernel.invokeFunction('convertToInteractive',\n",
              "                                                     [key], {});\n",
              "          if (!dataTable) return;\n",
              "\n",
              "          const docLinkHtml = 'Like what you see? Visit the ' +\n",
              "            '<a target=\"_blank\" href=https://colab.research.google.com/notebooks/data_table.ipynb>data table notebook</a>'\n",
              "            + ' to learn more about interactive tables.';\n",
              "          element.innerHTML = '';\n",
              "          dataTable['output_type'] = 'display_data';\n",
              "          await google.colab.output.renderOutput(dataTable, element);\n",
              "          const docLink = document.createElement('div');\n",
              "          docLink.innerHTML = docLinkHtml;\n",
              "          element.appendChild(docLink);\n",
              "        }\n",
              "      </script>\n",
              "    </div>\n",
              "  </div>\n",
              "  "
            ]
          },
          "metadata": {},
          "execution_count": 11
        }
      ],
      "source": [
        "df_test.head(2)"
      ],
      "id": "demographic-wholesale"
    },
    {
      "cell_type": "code",
      "source": [
        "# with pd.set_option(\"max_colwidth\", 1000):\n",
        "df_train[['id','text','label']].head(2)"
      ],
      "metadata": {
        "colab": {
          "base_uri": "https://localhost:8080/",
          "height": 112
        },
        "id": "fBjIkWLcUI0y",
        "outputId": "ab0c5090-695d-4786-c3fd-8c318b1a89e2"
      },
      "id": "fBjIkWLcUI0y",
      "execution_count": 12,
      "outputs": [
        {
          "output_type": "execute_result",
          "data": {
            "text/plain": [
              "      id                                               text  label\n",
              "0  33181  He said he had not felt that way before, sugge...      1\n",
              "1   2606  Hey there r/assistance, Not sure if this is th...      0"
            ],
            "text/html": [
              "\n",
              "  <div id=\"df-86e5a387-99d4-4d32-bf57-6ae35e2cd168\">\n",
              "    <div class=\"colab-df-container\">\n",
              "      <div>\n",
              "<style scoped>\n",
              "    .dataframe tbody tr th:only-of-type {\n",
              "        vertical-align: middle;\n",
              "    }\n",
              "\n",
              "    .dataframe tbody tr th {\n",
              "        vertical-align: top;\n",
              "    }\n",
              "\n",
              "    .dataframe thead th {\n",
              "        text-align: right;\n",
              "    }\n",
              "</style>\n",
              "<table border=\"1\" class=\"dataframe\">\n",
              "  <thead>\n",
              "    <tr style=\"text-align: right;\">\n",
              "      <th></th>\n",
              "      <th>id</th>\n",
              "      <th>text</th>\n",
              "      <th>label</th>\n",
              "    </tr>\n",
              "  </thead>\n",
              "  <tbody>\n",
              "    <tr>\n",
              "      <th>0</th>\n",
              "      <td>33181</td>\n",
              "      <td>He said he had not felt that way before, sugge...</td>\n",
              "      <td>1</td>\n",
              "    </tr>\n",
              "    <tr>\n",
              "      <th>1</th>\n",
              "      <td>2606</td>\n",
              "      <td>Hey there r/assistance, Not sure if this is th...</td>\n",
              "      <td>0</td>\n",
              "    </tr>\n",
              "  </tbody>\n",
              "</table>\n",
              "</div>\n",
              "      <button class=\"colab-df-convert\" onclick=\"convertToInteractive('df-86e5a387-99d4-4d32-bf57-6ae35e2cd168')\"\n",
              "              title=\"Convert this dataframe to an interactive table.\"\n",
              "              style=\"display:none;\">\n",
              "        \n",
              "  <svg xmlns=\"http://www.w3.org/2000/svg\" height=\"24px\"viewBox=\"0 0 24 24\"\n",
              "       width=\"24px\">\n",
              "    <path d=\"M0 0h24v24H0V0z\" fill=\"none\"/>\n",
              "    <path d=\"M18.56 5.44l.94 2.06.94-2.06 2.06-.94-2.06-.94-.94-2.06-.94 2.06-2.06.94zm-11 1L8.5 8.5l.94-2.06 2.06-.94-2.06-.94L8.5 2.5l-.94 2.06-2.06.94zm10 10l.94 2.06.94-2.06 2.06-.94-2.06-.94-.94-2.06-.94 2.06-2.06.94z\"/><path d=\"M17.41 7.96l-1.37-1.37c-.4-.4-.92-.59-1.43-.59-.52 0-1.04.2-1.43.59L10.3 9.45l-7.72 7.72c-.78.78-.78 2.05 0 2.83L4 21.41c.39.39.9.59 1.41.59.51 0 1.02-.2 1.41-.59l7.78-7.78 2.81-2.81c.8-.78.8-2.07 0-2.86zM5.41 20L4 18.59l7.72-7.72 1.47 1.35L5.41 20z\"/>\n",
              "  </svg>\n",
              "      </button>\n",
              "      \n",
              "  <style>\n",
              "    .colab-df-container {\n",
              "      display:flex;\n",
              "      flex-wrap:wrap;\n",
              "      gap: 12px;\n",
              "    }\n",
              "\n",
              "    .colab-df-convert {\n",
              "      background-color: #E8F0FE;\n",
              "      border: none;\n",
              "      border-radius: 50%;\n",
              "      cursor: pointer;\n",
              "      display: none;\n",
              "      fill: #1967D2;\n",
              "      height: 32px;\n",
              "      padding: 0 0 0 0;\n",
              "      width: 32px;\n",
              "    }\n",
              "\n",
              "    .colab-df-convert:hover {\n",
              "      background-color: #E2EBFA;\n",
              "      box-shadow: 0px 1px 2px rgba(60, 64, 67, 0.3), 0px 1px 3px 1px rgba(60, 64, 67, 0.15);\n",
              "      fill: #174EA6;\n",
              "    }\n",
              "\n",
              "    [theme=dark] .colab-df-convert {\n",
              "      background-color: #3B4455;\n",
              "      fill: #D2E3FC;\n",
              "    }\n",
              "\n",
              "    [theme=dark] .colab-df-convert:hover {\n",
              "      background-color: #434B5C;\n",
              "      box-shadow: 0px 1px 3px 1px rgba(0, 0, 0, 0.15);\n",
              "      filter: drop-shadow(0px 1px 2px rgba(0, 0, 0, 0.3));\n",
              "      fill: #FFFFFF;\n",
              "    }\n",
              "  </style>\n",
              "\n",
              "      <script>\n",
              "        const buttonEl =\n",
              "          document.querySelector('#df-86e5a387-99d4-4d32-bf57-6ae35e2cd168 button.colab-df-convert');\n",
              "        buttonEl.style.display =\n",
              "          google.colab.kernel.accessAllowed ? 'block' : 'none';\n",
              "\n",
              "        async function convertToInteractive(key) {\n",
              "          const element = document.querySelector('#df-86e5a387-99d4-4d32-bf57-6ae35e2cd168');\n",
              "          const dataTable =\n",
              "            await google.colab.kernel.invokeFunction('convertToInteractive',\n",
              "                                                     [key], {});\n",
              "          if (!dataTable) return;\n",
              "\n",
              "          const docLinkHtml = 'Like what you see? Visit the ' +\n",
              "            '<a target=\"_blank\" href=https://colab.research.google.com/notebooks/data_table.ipynb>data table notebook</a>'\n",
              "            + ' to learn more about interactive tables.';\n",
              "          element.innerHTML = '';\n",
              "          dataTable['output_type'] = 'display_data';\n",
              "          await google.colab.output.renderOutput(dataTable, element);\n",
              "          const docLink = document.createElement('div');\n",
              "          docLink.innerHTML = docLinkHtml;\n",
              "          element.appendChild(docLink);\n",
              "        }\n",
              "      </script>\n",
              "    </div>\n",
              "  </div>\n",
              "  "
            ]
          },
          "metadata": {},
          "execution_count": 12
        }
      ]
    },
    {
      "cell_type": "markdown",
      "source": [
        "# EDA"
      ],
      "metadata": {
        "id": "Ld_zZFOuZh0i"
      },
      "id": "Ld_zZFOuZh0i"
    },
    {
      "cell_type": "code",
      "execution_count": 13,
      "metadata": {
        "colab": {
          "base_uri": "https://localhost:8080/"
        },
        "id": "exotic-vault",
        "outputId": "5941826f-416d-467f-c417-c6de44095e8c"
      },
      "outputs": [
        {
          "output_type": "stream",
          "name": "stdout",
          "text": [
            "Train instances (2838, 116)\n",
            "Test instances (715, 116)\n"
          ]
        }
      ],
      "source": [
        "print('Train instances',df_train.shape)\n",
        "print('Test instances',df_test.shape)"
      ],
      "id": "exotic-vault"
    },
    {
      "cell_type": "code",
      "execution_count": 14,
      "metadata": {
        "colab": {
          "base_uri": "https://localhost:8080/"
        },
        "id": "proof-cliff",
        "outputId": "398a9136-2b4d-4262-f714-23687b1c5831"
      },
      "outputs": [
        {
          "output_type": "stream",
          "name": "stdout",
          "text": [
            "Categorical columns, Train: ['subreddit', 'post_id', 'sentence_range', 'text'] Test: ['subreddit', 'post_id', 'sentence_range', 'text']\n"
          ]
        }
      ],
      "source": [
        "print('Categorical columns, Train:',df_train.select_dtypes(include=['object']).columns.tolist(),\n",
        "      'Test:',df_test.select_dtypes(include=['object']).columns.tolist())\n"
      ],
      "id": "proof-cliff"
    },
    {
      "cell_type": "markdown",
      "metadata": {
        "id": "experimental-prince"
      },
      "source": [
        "## Classes balance\n",
        "- Label ---> 1 (Stress)\n",
        "- Label ---> 0 (Not stressed)\n",
        "\n",
        "The paper reported that 52.3% posts are labelled as stressed which matches our findings below"
      ],
      "id": "experimental-prince"
    },
    {
      "cell_type": "code",
      "execution_count": 15,
      "metadata": {
        "colab": {
          "base_uri": "https://localhost:8080/",
          "height": 400
        },
        "id": "3Wo0TD13ldHy",
        "outputId": "7c6ac479-09e4-4532-f93b-7df38a5a0e35"
      },
      "outputs": [
        {
          "output_type": "display_data",
          "data": {
            "text/plain": [
              "<Figure size 1008x432 with 2 Axes>"
            ],
            "image/png": "[encoded data removed]"
          },
          "metadata": {
            "needs_background": "light"
          }
        }
      ],
      "source": [
        "f,axs = plt.subplots(1,2,figsize=(14,6))\n",
        "df_train.label.value_counts().plot.bar(ax=axs[0],color=['r','g'],alpha=0.5)\n",
        "df_test.label.value_counts().plot.bar(ax=axs[1],color=['r','g'],alpha=0.5)\n",
        "axs[0].set_title('Label *Train* value counts')\n",
        "axs[1].set_title('Label *Test* value counts')\n",
        "axs[0].set_xlabel(['1-Stress','0-Not stress'])\n",
        "axs[1].set_xlabel(['1-Stress','0-Not stress'])\n",
        "plt.show()"
      ],
      "id": "3Wo0TD13ldHy"
    },
    {
      "cell_type": "code",
      "source": [
        "trn_cnts = df_train.label.value_counts()\n",
        "tst_cnts = df_test.label.value_counts()\n",
        "'{:.1f}% posts are labelled as stressed'.format((trn_cnts[1] + tst_cnts[1]) / (trn_cnts[0] + tst_cnts[0] + trn_cnts[1] + tst_cnts[1])*100)\n"
      ],
      "metadata": {
        "colab": {
          "base_uri": "https://localhost:8080/",
          "height": 36
        },
        "id": "rwe1Q4niE-RX",
        "outputId": "ee677bc3-499c-4171-cc66-dbfe9813381e"
      },
      "id": "rwe1Q4niE-RX",
      "execution_count": 16,
      "outputs": [
        {
          "output_type": "execute_result",
          "data": {
            "text/plain": [
              "'52.3% posts are labelled as stressed'"
            ],
            "application/vnd.google.colaboratory.intrinsic+json": {
              "type": "string"
            }
          },
          "metadata": {},
          "execution_count": 16
        }
      ]
    },
    {
      "cell_type": "code",
      "execution_count": 17,
      "metadata": {
        "colab": {
          "base_uri": "https://localhost:8080/",
          "height": 481
        },
        "id": "median-dealer",
        "outputId": "ab4843ed-7a35-4179-b30c-3530dbe24ab0"
      },
      "outputs": [
        {
          "output_type": "display_data",
          "data": {
            "text/plain": [
              "<Figure size 1008x432 with 2 Axes>"
            ],
            "image/png": "[encoded data removed]"
          },
          "metadata": {
            "needs_background": "light"
          }
        }
      ],
      "source": [
        "f,axs = plt.subplots(1,2,figsize=(14,6))\n",
        "df_train.subreddit.value_counts().plot.bar(ax=axs[0])\n",
        "df_test.subreddit.value_counts().plot.bar(ax=axs[1])\n",
        "axs[0].set_title('Number of posts per subreddit(Train)')\n",
        "axs[1].set_title('Number of posts per subreddit(Test)')\n",
        "axs[0].set_xlabel('Subreddit')\n",
        "axs[1].set_xlabel('Subreddit')\n",
        "axs[0].set_ylabel('# of posts')\n",
        "axs[1].set_ylabel('# of posts')\n",
        "plt.show()"
      ],
      "id": "median-dealer"
    },
    {
      "cell_type": "markdown",
      "source": [
        "## Prior Gender ratio\n",
        "\n",
        "There seems to be a ratio of 1:4 (25% texts are cetegorized as being posted by females) of texts posted by females based on the dataset \"lex_liwc_female\" aמd \"lex_liwc_male\" features.\n",
        "We noticed, however, that in online publications discussing the reported demographic statistics in Reddit posts, the ratio is closer to 2:3 (~40% women)\n",
        "\n",
        "- \"Female\" = 1\n",
        "- \"Male\" = 0"
      ],
      "metadata": {
        "id": "5EOBfR06O1ZV"
      },
      "id": "5EOBfR06O1ZV"
    },
    {
      "cell_type": "code",
      "source": [
        "from numpy.random import choice\n",
        "#pick female or male by the prior assumption of .40/.60\n",
        "choice(2,10,p=[0.4,0.6])"
      ],
      "metadata": {
        "colab": {
          "base_uri": "https://localhost:8080/"
        },
        "id": "shEU6Qjd3aD7",
        "outputId": "d56d62d4-5c33-42e6-cc0e-78afa070fff1"
      },
      "id": "shEU6Qjd3aD7",
      "execution_count": 18,
      "outputs": [
        {
          "output_type": "execute_result",
          "data": {
            "text/plain": [
              "array([0, 0, 0, 1, 0, 1, 1, 1, 1, 1])"
            ]
          },
          "metadata": {},
          "execution_count": 18
        }
      ]
    },
    {
      "cell_type": "code",
      "execution_count": 19,
      "metadata": {
        "id": "mxEoW6AqaH9D"
      },
      "outputs": [],
      "source": [
        "df_gender_trn = df_train.copy()\n",
        "df_gender_tst = df_test.copy()"
      ],
      "id": "mxEoW6AqaH9D"
    },
    {
      "cell_type": "code",
      "source": [
        "df_gender_trn['Female'] = np.where(df_gender_trn.lex_liwc_female>df_gender_trn.lex_liwc_male,1,0)\n",
        "df_gender_tst['Female'] = np.where(df_gender_tst.lex_liwc_female>df_gender_tst.lex_liwc_male,1,0)"
      ],
      "metadata": {
        "id": "fxhsshIrGO9M"
      },
      "id": "fxhsshIrGO9M",
      "execution_count": 20,
      "outputs": []
    },
    {
      "cell_type": "code",
      "source": [
        "print('Trn:\\n',df_gender_trn.Female.value_counts(),'\\nTst:\\n',df_gender_tst.Female.value_counts())"
      ],
      "metadata": {
        "colab": {
          "base_uri": "https://localhost:8080/"
        },
        "id": "OrJFFhVvxm7E",
        "outputId": "187ce135-0e16-4097-8fb5-a18cc25f5f24"
      },
      "id": "OrJFFhVvxm7E",
      "execution_count": 21,
      "outputs": [
        {
          "output_type": "stream",
          "name": "stdout",
          "text": [
            "Trn:\n",
            " 0    2127\n",
            "1     711\n",
            "Name: Female, dtype: int64 \n",
            "Tst:\n",
            " 0    533\n",
            "1    182\n",
            "Name: Female, dtype: int64\n"
          ]
        }
      ]
    },
    {
      "cell_type": "code",
      "source": [
        "f,axs = plt.subplots(1,2,figsize=(14,6))#,sharey=True)\n",
        "trn=df_gender_trn.Female.value_counts()\n",
        "male_trn = trn[0]\n",
        "female_trn = trn[1]\n",
        "female_pct_trn = female_trn/(male_trn+female_trn)\n",
        "tst=df_gender_tst.Female.value_counts()\n",
        "male_tst = tst[0]\n",
        "female_tst = tst[1]\n",
        "female_pct_tst = female_tst/(male_tst+female_tst)\n",
        "\n",
        "axs[0].bar([0,1],[male_trn,female_trn],color=['purple','navy'],alpha=0.5)\n",
        "axs[1].bar([0,1],[male_tst,female_tst],color=['purple','navy'],alpha=0.5)\n",
        "axs[0].set_title('Men(0) and Women(1) ratio in *Train* 1 to {:.2f}'.format(female_pct_trn))\n",
        "axs[1].set_title('Men(0) and Women(1) ratio in *Test* 1 to {:.2f}'.format(female_pct_tst))\n",
        "axs[0].set_xlabel(['0-Male','1-Female'])\n",
        "axs[1].set_xlabel(['0-Male','1-Female'])\n",
        "axs[0].set_xticks([0,1])\n",
        "axs[1].set_xticks([0,1])\n",
        "plt.show()"
      ],
      "metadata": {
        "colab": {
          "base_uri": "https://localhost:8080/",
          "height": 404
        },
        "id": "Zbuw-D5iHxoF",
        "outputId": "1446170b-ffac-439d-e49d-7ac224c679f7"
      },
      "id": "Zbuw-D5iHxoF",
      "execution_count": 22,
      "outputs": [
        {
          "output_type": "display_data",
          "data": {
            "text/plain": [
              "<Figure size 1008x432 with 2 Axes>"
            ],
            "image/png": "[encoded data removed]"
          },
          "metadata": {
            "needs_background": "light"
          }
        }
      ]
    },
    {
      "cell_type": "markdown",
      "source": [
        "## Posts Text lengths\n",
        "\n",
        "The paper reported the average length around 100 which matches the average of 106 we see here (for labelled instances only)"
      ],
      "metadata": {
        "id": "wKZk5yBrdVG5"
      },
      "id": "wKZk5yBrdVG5"
    },
    {
      "cell_type": "code",
      "source": [
        "# find the maximum snetence length after tokenizer\n",
        "bert_tok = transformers.BertTokenizer.from_pretrained('bert-base-uncased')\n",
        "\n",
        "def find_max_lengths(tok,texts,percent,caption):\n",
        "  max_sent_length = 0\n",
        "  max_sent_length_list = []\n",
        "\n",
        "  for sent in tqdm(texts):\n",
        "      tokens= tok.tokenize(sent)\n",
        "      ids = tok.convert_tokens_to_ids(tokens)\n",
        "      input_len = len(tokens)\n",
        "      input_len2 = len(ids)\n",
        "      assert(input_len==input_len2)\n",
        "      max_sent_length_list.append(input_len)\n",
        "\n",
        "  max_sent_length = int(np.percentile(max_sent_length_list,percent))+1\n",
        "  avg_sent_length = int(np.mean(max_sent_length_list))+1\n",
        "  print(caption + ': {}th percentile of input length<={}'.format(percent,max_sent_length))\n",
        "  print(caption + ': Average sentence length={}'.format(avg_sent_length))\n",
        "  return max_sent_length,max_sent_length_list\n",
        "\n",
        "# After trying with large values 500, 99.9=327 and others, we finally decided to\n",
        "#take a \"max len\" of more or less +/-(2) standards devitations from the mean length\n",
        "PERCENT=99.9 #60. best so far\n",
        "max_length,trn_len_list = find_max_lengths(bert_tok,df_train['text'].values,PERCENT,caption='Train')\n",
        "print (\"Train Max input length after tokenization {}\".format(max_length))\n"
      ],
      "metadata": {
        "colab": {
          "base_uri": "https://localhost:8080/",
          "height": 199,
          "referenced_widgets": [
            "edf9fc569d984503bb79583ce9906e57",
            "b209c59268f6454699d42e436bd6a6fd",
            "07324980ee1c4947aa9f2605ad28980c",
            "143d72df5a5745168a4fe2f2c2ea37d2",
            "560aa8a055c64783a40017c154f453f6",
            "7554e0c40ed54862a75b811e64b23adb",
            "d3a5628aa60c40a392b8c2c6271da3f9",
            "48cb208010274f2588b9a2b017ef15c1",
            "903eee2dfb314ba9a2e219dc57864c64",
            "bd35f0c6f75340e9b1b5eec55f295c76",
            "d7a58ab21b8c4f37b0886697cf9e9fc3",
            "daabf19b52764bc78dd0ed07cddb741e",
            "ad6c51c6a6f949d5904cdcca2a2d61e6",
            "e75f2b23dfec4b3eb6847b57e3b95ce1",
            "7a6b78c6c31d4d49a9b4c1f3f91091e2",
            "b4eeb59fb7d6437ea86a6882705695e8",
            "afb4f072441243d1ba3b78ad16a15cdf",
            "6663015bbc5f488698b6b01fc72d3ac8",
            "52253d636e2b4127abdd78a76945b690",
            "71f5570a747e4cb78233e3f0e3cd33dc",
            "1312a36cc9fa4b9a8b1f356375df9521",
            "b3b4c3bdc90f47d8aa9a519aceca9db6",
            "e77c8caf998741a2a10d9d7ed0704a27",
            "37ccd37d1d7e41dfa4e1c7f83fd3651c",
            "3b0680c75ab24c2a9964fdff1f0d8f90",
            "b030238f41dc439d833a8c10c94626c4",
            "b201e6c46ced4357874dc7e521b63bed",
            "91166da47ac2455baed983ab00021d14",
            "0ddc3cc057ad4e00beda47c3644cc0e8",
            "653f52ddca6d4eada369859842d57a04",
            "88262c7deb7343698c879b4d74a1c311",
            "b4085ae059234df1b629828f1fd1c59f",
            "b10a93c09c1e4d8fa199898451c4e8cd",
            "68b59e8509f24683b44c5123c3437b3b",
            "d5788ba53bea4160ac2bf6c591777a4e",
            "ba980c4dbb4c40db92e6aed426f18c47",
            "bab00f7654cc4e1a805e574993d9d87c",
            "48cc8221a8d8478190610c6c5c7eab4f",
            "b6ccde3d417545849d4d37d72080b4d3",
            "689b40058fc74fd6969d16721a19bf06",
            "1df4caea093f4830b452fdaa15eb79d0",
            "20fe51a1f42443cbba0c7010f7a41632",
            "0bb9a36e921f4d039d288790cae4c0a0",
            "0d9a9184c20541f78fedf220488a8016"
          ]
        },
        "id": "3eOyMFTYdZeE",
        "outputId": "7d022a7d-f61d-4f70-c6b9-1d2be9a85261"
      },
      "id": "3eOyMFTYdZeE",
      "execution_count": 23,
      "outputs": [
        {
          "output_type": "display_data",
          "data": {
            "text/plain": [
              "Downloading vocab.txt:   0%|          | 0.00/226k [00:00<?, ?B/s]"
            ],
            "application/vnd.jupyter.widget-view+json": {
              "version_major": 2,
              "version_minor": 0,
              "model_id": "edf9fc569d984503bb79583ce9906e57"
            }
          },
          "metadata": {}
        },
        {
          "output_type": "display_data",
          "data": {
            "text/plain": [
              "Downloading tokenizer_config.json:   0%|          | 0.00/28.0 [00:00<?, ?B/s]"
            ],
            "application/vnd.jupyter.widget-view+json": {
              "version_major": 2,
              "version_minor": 0,
              "model_id": "daabf19b52764bc78dd0ed07cddb741e"
            }
          },
          "metadata": {}
        },
        {
          "output_type": "display_data",
          "data": {
            "text/plain": [
              "Downloading config.json:   0%|          | 0.00/570 [00:00<?, ?B/s]"
            ],
            "application/vnd.jupyter.widget-view+json": {
              "version_major": 2,
              "version_minor": 0,
              "model_id": "e77c8caf998741a2a10d9d7ed0704a27"
            }
          },
          "metadata": {}
        },
        {
          "output_type": "display_data",
          "data": {
            "text/plain": [
              "  0%|          | 0/2838 [00:00<?, ?it/s]"
            ],
            "application/vnd.jupyter.widget-view+json": {
              "version_major": 2,
              "version_minor": 0,
              "model_id": "68b59e8509f24683b44c5123c3437b3b"
            }
          },
          "metadata": {}
        },
        {
          "output_type": "stream",
          "name": "stdout",
          "text": [
            "Train: 99.9th percentile of input length<=333\n",
            "Train: Average sentence length=106\n",
            "Train Max input length after tokenization 333\n"
          ]
        }
      ]
    },
    {
      "cell_type": "code",
      "source": [
        "_,tst_len_list = find_max_lengths(bert_tok,df_test['text'].values,PERCENT,caption='Test')"
      ],
      "metadata": {
        "colab": {
          "base_uri": "https://localhost:8080/",
          "height": 85,
          "referenced_widgets": [
            "e5f00dc89dec4211a2f26aeb202ec8fe",
            "3917b4fbd2b9442bb8cdf95a7ab819ec",
            "ee00cdf0caa24e24abf192884b5daf04",
            "d11702e813a44a8c80ac9ade30494af4",
            "1251a8f2650e462fa1a6d5383ba24e0c",
            "396ba3a6318c4c32b7866a0ce79a26b7",
            "26c4a3b881ac435db056303f5ecfe0d5",
            "5aabdf512d1743319c8717aaa6e29281",
            "6924ca36ace84affa79790d9754eb28b",
            "48b76c27f5ce49069738c7e94c3aee85",
            "7b1fe2405354421184fa446136d78b77"
          ]
        },
        "id": "4phvXRjy4mpM",
        "outputId": "09b77668-66f2-418e-ab73-89624e5d79b6"
      },
      "id": "4phvXRjy4mpM",
      "execution_count": 24,
      "outputs": [
        {
          "output_type": "display_data",
          "data": {
            "text/plain": [
              "  0%|          | 0/715 [00:00<?, ?it/s]"
            ],
            "application/vnd.jupyter.widget-view+json": {
              "version_major": 2,
              "version_minor": 0,
              "model_id": "e5f00dc89dec4211a2f26aeb202ec8fe"
            }
          },
          "metadata": {}
        },
        {
          "output_type": "stream",
          "name": "stdout",
          "text": [
            "Test: 99.9th percentile of input length<=282\n",
            "Test: Average sentence length=105\n"
          ]
        }
      ]
    },
    {
      "cell_type": "code",
      "source": [
        "f,ax = plt.subplots(1,2,figsize=(10,5))\n",
        "plt.title('Posts text lengths (# of token)')\n",
        "ax[0].hist(trn_len_list,bins=20)\n",
        "ax[0].set_title('Train text lengths')\n",
        "ax[0].set_xlabel('# of tokens')\n",
        "ax[0].set_ylabel('# of posts')\n",
        "ax[1].hist(tst_len_list,bins=20)\n",
        "ax[1].set_title('Test text lengths')\n",
        "ax[1].set_xlabel('# of tokens')\n",
        "ax[1].set_ylabel('# of posts')\n",
        "plt.show()"
      ],
      "metadata": {
        "colab": {
          "base_uri": "https://localhost:8080/",
          "height": 350
        },
        "id": "AOPKbrmU6gbR",
        "outputId": "9d41ac44-3b06-4d45-92dd-3fc8ab8e547e"
      },
      "id": "AOPKbrmU6gbR",
      "execution_count": 25,
      "outputs": [
        {
          "output_type": "display_data",
          "data": {
            "text/plain": [
              "<Figure size 720x360 with 2 Axes>"
            ],
            "image/png": "[encoded data removed]"
          },
          "metadata": {
            "needs_background": "light"
          }
        }
      ]
    },
    {
      "cell_type": "code",
      "source": [
        "#adding feature of text length \n",
        "df_train['text_length']=trn_len_list\n",
        "df_test['text_length']=tst_len_list"
      ],
      "metadata": {
        "id": "qFYpK_iCOLa1"
      },
      "id": "qFYpK_iCOLa1",
      "execution_count": 26,
      "outputs": []
    },
    {
      "cell_type": "markdown",
      "source": [
        "## Feature Selection \n",
        "\n",
        "- Taking only features with a high confidence (4/5 human annotators agreement)\n",
        "- Analyzing the correlation of features to the label, $Pearson \\ge 0.4$ "
      ],
      "metadata": {
        "id": "2pCbwW0VAQfQ"
      },
      "id": "2pCbwW0VAQfQ"
    },
    {
      "cell_type": "code",
      "execution_count": 27,
      "metadata": {
        "id": "clean-angel"
      },
      "outputs": [],
      "source": [
        "df_train = df_train.drop(['post_id', 'sentence_range', 'id'], axis = 1)\n",
        "df_test = df_test.drop(['post_id', 'sentence_range', 'id'], axis = 1)"
      ],
      "id": "clean-angel"
    },
    {
      "cell_type": "code",
      "source": [
        "#Taking only instances with 80% agreement or more (confidence >=0.8)\n",
        "print(len(df_train),len(df_test))\n",
        "df_train = df_train[df_train['confidence']>=0.8]\n",
        "df_test = df_test[df_test['confidence']>=0.8]\n",
        "print(len(df_train),len(df_test))"
      ],
      "metadata": {
        "colab": {
          "base_uri": "https://localhost:8080/"
        },
        "id": "occUppkeTegY",
        "outputId": "49e32b28-c5fd-4198-b532-0109aeeadfb3"
      },
      "id": "occUppkeTegY",
      "execution_count": 28,
      "outputs": [
        {
          "output_type": "stream",
          "name": "stdout",
          "text": [
            "2838 715\n",
            "1852 445\n"
          ]
        }
      ]
    },
    {
      "cell_type": "code",
      "execution_count": 29,
      "metadata": {
        "colab": {
          "base_uri": "https://localhost:8080/",
          "height": 497
        },
        "id": "alpha-lighting",
        "outputId": "735fd923-c17f-47ff-a64f-23e22e0e1937"
      },
      "outputs": [
        {
          "output_type": "execute_result",
          "data": {
            "text/plain": [
              "    subreddit                                               text  label  \\\n",
              "0  assistance  (I haven’t had to go in and get him for any re...      0   \n",
              "1        ptsd  And now that they have been living separately ...      1   \n",
              "2     anxiety  Hello I am having a massive anxiety attack ove...      1   \n",
              "\n",
              "   confidence  social_timestamp  social_karma  syntax_ari  lex_liwc_WC  \\\n",
              "0         0.8      1.536086e+09            13    5.298023           82   \n",
              "1         1.0      1.522649e+09             1   13.053636          158   \n",
              "2         1.0      1.497639e+09             4    3.994015           81   \n",
              "\n",
              "   lex_liwc_Analytic  lex_liwc_Clout  ...  lex_dal_min_activation  \\\n",
              "0              35.74           40.36  ...                  1.1818   \n",
              "1              16.43           52.53  ...                  1.1111   \n",
              "2               5.25            2.45  ...                  1.1250   \n",
              "\n",
              "   lex_dal_min_imagery  lex_dal_avg_activation  lex_dal_avg_imagery  \\\n",
              "0                  1.0                 1.73693              1.51233   \n",
              "1                  1.0                 1.68672              1.63582   \n",
              "2                  1.0                 1.73575              1.51176   \n",
              "\n",
              "   lex_dal_avg_pleasantness  social_upvote_ratio  social_num_comments  \\\n",
              "0                   1.89254                 0.84                    8   \n",
              "1                   1.86327                 0.67                    0   \n",
              "2                   1.79003                 0.84                    5   \n",
              "\n",
              "   syntax_fk_grade  sentiment  text_length  \n",
              "0         5.524977   0.246621          101  \n",
              "1        11.797576  -0.189773          183  \n",
              "2         5.952727  -0.262500          108  \n",
              "\n",
              "[3 rows x 114 columns]"
            ],
            "text/html": [
              "\n",
              "  <div id=\"df-0604e5b5-d9cb-44cb-8b8b-f22c8fde2d74\">\n",
              "    <div class=\"colab-df-container\">\n",
              "      <div>\n",
              "<style scoped>\n",
              "    .dataframe tbody tr th:only-of-type {\n",
              "        vertical-align: middle;\n",
              "    }\n",
              "\n",
              "    .dataframe tbody tr th {\n",
              "        vertical-align: top;\n",
              "    }\n",
              "\n",
              "    .dataframe thead th {\n",
              "        text-align: right;\n",
              "    }\n",
              "</style>\n",
              "<table border=\"1\" class=\"dataframe\">\n",
              "  <thead>\n",
              "    <tr style=\"text-align: right;\">\n",
              "      <th></th>\n",
              "      <th>subreddit</th>\n",
              "      <th>text</th>\n",
              "      <th>label</th>\n",
              "      <th>confidence</th>\n",
              "      <th>social_timestamp</th>\n",
              "      <th>social_karma</th>\n",
              "      <th>syntax_ari</th>\n",
              "      <th>lex_liwc_WC</th>\n",
              "      <th>lex_liwc_Analytic</th>\n",
              "      <th>lex_liwc_Clout</th>\n",
              "      <th>...</th>\n",
              "      <th>lex_dal_min_activation</th>\n",
              "      <th>lex_dal_min_imagery</th>\n",
              "      <th>lex_dal_avg_activation</th>\n",
              "      <th>lex_dal_avg_imagery</th>\n",
              "      <th>lex_dal_avg_pleasantness</th>\n",
              "      <th>social_upvote_ratio</th>\n",
              "      <th>social_num_comments</th>\n",
              "      <th>syntax_fk_grade</th>\n",
              "      <th>sentiment</th>\n",
              "      <th>text_length</th>\n",
              "    </tr>\n",
              "  </thead>\n",
              "  <tbody>\n",
              "    <tr>\n",
              "      <th>0</th>\n",
              "      <td>assistance</td>\n",
              "      <td>(I haven’t had to go in and get him for any re...</td>\n",
              "      <td>0</td>\n",
              "      <td>0.8</td>\n",
              "      <td>1.536086e+09</td>\n",
              "      <td>13</td>\n",
              "      <td>5.298023</td>\n",
              "      <td>82</td>\n",
              "      <td>35.74</td>\n",
              "      <td>40.36</td>\n",
              "      <td>...</td>\n",
              "      <td>1.1818</td>\n",
              "      <td>1.0</td>\n",
              "      <td>1.73693</td>\n",
              "      <td>1.51233</td>\n",
              "      <td>1.89254</td>\n",
              "      <td>0.84</td>\n",
              "      <td>8</td>\n",
              "      <td>5.524977</td>\n",
              "      <td>0.246621</td>\n",
              "      <td>101</td>\n",
              "    </tr>\n",
              "    <tr>\n",
              "      <th>1</th>\n",
              "      <td>ptsd</td>\n",
              "      <td>And now that they have been living separately ...</td>\n",
              "      <td>1</td>\n",
              "      <td>1.0</td>\n",
              "      <td>1.522649e+09</td>\n",
              "      <td>1</td>\n",
              "      <td>13.053636</td>\n",
              "      <td>158</td>\n",
              "      <td>16.43</td>\n",
              "      <td>52.53</td>\n",
              "      <td>...</td>\n",
              "      <td>1.1111</td>\n",
              "      <td>1.0</td>\n",
              "      <td>1.68672</td>\n",
              "      <td>1.63582</td>\n",
              "      <td>1.86327</td>\n",
              "      <td>0.67</td>\n",
              "      <td>0</td>\n",
              "      <td>11.797576</td>\n",
              "      <td>-0.189773</td>\n",
              "      <td>183</td>\n",
              "    </tr>\n",
              "    <tr>\n",
              "      <th>2</th>\n",
              "      <td>anxiety</td>\n",
              "      <td>Hello I am having a massive anxiety attack ove...</td>\n",
              "      <td>1</td>\n",
              "      <td>1.0</td>\n",
              "      <td>1.497639e+09</td>\n",
              "      <td>4</td>\n",
              "      <td>3.994015</td>\n",
              "      <td>81</td>\n",
              "      <td>5.25</td>\n",
              "      <td>2.45</td>\n",
              "      <td>...</td>\n",
              "      <td>1.1250</td>\n",
              "      <td>1.0</td>\n",
              "      <td>1.73575</td>\n",
              "      <td>1.51176</td>\n",
              "      <td>1.79003</td>\n",
              "      <td>0.84</td>\n",
              "      <td>5</td>\n",
              "      <td>5.952727</td>\n",
              "      <td>-0.262500</td>\n",
              "      <td>108</td>\n",
              "    </tr>\n",
              "  </tbody>\n",
              "</table>\n",
              "<p>3 rows × 114 columns</p>\n",
              "</div>\n",
              "      <button class=\"colab-df-convert\" onclick=\"convertToInteractive('df-0604e5b5-d9cb-44cb-8b8b-f22c8fde2d74')\"\n",
              "              title=\"Convert this dataframe to an interactive table.\"\n",
              "              style=\"display:none;\">\n",
              "        \n",
              "  <svg xmlns=\"http://www.w3.org/2000/svg\" height=\"24px\"viewBox=\"0 0 24 24\"\n",
              "       width=\"24px\">\n",
              "    <path d=\"M0 0h24v24H0V0z\" fill=\"none\"/>\n",
              "    <path d=\"M18.56 5.44l.94 2.06.94-2.06 2.06-.94-2.06-.94-.94-2.06-.94 2.06-2.06.94zm-11 1L8.5 8.5l.94-2.06 2.06-.94-2.06-.94L8.5 2.5l-.94 2.06-2.06.94zm10 10l.94 2.06.94-2.06 2.06-.94-2.06-.94-.94-2.06-.94 2.06-2.06.94z\"/><path d=\"M17.41 7.96l-1.37-1.37c-.4-.4-.92-.59-1.43-.59-.52 0-1.04.2-1.43.59L10.3 9.45l-7.72 7.72c-.78.78-.78 2.05 0 2.83L4 21.41c.39.39.9.59 1.41.59.51 0 1.02-.2 1.41-.59l7.78-7.78 2.81-2.81c.8-.78.8-2.07 0-2.86zM5.41 20L4 18.59l7.72-7.72 1.47 1.35L5.41 20z\"/>\n",
              "  </svg>\n",
              "      </button>\n",
              "      \n",
              "  <style>\n",
              "    .colab-df-container {\n",
              "      display:flex;\n",
              "      flex-wrap:wrap;\n",
              "      gap: 12px;\n",
              "    }\n",
              "\n",
              "    .colab-df-convert {\n",
              "      background-color: #E8F0FE;\n",
              "      border: none;\n",
              "      border-radius: 50%;\n",
              "      cursor: pointer;\n",
              "      display: none;\n",
              "      fill: #1967D2;\n",
              "      height: 32px;\n",
              "      padding: 0 0 0 0;\n",
              "      width: 32px;\n",
              "    }\n",
              "\n",
              "    .colab-df-convert:hover {\n",
              "      background-color: #E2EBFA;\n",
              "      box-shadow: 0px 1px 2px rgba(60, 64, 67, 0.3), 0px 1px 3px 1px rgba(60, 64, 67, 0.15);\n",
              "      fill: #174EA6;\n",
              "    }\n",
              "\n",
              "    [theme=dark] .colab-df-convert {\n",
              "      background-color: #3B4455;\n",
              "      fill: #D2E3FC;\n",
              "    }\n",
              "\n",
              "    [theme=dark] .colab-df-convert:hover {\n",
              "      background-color: #434B5C;\n",
              "      box-shadow: 0px 1px 3px 1px rgba(0, 0, 0, 0.15);\n",
              "      filter: drop-shadow(0px 1px 2px rgba(0, 0, 0, 0.3));\n",
              "      fill: #FFFFFF;\n",
              "    }\n",
              "  </style>\n",
              "\n",
              "      <script>\n",
              "        const buttonEl =\n",
              "          document.querySelector('#df-0604e5b5-d9cb-44cb-8b8b-f22c8fde2d74 button.colab-df-convert');\n",
              "        buttonEl.style.display =\n",
              "          google.colab.kernel.accessAllowed ? 'block' : 'none';\n",
              "\n",
              "        async function convertToInteractive(key) {\n",
              "          const element = document.querySelector('#df-0604e5b5-d9cb-44cb-8b8b-f22c8fde2d74');\n",
              "          const dataTable =\n",
              "            await google.colab.kernel.invokeFunction('convertToInteractive',\n",
              "                                                     [key], {});\n",
              "          if (!dataTable) return;\n",
              "\n",
              "          const docLinkHtml = 'Like what you see? Visit the ' +\n",
              "            '<a target=\"_blank\" href=https://colab.research.google.com/notebooks/data_table.ipynb>data table notebook</a>'\n",
              "            + ' to learn more about interactive tables.';\n",
              "          element.innerHTML = '';\n",
              "          dataTable['output_type'] = 'display_data';\n",
              "          await google.colab.output.renderOutput(dataTable, element);\n",
              "          const docLink = document.createElement('div');\n",
              "          docLink.innerHTML = docLinkHtml;\n",
              "          element.appendChild(docLink);\n",
              "        }\n",
              "      </script>\n",
              "    </div>\n",
              "  </div>\n",
              "  "
            ]
          },
          "metadata": {},
          "execution_count": 29
        }
      ],
      "source": [
        "df = pd.concat([df_train,df_test],axis=0,ignore_index=True)\n",
        "df = df.sample(frac = 1).reset_index(drop = True)\n",
        "df.head(3)"
      ],
      "id": "alpha-lighting"
    },
    {
      "cell_type": "code",
      "execution_count": 30,
      "metadata": {
        "id": "streaming-parking"
      },
      "outputs": [],
      "source": [
        "#One hot encoding for the 'subreddit' column\n",
        "le = LabelEncoder()\n",
        "df['subreddit'] = le.fit_transform(df['subreddit'])\n"
      ],
      "id": "streaming-parking"
    },
    {
      "cell_type": "code",
      "execution_count": 31,
      "metadata": {
        "colab": {
          "base_uri": "https://localhost:8080/",
          "height": 379
        },
        "id": "economic-morning",
        "outputId": "1fe27e44-92c8-4869-eece-0e51d9c26d39"
      },
      "outputs": [
        {
          "output_type": "execute_result",
          "data": {
            "text/plain": [
              "   subreddit                                               text  label  \\\n",
              "0          2  (I haven’t had to go in and get him for any re...      0   \n",
              "1          6  And now that they have been living separately ...      1   \n",
              "\n",
              "   confidence  social_timestamp  social_karma  syntax_ari  lex_liwc_WC  \\\n",
              "0         0.8      1.536086e+09            13    5.298023           82   \n",
              "1         1.0      1.522649e+09             1   13.053636          158   \n",
              "\n",
              "   lex_liwc_Analytic  lex_liwc_Clout  ...  lex_dal_min_activation  \\\n",
              "0              35.74           40.36  ...                  1.1818   \n",
              "1              16.43           52.53  ...                  1.1111   \n",
              "\n",
              "   lex_dal_min_imagery  lex_dal_avg_activation  lex_dal_avg_imagery  \\\n",
              "0                  1.0                 1.73693              1.51233   \n",
              "1                  1.0                 1.68672              1.63582   \n",
              "\n",
              "   lex_dal_avg_pleasantness  social_upvote_ratio  social_num_comments  \\\n",
              "0                   1.89254                 0.84                    8   \n",
              "1                   1.86327                 0.67                    0   \n",
              "\n",
              "   syntax_fk_grade  sentiment  text_length  \n",
              "0         5.524977   0.246621          101  \n",
              "1        11.797576  -0.189773          183  \n",
              "\n",
              "[2 rows x 114 columns]"
            ],
            "text/html": [
              "\n",
              "  <div id=\"df-f2171ca7-9c9d-48d1-b58b-def100ec85a1\">\n",
              "    <div class=\"colab-df-container\">\n",
              "      <div>\n",
              "<style scoped>\n",
              "    .dataframe tbody tr th:only-of-type {\n",
              "        vertical-align: middle;\n",
              "    }\n",
              "\n",
              "    .dataframe tbody tr th {\n",
              "        vertical-align: top;\n",
              "    }\n",
              "\n",
              "    .dataframe thead th {\n",
              "        text-align: right;\n",
              "    }\n",
              "</style>\n",
              "<table border=\"1\" class=\"dataframe\">\n",
              "  <thead>\n",
              "    <tr style=\"text-align: right;\">\n",
              "      <th></th>\n",
              "      <th>subreddit</th>\n",
              "      <th>text</th>\n",
              "      <th>label</th>\n",
              "      <th>confidence</th>\n",
              "      <th>social_timestamp</th>\n",
              "      <th>social_karma</th>\n",
              "      <th>syntax_ari</th>\n",
              "      <th>lex_liwc_WC</th>\n",
              "      <th>lex_liwc_Analytic</th>\n",
              "      <th>lex_liwc_Clout</th>\n",
              "      <th>...</th>\n",
              "      <th>lex_dal_min_activation</th>\n",
              "      <th>lex_dal_min_imagery</th>\n",
              "      <th>lex_dal_avg_activation</th>\n",
              "      <th>lex_dal_avg_imagery</th>\n",
              "      <th>lex_dal_avg_pleasantness</th>\n",
              "      <th>social_upvote_ratio</th>\n",
              "      <th>social_num_comments</th>\n",
              "      <th>syntax_fk_grade</th>\n",
              "      <th>sentiment</th>\n",
              "      <th>text_length</th>\n",
              "    </tr>\n",
              "  </thead>\n",
              "  <tbody>\n",
              "    <tr>\n",
              "      <th>0</th>\n",
              "      <td>2</td>\n",
              "      <td>(I haven’t had to go in and get him for any re...</td>\n",
              "      <td>0</td>\n",
              "      <td>0.8</td>\n",
              "      <td>1.536086e+09</td>\n",
              "      <td>13</td>\n",
              "      <td>5.298023</td>\n",
              "      <td>82</td>\n",
              "      <td>35.74</td>\n",
              "      <td>40.36</td>\n",
              "      <td>...</td>\n",
              "      <td>1.1818</td>\n",
              "      <td>1.0</td>\n",
              "      <td>1.73693</td>\n",
              "      <td>1.51233</td>\n",
              "      <td>1.89254</td>\n",
              "      <td>0.84</td>\n",
              "      <td>8</td>\n",
              "      <td>5.524977</td>\n",
              "      <td>0.246621</td>\n",
              "      <td>101</td>\n",
              "    </tr>\n",
              "    <tr>\n",
              "      <th>1</th>\n",
              "      <td>6</td>\n",
              "      <td>And now that they have been living separately ...</td>\n",
              "      <td>1</td>\n",
              "      <td>1.0</td>\n",
              "      <td>1.522649e+09</td>\n",
              "      <td>1</td>\n",
              "      <td>13.053636</td>\n",
              "      <td>158</td>\n",
              "      <td>16.43</td>\n",
              "      <td>52.53</td>\n",
              "      <td>...</td>\n",
              "      <td>1.1111</td>\n",
              "      <td>1.0</td>\n",
              "      <td>1.68672</td>\n",
              "      <td>1.63582</td>\n",
              "      <td>1.86327</td>\n",
              "      <td>0.67</td>\n",
              "      <td>0</td>\n",
              "      <td>11.797576</td>\n",
              "      <td>-0.189773</td>\n",
              "      <td>183</td>\n",
              "    </tr>\n",
              "  </tbody>\n",
              "</table>\n",
              "<p>2 rows × 114 columns</p>\n",
              "</div>\n",
              "      <button class=\"colab-df-convert\" onclick=\"convertToInteractive('df-f2171ca7-9c9d-48d1-b58b-def100ec85a1')\"\n",
              "              title=\"Convert this dataframe to an interactive table.\"\n",
              "              style=\"display:none;\">\n",
              "        \n",
              "  <svg xmlns=\"http://www.w3.org/2000/svg\" height=\"24px\"viewBox=\"0 0 24 24\"\n",
              "       width=\"24px\">\n",
              "    <path d=\"M0 0h24v24H0V0z\" fill=\"none\"/>\n",
              "    <path d=\"M18.56 5.44l.94 2.06.94-2.06 2.06-.94-2.06-.94-.94-2.06-.94 2.06-2.06.94zm-11 1L8.5 8.5l.94-2.06 2.06-.94-2.06-.94L8.5 2.5l-.94 2.06-2.06.94zm10 10l.94 2.06.94-2.06 2.06-.94-2.06-.94-.94-2.06-.94 2.06-2.06.94z\"/><path d=\"M17.41 7.96l-1.37-1.37c-.4-.4-.92-.59-1.43-.59-.52 0-1.04.2-1.43.59L10.3 9.45l-7.72 7.72c-.78.78-.78 2.05 0 2.83L4 21.41c.39.39.9.59 1.41.59.51 0 1.02-.2 1.41-.59l7.78-7.78 2.81-2.81c.8-.78.8-2.07 0-2.86zM5.41 20L4 18.59l7.72-7.72 1.47 1.35L5.41 20z\"/>\n",
              "  </svg>\n",
              "      </button>\n",
              "      \n",
              "  <style>\n",
              "    .colab-df-container {\n",
              "      display:flex;\n",
              "      flex-wrap:wrap;\n",
              "      gap: 12px;\n",
              "    }\n",
              "\n",
              "    .colab-df-convert {\n",
              "      background-color: #E8F0FE;\n",
              "      border: none;\n",
              "      border-radius: 50%;\n",
              "      cursor: pointer;\n",
              "      display: none;\n",
              "      fill: #1967D2;\n",
              "      height: 32px;\n",
              "      padding: 0 0 0 0;\n",
              "      width: 32px;\n",
              "    }\n",
              "\n",
              "    .colab-df-convert:hover {\n",
              "      background-color: #E2EBFA;\n",
              "      box-shadow: 0px 1px 2px rgba(60, 64, 67, 0.3), 0px 1px 3px 1px rgba(60, 64, 67, 0.15);\n",
              "      fill: #174EA6;\n",
              "    }\n",
              "\n",
              "    [theme=dark] .colab-df-convert {\n",
              "      background-color: #3B4455;\n",
              "      fill: #D2E3FC;\n",
              "    }\n",
              "\n",
              "    [theme=dark] .colab-df-convert:hover {\n",
              "      background-color: #434B5C;\n",
              "      box-shadow: 0px 1px 3px 1px rgba(0, 0, 0, 0.15);\n",
              "      filter: drop-shadow(0px 1px 2px rgba(0, 0, 0, 0.3));\n",
              "      fill: #FFFFFF;\n",
              "    }\n",
              "  </style>\n",
              "\n",
              "      <script>\n",
              "        const buttonEl =\n",
              "          document.querySelector('#df-f2171ca7-9c9d-48d1-b58b-def100ec85a1 button.colab-df-convert');\n",
              "        buttonEl.style.display =\n",
              "          google.colab.kernel.accessAllowed ? 'block' : 'none';\n",
              "\n",
              "        async function convertToInteractive(key) {\n",
              "          const element = document.querySelector('#df-f2171ca7-9c9d-48d1-b58b-def100ec85a1');\n",
              "          const dataTable =\n",
              "            await google.colab.kernel.invokeFunction('convertToInteractive',\n",
              "                                                     [key], {});\n",
              "          if (!dataTable) return;\n",
              "\n",
              "          const docLinkHtml = 'Like what you see? Visit the ' +\n",
              "            '<a target=\"_blank\" href=https://colab.research.google.com/notebooks/data_table.ipynb>data table notebook</a>'\n",
              "            + ' to learn more about interactive tables.';\n",
              "          element.innerHTML = '';\n",
              "          dataTable['output_type'] = 'display_data';\n",
              "          await google.colab.output.renderOutput(dataTable, element);\n",
              "          const docLink = document.createElement('div');\n",
              "          docLink.innerHTML = docLinkHtml;\n",
              "          element.appendChild(docLink);\n",
              "        }\n",
              "      </script>\n",
              "    </div>\n",
              "  </div>\n",
              "  "
            ]
          },
          "metadata": {},
          "execution_count": 31
        }
      ],
      "source": [
        "df.head(2)"
      ],
      "id": "economic-morning"
    },
    {
      "cell_type": "markdown",
      "source": [
        "## Paper reported best score when:\n",
        "- Confidence >=0.8 (4/5) \n",
        "- Correlation >= 0.4"
      ],
      "metadata": {
        "id": "JH-hpQcxL3RT"
      },
      "id": "JH-hpQcxL3RT"
    },
    {
      "cell_type": "markdown",
      "source": [
        "## Feature Selection\n",
        "\n",
        "In the paper they reported the best results with only the features that have  **$\\ge 0.40$** Pearson correlation to the label"
      ],
      "metadata": {
        "id": "uwO4x5CdcFP_"
      },
      "id": "uwO4x5CdcFP_"
    },
    {
      "cell_type": "code",
      "execution_count": 32,
      "metadata": {
        "colab": {
          "base_uri": "https://localhost:8080/"
        },
        "id": "solved-hawaii",
        "outputId": "80aeea9a-e987-4ace-e1bf-b6ed1352c6af"
      },
      "outputs": [
        {
          "output_type": "execute_result",
          "data": {
            "text/plain": [
              "label              1.000000\n",
              "lex_liwc_Tone      0.567659\n",
              "lex_liwc_Clout     0.506182\n",
              "lex_liwc_negemo    0.506085\n",
              "lex_liwc_i         0.491079\n",
              "sentiment          0.390355\n",
              "Name: label, dtype: float64"
            ]
          },
          "metadata": {},
          "execution_count": 32
        }
      ],
      "source": [
        "most_correlated = df.corr().abs()['label'].sort_values(ascending = False)\n",
        "#Taking only highest correlated features (paper's report |r|>=0.4)\n",
        "most_correlated = most_correlated[:6]\n",
        "most_correlated"
      ],
      "id": "solved-hawaii"
    },
    {
      "cell_type": "markdown",
      "source": [
        "# Preprocessing\n",
        "\n",
        "2 Tokenizers compared:\n",
        "BertTokenizer and Bert using  Word2Vec vocabulary (Paper used it for best model)"
      ],
      "metadata": {
        "id": "n6cz1SvLzIgE"
      },
      "id": "n6cz1SvLzIgE"
    },
    {
      "cell_type": "code",
      "source": [
        "def clear_cache():\n",
        "  import gc\n",
        "  gc.collect()"
      ],
      "metadata": {
        "id": "QIYCPW6Czqu4"
      },
      "id": "QIYCPW6Czqu4",
      "execution_count": 33,
      "outputs": []
    },
    {
      "cell_type": "code",
      "source": [
        "# Generate embedding vocabulary and save as local file \n",
        "def make_vocab_from_wv(wv, folder=None, special_tokens=None):\n",
        "    # if folder is not None:\n",
        "    #     if not os.path.exists(folder):\n",
        "    #         os.mkdir(folder)\n",
        "\n",
        "    words = wv.index2word\n",
        "    if special_tokens is not None:\n",
        "        to_add = []\n",
        "        for special_token in special_tokens:\n",
        "            if special_token not in words:\n",
        "                to_add.append(special_token)\n",
        "        words = to_add + words\n",
        "                \n",
        "    with open(os.path.join(folder, VOCAB_FILE), 'w') as f:\n",
        "        for word in words:\n",
        "            f.write(f'{word}\\n') \n",
        "\n",
        "# run the function and make vocab on training data\n",
        "if(os.path.exists(VOCAB_FILE)):\n",
        "  print('Using local vocab file:',VOCAB_FILE)\n",
        "else:\n",
        "  # Download and load the word2vec embedding - based on the paper best model\n",
        "  # This was done once and saved vocab in '\n",
        "  word2vec = downloader.load('word2vec-google-news-300')\n",
        "  make_vocab_from_wv(word2vec, \n",
        "                   './', \n",
        "                   special_tokens=['[PAD]', '[UNK]'])"
      ],
      "metadata": {
        "colab": {
          "base_uri": "https://localhost:8080/"
        },
        "id": "WBdIM2hBygl6",
        "outputId": "1720bbf1-0630-494b-a3b4-e18151c2d754"
      },
      "id": "WBdIM2hBygl6",
      "execution_count": 34,
      "outputs": [
        {
          "output_type": "stream",
          "name": "stdout",
          "text": [
            "Using local vocab file: dreaddit_vocab.txt\n"
          ]
        }
      ]
    },
    {
      "cell_type": "code",
      "source": [
        "clear_cache()\n",
        "w2v_tok = transformers.BertTokenizer(VOCAB_FILE)"
      ],
      "metadata": {
        "id": "CLOU57q309Di"
      },
      "id": "CLOU57q309Di",
      "execution_count": 35,
      "outputs": []
    },
    {
      "cell_type": "code",
      "execution_count": 36,
      "metadata": {
        "id": "chicken-investigation"
      },
      "outputs": [],
      "source": [
        "#creating a function\n",
        "def tokenize(tokenizer, texts):\n",
        "    features = []\n",
        "    for txt in tqdm(texts, desc = 'Tokenizing texts...'):\n",
        "        tokens = tokenizer.tokenize(txt)\n",
        "        ids = tokenizer.convert_tokens_to_ids(tokens)\n",
        "        features.append(ids)\n",
        "    return features"
      ],
      "id": "chicken-investigation"
    },
    {
      "cell_type": "code",
      "source": [
        "#convert all column names to str\n",
        "df.columns = df.columns.astype(str)"
      ],
      "metadata": {
        "id": "F0cVsWxS4s8U"
      },
      "id": "F0cVsWxS4s8U",
      "execution_count": 37,
      "outputs": []
    },
    {
      "cell_type": "markdown",
      "metadata": {
        "id": "representative-macintosh"
      },
      "source": [
        "# Part 1 - Reproducing the Anchor paper results"
      ],
      "id": "representative-macintosh"
    },
    {
      "cell_type": "code",
      "source": [
        "# [:15] works well f1 76.5 but with all features we get f1: 77.4\n",
        "# features = ['text']+list(most_correlated[:60].index)\n",
        "features = ['text']+list(most_correlated.index)\n"
      ],
      "metadata": {
        "id": "BGzd5EhWlVuF"
      },
      "id": "BGzd5EhWlVuF",
      "execution_count": 38,
      "outputs": []
    },
    {
      "cell_type": "code",
      "execution_count": 39,
      "metadata": {
        "colab": {
          "base_uri": "https://localhost:8080/",
          "height": 49,
          "referenced_widgets": [
            "7b2470c5e8e649dd83981a7586c20fda",
            "0f0f2e9634ba4cb298d0994a44610f89",
            "5a31a41535d24622a5ca12f492599a51",
            "61d277df1be9438cb0a5c7516d755aaf",
            "1ce73a30fa434af7aada3a3eca5a118a",
            "e2bd50f1234c4299bab3ee74add50988",
            "25764acee3fe4ecf81a771994323cb1d",
            "4cf27ef977a14fd19b77610c5eca9c60",
            "e16899ccc9834c0986cc2d523dfd009a",
            "77d9d86ca47e464baf1d1498bad2668e",
            "f2f4b8e8d76d437090706be6f07c3fd4"
          ]
        },
        "id": "ahead-bennett",
        "outputId": "6e6a7157-2d90-49aa-b783-9f68a0256ab7"
      },
      "outputs": [
        {
          "output_type": "display_data",
          "data": {
            "text/plain": [
              "Tokenizing texts...:   0%|          | 0/2297 [00:00<?, ?it/s]"
            ],
            "application/vnd.jupyter.widget-view+json": {
              "version_major": 2,
              "version_minor": 0,
              "model_id": "7b2470c5e8e649dd83981a7586c20fda"
            }
          },
          "metadata": {}
        }
      ],
      "source": [
        "#Selecting the features that are the most correlated with the label\n",
        "# X,y = df[['text', 'lex_liwc_Tone', 'lex_liwc_negemo', 'lex_liwc_Clout','lex_liwc_i', 'sentiment' ]], df['label']\n",
        "X,y = df[features], df['label']\n",
        "# We tried 2 different tokenizer embeddings (Bert and Word2vec)\n",
        "# bert_features = tokenize(bert_tok, X['text'])\n",
        "bert_features = tokenize(w2v_tok, X['text'])"
      ],
      "id": "ahead-bennett"
    },
    {
      "cell_type": "code",
      "execution_count": 40,
      "metadata": {
        "id": "distinct-environment"
      },
      "outputs": [],
      "source": [
        "#padding sequences to max len \n",
        "bert_trg = sequence.pad_sequences(bert_features, maxlen = max_length)"
      ],
      "id": "distinct-environment"
    },
    {
      "cell_type": "code",
      "execution_count": 41,
      "metadata": {
        "id": "educational-prior"
      },
      "outputs": [],
      "source": [
        "#creating the training dataframe for the classic ML models out of the \n",
        "# using the most correlated features (correlated with the label)\n",
        "\n",
        "X = pd.DataFrame(bert_trg)\n",
        "#convert all column names to str\n",
        "X.columns = X.columns.astype(str)\n",
        "ftrs = {}\n",
        "for f in features:\n",
        "  if(f in['text','label']):\n",
        "    continue\n",
        "  ftrs[f]=df[f].values\n",
        "X = X.assign(**ftrs)  \n"
      ],
      "id": "educational-prior"
    },
    {
      "cell_type": "markdown",
      "source": [
        "## Classic ML Models for stress classification\n",
        "\n",
        "Using BERT Tokenizer"
      ],
      "metadata": {
        "id": "wC-qPr2lZucZ"
      },
      "id": "wC-qPr2lZucZ"
    },
    {
      "cell_type": "code",
      "source": [
        "def get_models():\n",
        "    \n",
        "    models = dict()\n",
        "    #The “saga” solver is a variant of “sag” that also supports the non-smooth penalty=\"l1\".\n",
        "    # This is therefore the solver of choice for sparse multinomial logistic regression.\n",
        "    # Setting a high C value is like \"no regularization\"\n",
        "    #0.779\n",
        "    models['LogReg'] = make_pipeline(StandardScaler(),LogisticRegression(solver = 'saga',\n",
        "                                                                         C = 0.0008))\n",
        "    # Paper's best config\n",
        "    # models['LogReg2'] = make_pipeline(StandardScaler(),LogisticRegression(max_iter=1200,\n",
        "    #                                                                       penalty='l2',\n",
        "    #                                                                      C = 10))    \n",
        "    models['MNNBayes'] = make_pipeline(MinMaxScaler(), MultinomialNB())\n",
        "    models['SVM'] = make_pipeline(StandardScaler(),SVC())\n",
        "    models['GBM'] = GradientBoostingClassifier(n_estimators = 10)\n",
        "    models['ADAboost'] = AdaBoostClassifier(n_estimators= 12)\n",
        "    models['XGBoost'] = XGBClassifier(n_estimators = 11, max_depth = 1)\n",
        "    models['Dtree'] = DecisionTreeClassifier(max_depth = 1)\n",
        "    models['Perceptron'] = make_pipeline(StandardScaler(),Perceptron())\n",
        "    models['RandomF'] = RandomForestClassifier(n_estimators = 10)\n",
        "    models['KNN'] = make_pipeline(StandardScaler(),KNeighborsClassifier())\n",
        "    \n",
        "    return models"
      ],
      "metadata": {
        "id": "uBhjl5YUU_mh"
      },
      "id": "uBhjl5YUU_mh",
      "execution_count": 42,
      "outputs": []
    },
    {
      "cell_type": "markdown",
      "metadata": {
        "id": "amber-payroll"
      },
      "source": [
        "## 5-fold Stratified cross validation for selected models"
      ],
      "id": "amber-payroll"
    },
    {
      "cell_type": "code",
      "execution_count": 43,
      "metadata": {
        "id": "wired-indian"
      },
      "outputs": [],
      "source": [
        "# evaluate a given model using cross-validation \n",
        "def evaluate_model(model, X, y):\n",
        "\tcv = RepeatedStratifiedKFold(n_splits=10, n_repeats=2, random_state=SEED) #was 5\n",
        "\tscores = cross_val_score(model, X, y, scoring='f1', cv=cv, n_jobs=-1, error_score='raise')\n",
        "\treturn scores"
      ],
      "id": "wired-indian"
    },
    {
      "cell_type": "code",
      "execution_count": 44,
      "metadata": {
        "colab": {
          "base_uri": "https://localhost:8080/"
        },
        "id": "attempted-stations",
        "outputId": "42b18271-dfbb-4827-a188-a5e74b56843d"
      },
      "outputs": [
        {
          "output_type": "stream",
          "name": "stdout",
          "text": [
            "Evaluating model: LogReg\n",
            ">LogReg F1 Mean:0.827 STD:(0.023)\n",
            "Evaluating model: MNNBayes\n",
            ">MNNBayes F1 Mean:0.812 STD:(0.027)\n",
            "Evaluating model: SVM\n",
            ">SVM F1 Mean:0.808 STD:(0.024)\n",
            "Evaluating model: GBM\n",
            ">GBM F1 Mean:0.822 STD:(0.025)\n",
            "Evaluating model: ADAboost\n",
            ">ADAboost F1 Mean:0.815 STD:(0.029)\n",
            "Evaluating model: XGBoost\n",
            ">XGBoost F1 Mean:0.807 STD:(0.030)\n",
            "Evaluating model: Dtree\n",
            ">Dtree F1 Mean:0.799 STD:(0.030)\n",
            "Evaluating model: Perceptron\n",
            ">Perceptron F1 Mean:0.754 STD:(0.034)\n",
            "Evaluating model: RandomF\n",
            ">RandomF F1 Mean:0.769 STD:(0.022)\n",
            "Evaluating model: KNN\n",
            ">KNN F1 Mean:0.754 STD:(0.027)\n"
          ]
        }
      ],
      "source": [
        "# get the models to evaluate\n",
        "models = get_models()\n",
        "# evaluate the models and store results\n",
        "results, names = list(), list()\n",
        "best_score = 0\n",
        "best_model = None\n",
        "for name, model in models.items():\n",
        "\tprint('Evaluating model:',name)\n",
        "\tscores = evaluate_model(model, X, y)\n",
        "\tresults.append(scores)\n",
        "\tnames.append(name)\n",
        "\tf1_mean=scores.mean()\n",
        "\tif(f1_mean>best_score):\n",
        "\t\tbest_model = model\n",
        "\t\tbest_name = name\n",
        "\t\tbest_score = f1_mean\n",
        "\tprint('>%s F1 Mean:%.3f STD:(%.3f)' % (name, scores.mean(), std(scores)))\n"
      ],
      "id": "attempted-stations"
    },
    {
      "cell_type": "code",
      "source": [
        "print('Best classic ML model:{} with F1:{:.3f}'.format(best_name,best_score))"
      ],
      "metadata": {
        "id": "pLvdmcjM7CbV",
        "colab": {
          "base_uri": "https://localhost:8080/"
        },
        "outputId": "b45a733e-7f18-4954-9da8-e10df1461a45"
      },
      "id": "pLvdmcjM7CbV",
      "execution_count": 45,
      "outputs": [
        {
          "output_type": "stream",
          "name": "stdout",
          "text": [
            "Best classic ML model:LogReg with F1:0.827\n"
          ]
        }
      ]
    },
    {
      "cell_type": "code",
      "source": [
        "# plot model performance comparison\n",
        "f,ax = plt.subplots(1,1,figsize=(12,4))\n",
        "plt.boxplot(results, labels=names, showmeans=True,showbox=True,showcaps=True)\n",
        "\n",
        "plt.title('F1 scores for all models')\n",
        "plt.show()"
      ],
      "metadata": {
        "id": "JSmWj5T-90xS",
        "colab": {
          "base_uri": "https://localhost:8080/",
          "height": 281
        },
        "outputId": "6c232a19-d56a-4b87-9196-28195756e0b1"
      },
      "id": "JSmWj5T-90xS",
      "execution_count": 46,
      "outputs": [
        {
          "output_type": "display_data",
          "data": {
            "text/plain": [
              "<Figure size 864x288 with 1 Axes>"
            ],
            "image/png": "[encoded data removed]"
          },
          "metadata": {
            "needs_background": "light"
          }
        }
      ]
    },
    {
      "cell_type": "markdown",
      "metadata": {
        "id": "c6OewaaQfA_c"
      },
      "source": [
        "## Bert for stress classification\n",
        "\n",
        "Fine tuning the model for 3 epochs shows great results"
      ],
      "id": "c6OewaaQfA_c"
    },
    {
      "cell_type": "code",
      "source": [
        "!rm -rf cache_dir\n",
        "!rm -rf outputs\n",
        "!rm -rf runs"
      ],
      "metadata": {
        "id": "9DDmhwbARQAG"
      },
      "id": "9DDmhwbARQAG",
      "execution_count": 47,
      "outputs": []
    },
    {
      "cell_type": "markdown",
      "source": [
        "# Finetuniing (training) or Inference mode\n",
        "\n",
        "You can control the inference mode by commenting the following 'download' line - then the model will be trained for 3 epochs (fine tunining)"
      ],
      "metadata": {
        "id": "IbuNCMgYsB0c"
      },
      "id": "IbuNCMgYsB0c"
    },
    {
      "cell_type": "code",
      "source": [
        "# Train or Inference mode\n",
        "TRAINED_MODEL='bert_dreaddit_model.zip'\n",
        "# COMMENT THE FOLLOWING LINE TO RUN TRAINING \n",
        "download_from_gdrive('1yA0E3FZmnrmNLhpNc8l-NTE9hO8c9GMe',TRAINED_MODEL)\n",
        "INFERENCE_MODE = os.path.isfile(TRAINED_MODEL)"
      ],
      "metadata": {
        "colab": {
          "base_uri": "https://localhost:8080/"
        },
        "id": "0acuUZoOXG8S",
        "outputId": "0d876490-f7cc-4225-9d56-da83d669a6ef"
      },
      "id": "0acuUZoOXG8S",
      "execution_count": 48,
      "outputs": [
        {
          "output_type": "stream",
          "name": "stderr",
          "text": [
            "Downloading...\n",
            "From: https://drive.google.com/uc?id=1yA0E3FZmnrmNLhpNc8l-NTE9hO8c9GMe\n",
            "To: /content/bert_dreaddit_model.zip\n",
            "100%|██████████| 1.14G/1.14G [00:06<00:00, 185MB/s]\n"
          ]
        }
      ]
    },
    {
      "cell_type": "code",
      "execution_count": 49,
      "metadata": {
        "id": "sC3XRpxof7jb",
        "colab": {
          "base_uri": "https://localhost:8080/",
          "height": 117,
          "referenced_widgets": [
            "c480de089d0f4ccab4f129356e307464",
            "e2756e8545024c85b57f71cf908de5b0",
            "ec310d798efd4ffb92dc3c2db02085ba",
            "77fbb581344747a2bd9724b3f05b2093",
            "c9e37e7d480d440e86edb6a6596ee905",
            "9c9b0d426df440539fc76eb367794553",
            "ba6fcd023e754fc7b2c006a5c5b30808",
            "405560579b334270865a252a460f33c7",
            "3d11fb3256484f48b16e148df7b6e23f",
            "18c4b8743c814888b1e02e5495385aa6",
            "b3f83b1c7c8e42b2931efe13f8f81f3b",
            "065c5aa40f764123a0c1b0f806f5d7f9",
            "5f0f4849df3c4c29a1d3559d1b84fb87",
            "f860379babdd4946943ee5a4a748ec20",
            "5b5f10cac1234dac96de5aaf10aa3968",
            "42d0bf1f69fe45d5985319c52358de8d",
            "a564375f522f42788f76100a403a53c9",
            "5c429d0a24204da4bf53f8d0eede13d0",
            "18e66591f03f44cd9f5d96ae49dcb5c7",
            "14c3de9d192545ada4145df3b7b4803e",
            "6ac9ae6cd1f5450ba53f6efa5a409d02",
            "af4ebcb6d5764c84b2b03921ec74d978"
          ]
        },
        "outputId": "411ecc24-7c64-45ce-a07c-462ab7e136a6"
      },
      "outputs": [
        {
          "output_type": "stream",
          "name": "stdout",
          "text": [
            "Inference mode, loading best model...\n",
            "Best model loaded.\n"
          ]
        },
        {
          "output_type": "display_data",
          "data": {
            "text/plain": [
              "  0%|          | 0/445 [00:00<?, ?it/s]"
            ],
            "application/vnd.jupyter.widget-view+json": {
              "version_major": 2,
              "version_minor": 0,
              "model_id": "c480de089d0f4ccab4f129356e307464"
            }
          },
          "metadata": {}
        },
        {
          "output_type": "display_data",
          "data": {
            "text/plain": [
              "Running Evaluation:   0%|          | 0/56 [00:00<?, ?it/s]"
            ],
            "application/vnd.jupyter.widget-view+json": {
              "version_major": 2,
              "version_minor": 0,
              "model_id": "065c5aa40f764123a0c1b0f806f5d7f9"
            }
          },
          "metadata": {}
        }
      ],
      "source": [
        "logging.basicConfig(level=logging.ERROR)\n",
        "transformers_logger = logging.getLogger(\"transformers\")\n",
        "transformers_logger.setLevel(logging.ERROR)\n",
        "\n",
        "\n",
        "if(INFERENCE_MODE):\n",
        "  print('Inference mode, loading best model...')\n",
        "  !unzip -q -n {TRAINED_MODEL}\n",
        "  # Create a ClassificationModel\n",
        "  model = ClassificationModel(\n",
        "      \"bert\", \"outputs/best_model\",\n",
        "      tokenizer_type=w2v_tok,\n",
        "      use_cuda=torch.cuda.is_available()\n",
        "  )\n",
        "  print('Best model loaded.')\n",
        "else:\n",
        "  print('Training mode')\n",
        "  # Optional model configuration\n",
        "  model_args = ClassificationArgs(num_train_epochs=3,\n",
        "                                  overwrite_output_dir = True,\n",
        "                                  # fp16=True,\n",
        "                                  use_early_stopping = True,\n",
        "                                  # max_seq_length=max_length,\n",
        "                                  no_save = False,\n",
        "                                  save_best_model=True,\n",
        "                                  evaluate_during_training = True,\n",
        "                                  evaluate_during_training_verbose=False,\n",
        "                                  evaluate_during_training_silent=True,\n",
        "                                  #paper's best params\n",
        "                                  # num_train_epochs=3,\n",
        "                                  # train_batch_size=128,\n",
        "                                  # learning_rate=0.0005,\n",
        "  )\n",
        "\n",
        "  # Create a ClassificationModel\n",
        "  model = ClassificationModel(\n",
        "      # \"roberta\", \"roberta-base\", #f1=80 BEST on full\n",
        "      \"bert\", \"bert-base-uncased\",tokenizer_type=w2v_tok,#f1=79 #Paper's best\n",
        "      # \"bert\", \"bert-base-cased\",#f1=79\n",
        "      # \"roberta\", \"roberta-large\", #f1=77\n",
        "      # \"distilbert\", \"bert-base-uncased\", #f1=71\n",
        "      # \"albert\",\"bert-base-uncased\", #bad\n",
        "      # \"electra\", \"bert-base-uncased\", #bad...\n",
        "      args=model_args,\n",
        "      use_cuda=torch.cuda.is_available(),\n",
        "  )\n",
        "\n",
        "  # Train the model\n",
        "  model.train_model(df_train[['text','label']],eval_df=df_test[['text','label']])\n",
        "\n",
        "# Evaluate the model\n",
        "result, model_outputs, wrong_predictions = model.eval_model(df_test[['text','label']])\n"
      ],
      "id": "sC3XRpxof7jb"
    },
    {
      "cell_type": "code",
      "execution_count": 50,
      "metadata": {
        "id": "sZ0A9JYuiZ0z"
      },
      "outputs": [],
      "source": [
        "def plot_cm(y_true, y_pred, title, figsize=(5,5)):\n",
        "    cm = confusion_matrix(y_true, y_pred, labels=np.unique(y_true))\n",
        "    cm_sum = np.sum(cm, axis=1, keepdims=True)\n",
        "    cm_perc = cm / cm_sum.astype(float) * 100\n",
        "    annot = np.empty_like(cm).astype(str)\n",
        "    nrows, ncols = cm.shape\n",
        "    for i in range(nrows):\n",
        "        for j in range(ncols):\n",
        "            c = cm[i, j]\n",
        "            p = cm_perc[i, j]\n",
        "            if i == j:\n",
        "                s = cm_sum[i]\n",
        "                annot[i, j] = '%.1f%%\\n%d/%d' % (p, c, s)\n",
        "            elif c == 0:\n",
        "                annot[i, j] = ''\n",
        "            else:\n",
        "                annot[i, j] = '%.1f%%\\n%d' % (p, c)\n",
        "    cm = pd.DataFrame(cm, index=np.unique(y_true), columns=np.unique(y_true))\n",
        "    cm.index.name = 'Actual'\n",
        "    cm.columns.name = 'Predicted'\n",
        "    fig, ax = plt.subplots(figsize=figsize)\n",
        "    ax.set_title(title)\n",
        "    sns.heatmap(cm, annot=annot, fmt='', ax=ax)\n",
        "    "
      ],
      "id": "sZ0A9JYuiZ0z"
    },
    {
      "cell_type": "code",
      "execution_count": 51,
      "metadata": {
        "id": "GjGIxXaoitV9",
        "colab": {
          "base_uri": "https://localhost:8080/",
          "height": 99,
          "referenced_widgets": [
            "704ba531214e4411a6784c5c25e3bc9e",
            "ba854d26bab445baa5fa0a41c95c25f1",
            "47f04887d02741b893c2cbb1074a1f0b",
            "672523dcf8a144ebbf18f6d38f847f00",
            "a1c4b690e0a54ce0923d2f0bbdf3f10c",
            "4078ddd5fdaf45b9baeb9fa8675f474a",
            "92cbdbd7ca8a437d9500a2573fb65127",
            "44ba64e4dc4c4779ba36573ea44522b1",
            "b46cf723bad04bd78539b20bd878d98e",
            "e86265a60f6a4605b0383a22aa01ec4b",
            "8aa1d32468b3426290d1ae6d676eabcb",
            "82fbdd0648a84bc4b09db810c897a7eb",
            "1701a31ddaec4912af0d64dbd32a2eef",
            "291dc44ba99649bc9d632cbe1b964f49",
            "d75fa15f080f40d997a5bc2eec2da2e3",
            "d624d80e0b1e49caa4b0c106500fe03c",
            "6668c43cbbcf4378b102845ad7a49a52",
            "73cc7100eeaa4829acd02a4c6d42b6da",
            "595dfb80a2f94791acce92f92011b3d5",
            "d353675759ea47e2bb9e83cce71e3e80",
            "7c523daa541b41aba53d6d64de6cc14d",
            "9b0d4d360675467ba0d9907fdc34536b"
          ]
        },
        "outputId": "79e338d9-57f0-41bd-e3a5-da98de01d1e3"
      },
      "outputs": [
        {
          "output_type": "stream",
          "name": "stdout",
          "text": [
            "Train classification report\n"
          ]
        },
        {
          "output_type": "display_data",
          "data": {
            "text/plain": [
              "  0%|          | 0/1852 [00:00<?, ?it/s]"
            ],
            "application/vnd.jupyter.widget-view+json": {
              "version_major": 2,
              "version_minor": 0,
              "model_id": "704ba531214e4411a6784c5c25e3bc9e"
            }
          },
          "metadata": {}
        },
        {
          "output_type": "display_data",
          "data": {
            "text/plain": [
              "  0%|          | 0/232 [00:00<?, ?it/s]"
            ],
            "application/vnd.jupyter.widget-view+json": {
              "version_major": 2,
              "version_minor": 0,
              "model_id": "82fbdd0648a84bc4b09db810c897a7eb"
            }
          },
          "metadata": {}
        }
      ],
      "source": [
        "y_true_trn = df_train['label'].values\n",
        "print('Train classification report')\n",
        "y_pred_trn, _ = model.predict(list(df_train['text']))\n"
      ],
      "id": "GjGIxXaoitV9"
    },
    {
      "cell_type": "code",
      "source": [
        "print(classification_report(y_true_trn, y_pred_trn))"
      ],
      "metadata": {
        "id": "LQlhww9YK0e1",
        "colab": {
          "base_uri": "https://localhost:8080/"
        },
        "outputId": "ed6e2100-3e6d-40a0-f1ab-ec1cc4c0141d"
      },
      "id": "LQlhww9YK0e1",
      "execution_count": 52,
      "outputs": [
        {
          "output_type": "stream",
          "name": "stdout",
          "text": [
            "              precision    recall  f1-score   support\n",
            "\n",
            "           0       0.94      0.94      0.94       849\n",
            "           1       0.95      0.95      0.95      1003\n",
            "\n",
            "    accuracy                           0.94      1852\n",
            "   macro avg       0.94      0.94      0.94      1852\n",
            "weighted avg       0.94      0.94      0.94      1852\n",
            "\n"
          ]
        }
      ]
    },
    {
      "cell_type": "code",
      "execution_count": 53,
      "metadata": {
        "id": "uChtsHXJij1I",
        "colab": {
          "base_uri": "https://localhost:8080/",
          "height": 458
        },
        "outputId": "601af2ba-50d4-4cee-cea7-d2b95a544237"
      },
      "outputs": [
        {
          "output_type": "display_data",
          "data": {
            "text/plain": [
              "<Figure size 504x504 with 2 Axes>"
            ],
            "image/png": "[encoded data removed]"
          },
          "metadata": {
            "needs_background": "light"
          }
        }
      ],
      "source": [
        "# Showing Confusion Matrix for ST Bert model\n",
        "plot_cm(y_true_trn,y_pred_trn, 'Bert Confusion matrix Train', figsize=(7,7))"
      ],
      "id": "uChtsHXJij1I"
    },
    {
      "cell_type": "code",
      "execution_count": 54,
      "metadata": {
        "id": "jlborlh-kv56",
        "colab": {
          "base_uri": "https://localhost:8080/",
          "height": 99,
          "referenced_widgets": [
            "56bfed4010314b59bd0b703e7b64e576",
            "40050d34e5664258bcf9672fc9562fbc",
            "67c33c2b9460489da8728d4399edc5d1",
            "5d7071916fc34955848d68722f635f4c",
            "aa7a7a245a3c4cab9e22c35446d736d6",
            "018141298a514ffab9bf02a87d28963e",
            "bbcc8cb8a0a34c4d9d1bf7e0ab60b3be",
            "e23df2792ed947febc58cf4021282795",
            "33f366d4be674a1eadd7deede56dc575",
            "96747abfcbec4e1fb7ede21de3377a94",
            "2db54cf0db474a618971e0eb6df43d64",
            "fbe351f32351448a9aae23753bca5ae2",
            "371b9f1d6bba42138f9b7f9d64ad1812",
            "102420dcb616425cbaf88e837ac84c9a",
            "b48c079f5798409d8c5a2dd5d92e88af",
            "46bf22f9a9404ce39517f199351f20e4",
            "b76eaa8a31864076801508d959c7d9db",
            "b0fdcbf63dad4e3cab9a9d0ba9e603bc",
            "222715f184694908a5537a2056d31e9d",
            "d755297489354019b26a61f908959923",
            "26ab5758770642c3bffc8c9d92a98f29",
            "64587128f1b64213a4906c32a9d90d50"
          ]
        },
        "outputId": "8da87eef-5299-4cd1-aa41-f3bb6a5a5bbe"
      },
      "outputs": [
        {
          "output_type": "stream",
          "name": "stdout",
          "text": [
            "Test classification report\n"
          ]
        },
        {
          "output_type": "display_data",
          "data": {
            "text/plain": [
              "  0%|          | 0/445 [00:00<?, ?it/s]"
            ],
            "application/vnd.jupyter.widget-view+json": {
              "version_major": 2,
              "version_minor": 0,
              "model_id": "56bfed4010314b59bd0b703e7b64e576"
            }
          },
          "metadata": {}
        },
        {
          "output_type": "display_data",
          "data": {
            "text/plain": [
              "  0%|          | 0/56 [00:00<?, ?it/s]"
            ],
            "application/vnd.jupyter.widget-view+json": {
              "version_major": 2,
              "version_minor": 0,
              "model_id": "fbe351f32351448a9aae23753bca5ae2"
            }
          },
          "metadata": {}
        }
      ],
      "source": [
        "y_true_tst = df_test['label'].values\n",
        "print('Test classification report')\n",
        "y_pred_tst, _ = model.predict(list(df_test['text']))"
      ],
      "id": "jlborlh-kv56"
    },
    {
      "cell_type": "code",
      "source": [
        "print(classification_report(y_true_tst, y_pred_tst))\n",
        "f1_bert = f1_score(y_true_tst, y_pred_tst,average='weighted')"
      ],
      "metadata": {
        "id": "Ms5VIz3KK8bO",
        "colab": {
          "base_uri": "https://localhost:8080/"
        },
        "outputId": "a1be941c-f13b-4c7d-fe0e-9d36ee2999b6"
      },
      "id": "Ms5VIz3KK8bO",
      "execution_count": 55,
      "outputs": [
        {
          "output_type": "stream",
          "name": "stdout",
          "text": [
            "              precision    recall  f1-score   support\n",
            "\n",
            "           0       0.87      0.83      0.85       201\n",
            "           1       0.87      0.90      0.88       244\n",
            "\n",
            "    accuracy                           0.87       445\n",
            "   macro avg       0.87      0.87      0.87       445\n",
            "weighted avg       0.87      0.87      0.87       445\n",
            "\n"
          ]
        }
      ]
    },
    {
      "cell_type": "code",
      "execution_count": 56,
      "metadata": {
        "id": "U5VpMG76k-SU",
        "colab": {
          "base_uri": "https://localhost:8080/",
          "height": 458
        },
        "outputId": "13dbd63b-1be2-4e20-9e06-ce357d036ebe"
      },
      "outputs": [
        {
          "output_type": "display_data",
          "data": {
            "text/plain": [
              "<Figure size 504x504 with 2 Axes>"
            ],
            "image/png": "[encoded data removed]"
          },
          "metadata": {
            "needs_background": "light"
          }
        }
      ],
      "source": [
        "# Showing Confusion Matrix for ST Bert model\n",
        "plot_cm(y_true_tst,y_pred_tst, 'Bert Confusion matrix Test', figsize=(7,7))"
      ],
      "id": "U5VpMG76k-SU"
    },
    {
      "cell_type": "code",
      "source": [
        "all_models = ['BERT-base'] + names\n",
        "all_results = [f1_bert] + [np.mean(r) for r in results]"
      ],
      "metadata": {
        "id": "asbbLFPqpSGc"
      },
      "id": "asbbLFPqpSGc",
      "execution_count": 57,
      "outputs": []
    },
    {
      "cell_type": "code",
      "source": [
        "# plot model performance comparison\n",
        "f,ax = plt.subplots(1,1,figsize=(14,6))\n",
        "cmap = ['gold','silver','olive','green','red','purple','navy','brown','pink','grey','cyan']\n",
        "plt.bar(all_models,all_results,color=cmap,alpha=0.7)\n",
        "for j,p in enumerate(ax.patches):\n",
        "  ax.annotate('{:.3f}'.format(p.get_height()), (p.get_x(), p.get_height() * 1.01))\n",
        "\n",
        "plt.title('F1 scores on Test for all models. |r|>=0.4 and 0.8 confidence (4/5 agreement)')\n",
        "# plt.title('F1 scores on Test for all models (Full dataset)')\n",
        "plt.show()"
      ],
      "metadata": {
        "id": "aP5JiW2K7E88",
        "colab": {
          "base_uri": "https://localhost:8080/",
          "height": 390
        },
        "outputId": "c5bb3f1a-f0ae-4be4-a500-eddd08362e30"
      },
      "id": "aP5JiW2K7E88",
      "execution_count": 58,
      "outputs": [
        {
          "output_type": "display_data",
          "data": {
            "text/plain": [
              "<Figure size 1008x432 with 1 Axes>"
            ],
            "image/png": "[encoded data removed]"
          },
          "metadata": {
            "needs_background": "light"
          }
        }
      ]
    },
    {
      "cell_type": "markdown",
      "source": [
        "![image.png](data:image/png;base64,iVBORw0KGgoAAAANSUhEUgAAAzIAAAF1CAYAAAAz99/QAAAgAElEQVR4nO3deZgU1aH38e+wxQWNqGiAIaACCoYlirhFI1FE8RXXKETjmhiMu4k33NeIaJIbE3M193VJol4vSuLgkqioCHIVlKgRMIygoyIqhsXE0YBEUWCGef84VdM1TffQMN0zU/D9PM88011V3X2qumv51TmnCiRJkiRJkiRJkiRJkiRJkiRJkiRJkiRJkiRJkiRJkiRJkiRJ2ipsCzwGfAw82AyfNxP4TvT4HODPzfCZuSwGjipgup5AHdBuMz6jHzAXKNuM1+b7/OTy25gjgKVN+Ozm8p/AhS1dCEmtU5uWLoCkrc5i4DPgk8Rf12jcHcCbwHrCgawy/i+Z5fU5UJt4/tpmvF8hB7KnArsDuwDf3IzPUH4/AX5FCCLQ+HrR0porVOb6nF8RfvsdmuHzJaWMQUZSSzge6Jj4Wx4NfwX4PvDXFipX0uacZS+l/yCzvMYALyae71uiz+wBLARqNuO1rW35tSZdgKHAI1nD860XW7P3gTeAkS1dEEmtj0FGUmtyG/A0ocZhY0YAVcC/gGXADxPjTgAqgVXA28Ax0fCuwGTgn8Ai4LuJ14wHHgJ+H73uHOCLwH8TDqaWAT8F2kbT9wKeJTS7+hC4v5GyjiTUmqwkNP/pmxi3OCr7/Oi97ge22ejcN7QPMD2arzeB0xLjci2n7YEnCcsj39n/64BxwOnR+PMJ+4wfA+8BHwD3EpYRZJo5nQ/8DXgmRzk7AY8D1cCK6HH5Js5r8rPOBZZE7zUGOICwHFcCtyamb6zcAN+Oxn0EXJ31WW2AsYTf0UfAA8DOecp1DvAOYVm/C5yRZ7phhLBeyO88u5nbeMJvdFNtC0wgLKsqwrJKiufxX9H4k6LhfYHfAgcTfgcro+HHAfMI68qSqFyxbaIyfhRNP4dQswf516l8nwNhnTluM+ZZkiSpqArpf/BnNt607H3gsOhxJ2C/6PEQQiAYRjgI7UY40Ad4DridcKA1iHBA/Y1o3HhgHXBi9LptgYeB3xEO/HcDZgPfi6avIBz0tone72t5ytkH+DQqT3vg3wghKm4qszh6366EA+TXCQfljUk2wdmecCB5LqEW5KuEYNUvGp9vORXStCz7oPm8qOx7EmoM/gRMjMbF4eLeqEzb5ni/XYBTgO2AHQj9bpK1EoX2kYk/67eEZX80IRQ8QvieuhECy9cLKHc/woHz4cAXgJsINVDxb/Qy4C+EwPUFwu+hIqsc7aJ5XgXsHY3rQv6ashsJoT0p33rRWJDZlD4yNwCzCL+x7sCrNPz+v0n4DbYhhNdPo3mA3N/FEUD/aPoBwD8I6w6EdeQxwvfcFtgf2DEa19g6le87P5nWUUsrSZK2covJnHFdyYbNa6CwIPM3wgHQjlnDfwfcnGP67oR+JTskhv2ccJYawgHic4lxuwNraHhAPhqYET2+l9CnZ2M1CtcQzuLH2hDORB8RPV8MnJkY/0vCAXpjkgd8pxMOUJN+B1wbPc63nDYnyDxNaPoX25sQ/tqROajecyPvmTSIUEMQ29Qg0y0x7CPCsoj9Ebi8gHKPAyYlxm0PrCUTHl4HjkyM78KG8xwHmZWEoJYrxCXdSQgWSfnWi2IFmXfI1EwCXEDj338loWYTCusj82sy6915wAuEgJO0sXUq3+cMI5RfkhqwaZmklnAisFP0d+JGps3nFEKzqfcITbwOjoZ3JzSRydaV0PTqX4lh79HwYHhJ4nEPQg3K+2QOLn9HOIsMoWaljHBG+TXCwVsuXaPPia2PPif5uX9PPF5NqDUoVA/gwEQZVxKaNH0pGp9vOW2O7Hl5j3AQvXti2BLy246wDN8j1F48R/gNtG3kNY35R+LxZzmex8uxsXJ3zSrzp4RQFOtBqEWIl+3rhECcnOf4dacTatPeB54gUxOYbQUNA3WsGOtFPtnz+V7W+LMI4SWez68AuzbyfgcSAkg1oQZ0TGL6icA0QkBcTgjn7dn4OpXPDjRsaiZJgEFGUnrNIZwx3o1w9jqu9VgC7JVj+uWEZjXJA8gvE2pHYnWJx0sIZ493JXNwuSOZ5kJ/J/Sx6Uqo8bid0G8m1+f2SDwvI4StZTmm3RxLCAFlp8RfRzKXrM23nOrYdNnz8mVCM6xkgGjsfX9AqA05kLAsD4+GN+USxIVorNzvE76P2HaEJnCxJcCxNFy+25D7+5tGqD3oQuigfmee8swnNDksxKdRmWJfyjfhRmTP55cTj3sQynoxYd53IjQ9i7+XXN/pfYT+Zt0J/V5+m5h+HaGPVT/gEOD/EILSxtapfL+dvoQLgUhSAwYZSa1JB8JBYhnhzO025N5OdSDUOnyRcNC0ilDTAaEj8bmE5kDJPjJLCM1dfh697wBCx/R8HaffB54i3Mdix+i99iLT7+KbZJqVrSAchK1nQw8QOiofGc3TDwgHcy/k+dxN9TjhoPjb0fu3J3Tk7kvjy+kfhIPWL1K4CuAKYA9CWPoPwsUJCr2q2Q6EmpKVhFB5beOTF01j5X6IcKD9NcLyup6Gv7nfAj8jE4Q6k2lylbR7NHx7wvf7Cbl/DxAuzLAfhV3UoRIYRfheBxMuib05HgD+ndBPqhy4JDFue8Lvtzp6fi6hRib2j+g1yUsg70Co4fyc0C/tW4lxQwn9Z9oSfnPrCMtiY+tUrs8hGv/kJsyrpK2EQUZSa/IU4UD3EEL/k8/InLXP9m1C/4FVhGYt8RWiZhMOxG4mNHl5lsxB6GhCv4LlhOZC1wL/20h5ziIcVFURwspDZDpAHwC8RDhgnUzoFJ6rHf+bhD4wtxA64R8f/a1t5HM3xb8Ind1HEebr78AvCB3TIf9yeoNwgP8OIVgUcs+SuwnNhp4jXJXrcxoeEG/Mrwn9Iz4kdKCfugmvbYrGyv0acBGhhuF9wvec7DvyX4Tv9ynCsv4LoUYpWxvgSsJ38E/CwXe+Gzn+g3BVt1yBKNs1hIP9FYRajvsKeE0u1xGak71LmJeJiXFVhHDxYlS2/sDzifHPEJbT3wnfHYQ+R9cTlsk4GvYD+xJhXVlFaIr3bOLzGluncn1OF0LNTq6+dJIkSZKaWT9Cs79SN6tLu/+k4YUaJEmSJEmSJEmSJEmSJEmSJEmSJEmSJEmSJLWUFrtayi677FLXs2fPlvp4SZIkSa3cyy+//CHhHl4baNfMZanXs2dP5s6d21IfL0mSJKmVKysrey/fOG+IKUmSJCl1DDKSJEmSUqfQIHMM8CawCBibY/yXgRnAPGA+MKIopZMkSZKkHAoJMm2B24BjgX7A6Oh/0o+BB4CvAqOA24tYxmYzdepU9t57b3r16sUNN9ywwfgrrriCQYMGMWjQIPr06cNOO+1UP+7f/u3f2Hfffenbty+XXnopdXV1AFx99dV0796djh07Ntt8SJIkSVu6QoLMEEJNzDvAWmAScELWNHXAjtHjLwLLi1XA5lJbW8tFF13Ek08+SVVVFRUVFVRVVTWY5uabb6ayspLKykouueQSTj75ZABeeOEFnn/+eebPn8+rr77KnDlzePbZZwE4/vjjmT17drPPT1NsbqCbMWNG/fBBgwaxzTbb8MgjjwDwzDPPsN9++/GVr3yFs88+m5qammadJ0mSJG1ZCgky3YAliedLo2FJ44Ezo3FTgEuKUrpmNHv2bHr16sWee+5Jhw4dGDVqFI8++mje6SsqKhg9ejQAZWVlfP7556xdu5Y1a9awbt06dt99dwAOOuggunTp0izzUAxNCXRDhw6tH/7MM8+w3XbbcfTRR7N+/XrOPvtsJk2axKuvvkqPHj245557WmL2JEmStIUoVmf/0cAEoJzQP2Zinve+AJgLzK2uri7SRxfHsmXL6N69e/3z8vJyli1blnPa9957j3fffZdvfOMbABx88MEMHTqULl260KVLF4YPH07fvn2bpdzF1pRAl/TQQw9x7LHHst122/HRRx/RoUMH+vTpA8CwYcP44x//WLJ5kCRJ0pavkCCzDOieeF4eDUs6n9BHBuBFYBtg1xzvdQcwGBjcuXPO+9qkwqRJkzj11FNp27YtAIsWLeL1119n6dKlLFu2jGeeeYZZs2a1cCk3T1MCXdKkSZPqA86uu+5KTU1N/X2DHnroIZYsWbLBayRJkqRCFRJk5gC9gT2ADoTO/JOzpvkbcGT0uC8hyLSuKpeN6NatW4OD66VLl9KtW3YLuiB5kA7w8MMPc9BBB9GxY0c6duzIsccey4svvljyMre07EAXe//991mwYAHDhw8HQtO7SZMmccUVVzBkyBB22GGHDV4jSZIkbYpCgkwNcDEwDXidUPPyGnA9MDKa5gfAd4FXgArgHMIFAFLjgAMO4K233uLdd99l7dq1TJo0iZEjR24w3RtvvMGKFSs4+OCD64d9+ctf5tlnn6WmpoZ169bx7LPPprZpWVMCXeyBBx7gpJNOon379vXDDj74YGbNmsXs2bM5/PDD65uZSZIkSZuj0D4yU4A+wF7Az6Jh48jUzFQBhwIDgUHAU0UsY7No164dt956a33/ltNOO419992XcePGMXlypgJq0qRJjBo1irKysvphp556KnvttRf9+/dn4MCBDBw4kOOPPx4Il2UuLy9n9erVlJeXM378+Gaft03RlEAXy9Vv5oMPPgBgzZo1/OIXv2DMmDGlmQFJkiRtFco2Pklp7L///nVxnwm1LlOmTOHyyy+ntraW8847j6uvvppx48YxePDg+lAzfvx4Pv/88w0uz7x48WIOPfRQlixZQps2mZx81VVX8fjjj7N+/XouvPBCLr/88madJ0mSJKVPWVnZy4Q+9huOa+ay1DPISK3f1KlTueyyy6itreU73/kOY8eObTD+iiuuYMaMGQCsXr2aDz74gJUrVwLQtm1b+vfvD4Tml3HN5tNPP81VV13F+vXr6dixIxMmTKBXr17NOFeSJCktDDKFWHJ8S5eguLo/1tIlUMrV1tbSp08fpk+fTnl5OQcccAAVFRX069cv5/S33HIL8+bN4+677wagY8eOfPLJJxtM16dPHx599FH69u3L7bffzuzZs5kwYUJJ50WSJKVTY0GmXTOXRa3YggULWroIRRfXCGyOUtRGnH/++cydO5e6ujr69OnDhAkT6Nix42aXsZSS9xQC6u8plC/IVFRUcN111230fcvKyli1ahUAH3/8MV27di1eoSVJ0lbDICPlUFtby0UXXdSgNmLkyJENDuJvvvnm+sdxbURs2223pbKycoP3vfnmm9lxxx0BuPLKK7n11ls3CEitRa57Cr300ks5p811T6HPP/+cwYMH065dO8aOHcuJJ54IwF133cWIESPYdttt2XHHHfnLX/5S2hkpglKE2jPOOIO5c+fSvn17hgwZwu9+97sGV/qTJEmNK/SqZdJWJVkb0aFDh/raiHxyXaktlzjE1NXV8dlnnzW4+l2a5bqn0HvvvcfcuXO57777uPzyy3n77beBEOamTJnC0qVLOffcc7nyyitbqtgFiUPtk08+SVVVFRUVFVRVVTWY5uabb6ayspLKykouueQSTj755PpxcaitrKxscAXEM844gzfeeIMFCxbw2WefcddddzXbPG2uqVOnsvfee9OrV68NLvQBIdANGjSIQYMG0adPH3baaacG41etWkV5eTkXX3xx/bCKigr69+/PgAEDOOaYY/jwww9LPh+SpC2DQUbKIVdtxLJly3JO21htxEEHHcQjjzzSYPpzzz2XL33pS7zxxhtccsklpZmBImjqPYXiaffcc0+OOOII5s2bR3V1Na+88goHHnggAKeffjovvPBCieagOEoVakeMGEFZWRllZWUMGTKEpUuXFrPYRdfUQAdwzTXXcPjhh9c/r6mp4bLLLmPGjBnMnz+fAQMGcOuttzbL/DRFKQLdEUccwd57713/uviS9ZKk/AwyUhNtSm0EwP/8z/+wfPly+vbty/33398SRS5IU+4ptGLFCtasWQPAhx9+yPPPP0+/fv3o1KkTH3/8MQsXLgRg+vTprf7msaUMtQDr1q1j4sSJHHPMMcUvfBE1NdC9/PLL/OMf/+Doo4+uH1ZXV0ddXR2ffvopdXV1rFq1qtX3mSpFoIv94Q9/qH/dbrvtVtL5KIZSBLpjjjmGgQMHsu+++zJmzBhqa2tLPh+S0ssgI+VQitqIpLZt2zJq1Cj++Mc/FrnkxdOUm8S+/vrrDB48mIEDBzJ06FDGjh1Lv379aNeuHXfeeSennHIKAwcOZOLEidx4440tMXslsamhFuD73/8+hx9+OIcddlhzF3eTNCXQrV+/nh/84Af86le/ajBd+/bt+c1vfkP//v3p2rUrVVVVnH/++aWbiSIoRaBLo1IFugceeIBXXnmFV199lerqah588MGSz4uk9DLISDmUojairq6ORYsWAeFM9OTJk9lnn32aZ4Y204gRI1i4cCFvv/02V199NQDXX399g2Uxfvz4Dc7GHnLIISxYsIBXXnmFBQsWNDg4Pemkk+rHzZw5s/6qaK1VKUPtddddR3V1NTfddFMJSt5ysgPd7bffzogRIygvL28w3bp16/jNb37DvHnzWL58OQMGDODnP/95SxS5YKUIdLFzzz2XQYMG8ZOf/IS6urriF76IShXo4n6ENTU1rF27dovpRyipNAwyUg6lqI2oq6vj7LPPpn///vTv35/333+fcePGtcTsaROUItRCuHrbtGnTqKiooE2b1r8pbkqge/HFF7n11lvp2bMnP/zhD7n33nsZO3Zs/ZX99tprL8rKyjjttNNafZ+pTVFooIPQrGzBggXMmjWLWbNmMXHixOYu7iYpZaAbPnw4u+22GzvssAOnnnpq8QsvaYvh5ZelPEaMGMGIESMaDLv++usbPB8/fvwGr4trI7K1adOG559/vriFVMklQ21tbS3nnXdefagdPHhwfajJF2q/973v0aZNG9avX18fagHGjBlDjx496oPPySef3KqDbTLQdevWjUmTJnHfffdtMF2uQPeHP/yh/vGECROYO3cuN9xwA8uXL6eqqorq6mo6d+6cij5TmxrobrvttvrnL774IrNmzeL222/nk08+Ye3atXTs2JEbbrih/j122GEHvvWtbzF79mzOOuus0s5MM9mUQAcwbdo0Pv/8c8444wyeeeYZhg0b1pzFlZQiBhlJOR1fcXxLF6GoHhv92Ga/ttihFkLTmTRpSqDLp2vXrlx77bUcfvjhtG/fnh49ejBhwoRSz0qTlCLQ1dTUsHLlSnbddVfWrVvH448/zlFHHdUs87O5ShXoYttssw0nnHACjz76qEFGUl4GGSlLxRZ2AA8wugkH8VJscwNd0jnnnMM555xT/3zMmDGMGTOmeIUssVIEujVr1jB8+HDWrVtHbW0tRx11FN/97ndLPStNUopA98knn/Cvf/2LLl26UFNTwxNPPNHqL4IhqWUZZCSpMcdvYcH2MUNtUxU70G2//fa8/PLLxS1kiZUi0H366aeMHDmSNWvWsH79eoYOHZqqkCup+RlkJEmNqji+oqWLUHSjH9v4TUvVuGIHut133505c+YUt5BSM5o6dSqXXXYZtbW1fOc732Hs2LENxl9xxRXMmDEDgNWrV/PBBx+wcuVKKisrufDCC1m1ahVt27bl6quv5vTTT2/w2ksvvZS7776bTz75pNnmJw0MMpIkSVITxPdWmj59OuXl5RxwwAGMHDmy/gIvEO6tFLvlllvqL8e/3Xbbce+999K7d2+WL1/O/vvvz/Dhw+tvIjt37lxWrFjRvDOUEgYZSZIKcPwWWDP12GbUTM38/vdLUJKWc8Ttt7d0EbQFSN5bCai/t1IyyCRVVFRw3XXXAdCnT5/64V27dmW33XajurqanXbaidraWq666iruu+8+Hn744dLPSMq0/psXSJIkSa1YU+6tlDR79mzWrl3LXnvtBcCtt97KyJEj6dKlS2kKnnLWyEiSJEnNJPveSrH333+fb3/729xzzz20adOG5cuX8+CDDzJz5swWKmnrZ42MJEmS1ASbem+l0aMbNutctWoVxx13HD/72c846KCDAJg3bx6LFi2iV69e9OzZk9WrV9OrV6/SzUQKWSMjSZIkNUFT7q20du1aTjrpJM466yxOPfXU+uHHHXccf//73+ufd+zYkUWLFpV2RlLGGhlJkiSpCZL3Vurbty+nnXZa/b2VJk+eXD9drnsrPfDAAzz33HNMmDCBQYMGMWjQICorK1tiNlLHGhlJkiSpiTb33kpnnnkmZ5555kbf33vIbMgaGUmSpM0wdepU9t57b3r16sUNN9ywwfgrrrii/gx7nz596u8LAnDPPffQu3dvevfuzT333AOEmyQed9xx7LPPPuy7774b3FBRUkPWyEiSJG2iptwA8Z///CfXXXcdc+fOpaysjP3335+RI0fyhS98gR/+8IcMHTqUtWvXcuSRR/Lkk09y7LHHNvv8bYqN3dEeQvOp8ePHU1ZWxsCBA+v7j/zoRz/iiSeeAOCaa66pv6P9008/zVVXXcX69evp2LEjEyZMaLUd3Y9v6QKUwGMtXYACWSMjSZK0iZI3QOzQoUP9DRDzqaioqL9S1bRp0xg2bBg777wznTp1YtiwYUydOpXtttuOoUOHAtChQwf2228/li5d2izzs7niQPfkk09SVVVFRUUFVVVVDaZ56623+PnPf87zzz/Pa6+9xq9//WsAnnjiCf76179SWVnJSy+9xK9+9StWrVoFwIUXXsgf/vAHKisr+da3vsVPf/rTZp83tX4GGUmSpE3UlBsgFvLalStX8thjj3HkkUeWoPTFU0igu/POO7nooovo1KkTALvtthsAVVVVHH744bRr147tt9+eAQMGMHXqVADKysrqQ83HH39M165dm3GulBYGGUmSpBLKdwPEfGpqahg9ejSXXnope+65Z4lL1zSFhLKFCxeycOFCDj30UA466KD6sDJw4ECmTp3K6tWr+fDDD5kxY0b9vVjuuusuRowYQXl5ORMnTrS/kHIyyEiSJG2iptwAcWOvveCCC+jduzeXX355CUre/GpqanjrrbeYOXMmFRUVfPe732XlypUcffTRjBgxgkMOOYTRo0dz8MEH14e9m2++mSlTprB06VLOPfdcrrzyyhaeC7VGBhlJkqRNlLwB4tq1a5k0aRIjR47cYLpcN0AcPnw4Tz31FCtWrGDFihU89dRTDB8+HIAf//jHfPzxx/X9SFq7QgJdeXk5I0eOpH379uyxxx706dOHt956C4Crr76ayspKpk+fTl1dHX369KG6uppXXnmFAw88EIDTTz+dF154oflmSqlRaJA5BngTWATkqtu7GaiM/hYCK4tSOkmSpFaoKTdA3Hnnnbnmmms44IADOOCAAxg3bhw777wzS5cu5Wc/+xlVVVXst99+DBo0iLvuuqslZq9ghQS6E088kZkzZwLw4YcfsnDhQvbcc09qa2v56KOPAJg/fz7z58/n6KOPplOnTnz88ccsXLgQgOnTp9O3b9/mnTGlQiGXX24L3AYMA5YCc4DJQPKSFFckHl8CfLVYBZQkSWqNNvcGiADnnXce5513XoNh5eXl1NXVFbeQJZYMdLW1tZx33nn1gW7w4MGMHDmyvgaqX79+tG3blhtvvJFddtmFzz//nMMOOwyAHXfckd///ve0axcOTe+8805OOeUU2rRpQ6dOnbj77rtbcjbVShUSZIYQamLeiZ5PAk6gYZBJGg1c2/SiSZIkqbXbWKArKyvjpptu4qabbmowzTbbbLPBpZpjJ510EieddFLxC6stSiFBphuwJPF8KXBgnml7AHsAzzSxXJIkSa3XgrdaugTF1b93S5dA2mSFBJlNMQp4CKjNM/6C6I/q6uoif7QkSZKaS0VFRUsXoeiSV5dT61dIZ/9lQPfE8/JoWC6jgMZ+1XcAg4HBnTt3LqiAkiRJkpStkCAzB+hNaDLWgRBWJueYbh+gE/Bi0UonSZIkSTkUEmRqgIuBacDrwAPAa8D1QPL6eqMIFwJI1+U2JEmSJKVOoX1kpkR/SeOynue+vqAkSZIkFVmhN8SUJEmSpFbDICNJkiQpdQwykiRJklLHICNJkiQpdQwykiRJklLHICNJkiQpdQwykiRJklLHICNJkiQpdQwykiRJklLHICNJkiQpdQwykiRJklLHICNJkiQpdQwykiRJklLHICNJkiQpdQwykiRJklLHICNJkiQpdQwykiRJklLHICNJkiQpdQwykiRJklLHICNJkiQpdQwykiRJklLHICNJkiQpdQwykiRJklLHICNJkiQpdQwykiRJklLHICNJkiQpdQwykiRJklLHICNJkiQpdQwykiRJklLHICNJkiQpdQwykiRJklKn0CBzDPAmsAgYm2ea04Aq4DXgvqYXTZIkSZJya1fANG2B24BhwFJgDjCZEFpivYF/Bw4FVgC7FbeYkiRJkpRRSI3MEEJNzDvAWmAScELWNN8lhJ0V0fMPilVASZIkScpWSJDpBixJPF8aDUvqE/09D/yF0BQtlwuAucDc6urqTSupJEmSJEUKaVpW6Pv0Bo4AyoHngP7Ayqzp7oj+6Ny5c12RPluSJEnSVqaQGpllQPfE8/JoWNJSQr+ZdcC7wEJCsJEkSZKkoiskyMwhhJI9gA7AKEJoSXqEUBsDsCuhmdk7RSqjJEmSJDVQSJCpAS4GpgGvAw8QLrF8PTAymmYa8BHhSmYzgKui55IkSZJUdIX2kZkS/SWNSzyuA66M/iRJkiSppAq9IaYkSZIktRoGGUmSJEmpY5CRJEmSlDoGGUmSJEmpY5CRJEmSlDoGGUmSJEmpY5CRJEmSlDoGGUmSJEmpY5CRJEmSlDoGGUmSJEmpY5CRJEmSlDoGGUmSJEmpY5CRJEmSlDoGGUmSJEmpY5CRJEmSlDoGGUmSJEmpY5CRJEmSlDoGGUmSJEmpY5CRJEmSlDoGGUmSJEmpY5CRJEmSlDoGGUmSJEmpY5CRJEmSlNRXLIIAABmwSURBVDoGGUmSJEmpY5CRJEmSlDoGGUmSJEmpY5CRJEmSlDoGGUmSJEmpY5CRJEmSlDoGGUmSJEmpY5CRJEmSlDqFBpljgDeBRcDYHOPPAaqByujvO0UpnSRJkiTl0K6AadoCtwHDgKXAHGAyUJU13f3AxUUtnSRJkiTlUEiNzBBCTcw7wFpgEnBCKQslSZIkSY0pJMh0A5Ykni+NhmU7BZgPPAR0z/NeFwBzgbnV1dWbUExJkiRJyihWZ//HgJ7AAGA6cE+e6e4ABgODO3fuXKSPliRJkrS1KSTILKNhDUt5NCzpI2BN9PguYP+mF02SJEmSciskyMwBegN7AB2AUYTO/kldEo9HAq8XpXSSJEmSlEMhVy2rIVyNbBrhCmZ3A68B1xP6u0wGLiUEmBrgn4TLMUuSJElSSRQSZACmRH9J4xKP/z36kyRJkqSSK1Znf0mSJElqNgYZSZIkSaljkJEkSZKUOgYZSZIkSaljkJEkSZKUOgYZSZIkSaljkJEkSZKUOgYZSZIkSaljkJEkSZKUOgYZSZIkSaljkJEkSZKUOgYZSZIkSaljkJEkSZKUOgYZSZIkSaljkJEkSZKUOgYZSZIkSaljkJEkSZKUOgYZSZIkSaljkJEkSZKUOgYZSZIkSaljkJEkSZKUOgYZSZIkSaljkJEkSZKUOgYZSZIkSaljkJEkSZKUOgYZSZIkSaljkJEkSZKUOgYZSZIkSaljkJEkSZKUOgYZSZIkSalTaJA5BngTWASMbWS6U4A6YHATyyVJkiRJeRUSZNoCtwHHAv2A0dH/bDsAlwEvFa10kiRJkpRDIUFmCKEm5h1gLTAJOCHHdD8BfgF8XrTSSZIkSVIOhQSZbsCSxPOl0bCk/YDuwBNFKpckSZIk5dWuCO/RBrgJOKeAaS+I/qiuri7CR0uSJEnaGhVSI7OMUNsSK4+GxXYAvgLMBBYDBwGTyd3h/45o+ODOnTtvTnklSZIkqaAgMwfoDewBdABGEYJK7GNgV6Bn9PcXYCQwt6gllSRJkqRIIUGmBrgYmAa8DjwAvAZcTwgskiRJktSsCu0jMyX6SxqXZ9ojNr84kiRJkrRxhd4QU5IkSZJaDYOMJEmSpNQxyEiSJElKHYOMJEmSpNQxyEiSJElKHYOMJEmSpNQxyEiSJElKHYOMJEmSpNQxyEiSJElKHYOMJEmSpNQxyEiSJElKHYOMJEmSpNQxyEiSJElKHYOMJEmSpNQxyEiSJElKHYOMJEmSpNQxyEiSJElKHYOMJEmSpNQxyEiSJElKHYOMJEmSpNQxyEiSJElKHYOMJEmSpNQxyEiSJElKHYOMJEmSpNQxyEiSJElKHYOMJEmSpNQxyEiSJElKHYOMJEmSpNQxyEiSJElKHYOMJEmSpNQxyEiSJElKnUKDzDHAm8AiYGyO8WOABUAl8GegX1FKJ0mSJEk5FBJk2gK3AccSAspoNgwq9wH9gUHAL4GbilhGSZIkSWqgkCAzhFAT8w6wFpgEnJA1zarE4+2BuqKUTpIkSZJyaFfANN2AJYnnS4EDc0x3EXAl0AH4RtOLJkmSJEm5FbOz/23AXsCPgB/nmeYCYC4wt7q6uogfLUmSJGlrUkiQWQZ0Tzwvj4blMwk4Mc+4O4DBwODOnTsXVEBJkiRJylZIkJkD9Ab2IDQbGwVMzpqmd+LxccBbRSmdJEmSJOVQSB+ZGuBiYBrhCmZ3A68B1xOaiU2Oxh8FrANWAGeXorCSJEmSBIUFGYAp0V/SuMTjy4pTHEmSJEnauGJ29pckSZKkZmGQkSRJkpQ6BhlJkiRJqWOQkSRJkpQ6BhlJkiRJqWOQkSRJkpQ6BhlJkiRJqWOQkSRJkpQ6BhlJkiRJqWOQkSRJkpQ6BhlJkiRJqWOQkSRJkpQ6BhlJkiRJqWOQkSRJkpQ6BhlJkiRJqWOQkSRJkpQ6BhlJkiRJqWOQkSRJkpQ6BhlJkiRJqWOQkSRJkpQ6BhlJkiRJqWOQkSRJkpQ6BhlJkiRJqWOQkSRJkpQ6BhlJkiRJqWOQkSRJkpQ6BhlJkiRJqWOQkSRJkpQ6BhlJkiRJqWOQkSRJkpQ6BhlJkiRJqVNokDkGeBNYBIzNMf5KoAqYDzwN9ChK6SRJkiQph0KCTFvgNuBYoB8wOvqfNA8YDAwAHgJ+WcQySpIkSVIDhQSZIYSamHeAtcAk4ISsaWYAq6PHfwHKi1VASZIkScpWSJDpBixJPF8aDcvnfODJPOMuAOYCc6urqwsqoCRJkiRla1fk9zuT0MTs63nG3xH90blz57oif7YkSZKkrUQhQWYZ0D3xvDwalu0o4GpCiFnT9KJJkiRJUm6FNC2bA/QG9gA6AKOAyVnTfBX4HTAS+KCYBZQkSZKkbIUEmRrgYmAa8DrwAPAacD0huADcCHQEHgQq2TDoSJIkSVLRFNpHZkr0lzQu8fio4hRHkiRJkjau0BtiSpIkSVKrYZCRJEmSlDoGGUmSJEmpY5CRJEmSlDoGGUmSJEmpY5CRJEmSlDoGGUmSJEmpY5CRJEmSlDoGGUmSJEmpY5CRJEmSlDoGGUmSJEmpY5CRJEmSlDoGGUmSJEmpY5CRJEmSlDoGGUmSJEmpY5CRJEmSlDoGGUmSJEmpY5CRJEmSlDoGGUmSJEmpY5CRJEmSlDoGGUmSJEmpY5CRJEmSlDoGGUmSJEmpY5CRJEmSlDoGGUmSJEmpY5CRJEmSlDoGGUmSJEmpY5CRJEmSlDoGGUmSJEmpY5CRJEmSlDoGGUmSJEmpU2iQOQZ4E1gEjM0x/nDgr0ANcGpxiiZJkiRJuRUSZNoCtwHHAv2A0dH/pL8B5wD3FbV0kiRJkpRDuwKmGUKoiXknej4JOAGoSkyzOPq/vnhFkyRJkqTcCqmR6QYsSTxfGg3bHBcAc4G51dXVm/kWkiRJkrZ2hdTIFNMd0R+dO3eua+bPliRJkrSFKKRGZhnQPfG8PBomSZIkSS2ikCAzB+gN7AF0AEYBk0tZKEmSJElqTCFBpga4GJgGvA48ALwGXA+MjKY5gNB35pvA76LxkiRJklQShfaRmRL9JY1LPJ5DaHImSZIkSSVX6A0xJUmSJKnVMMhIkiRJSh2DjCRJkqTUMchIkiRJSh2DjCRJkqTUMchIkiRJSh2DjCRJkqTUMchIkiRJSh2DjCRJkqTUMchIkiRJSh2DjCRJkqTUMchIkiRJSh2DjCRJkqTUMchIkiRJSh2DjCRJkqTUMchIkiRJSh2DjCRJkqTUMchIkiRJSh2DjCRJkqTUMchIkiRJSh2DjCRJkqTUMchIkiRJSh2DjCRJkqTUMchIkiRJSh2DjCRJkqTUMchIkiRJSh2DjCRJkqTUMchIkiRJSh2DjCRJkqTUMchIkiRJSp1Cg8wxwJvAImBsjvFfAO6Pxr8E9CxK6SRJkiQph0KCTFvgNuBYoB8wOvqfdD6wAugF3Az8oohllCRJkqQGCgkyQwg1Le8Aa4FJwAlZ05wA3BM9fgg4EigrUhklSZIkqYFCgkw3YEni+dJoWL5paoCPgV2aXDpJkiRJyqGQWpNTCX1kvhM9/zZwIHBxYppXo2mWRs/fjqb5MOu9Loj+APYm9LvZ2uzKhstla+RycBnEXA6ByyFwObgMYi6HwOUQuBy23mXQA+i8uS8+GJiWeP7v0V/StGg6gHaEhWzTstzmtnQBWgmXg8sg5nIIXA6By8FlEHM5BC6HwOXgMthAIU3L5gC9gT2ADsAoYHLWNJOBs6PHpwLPAHVFKqMkSZIkNdCugGlqCM3IphGuYHY38BpwPSEZTgb+G5hIuCjAPwlhR5IkSZK0hbhg45NsFVwOLoOYyyFwOQQuB5dBzOUQuBwCl4PLQJIkSZIkSZIkSWphtUAl8ArwV+CQaHhP4LNoXPx3VjRuMbAAmA88S7hE3MPRNIsI99SJXxO/X/yer5ZuVkrmkyK8xxFklssbwK+K8J7FVAf8PvG8HVANPB49PwdYDwxITPMq4TuF8Jv4Y2LcqcCExGurCfP+GuEGstsVseytzdWE+ZxPmOdrgZ9nTTMIeD16vBiYlTW+knSuK7HdgfsINxV+GXgROImG68F84H+B3aLXnEP4HR6VeJ8To2GnNkupGxeXZZ/oebyNnEf4LmcT5iFbJeGmykkzgcGlKSY9gW+V6L1j3YF3gZ2j552i5z0JF8p5nHBLgpeBGcDh0XSl3hYMAkYU8f2aKt6/vkbYx/6AzAWHWltZCxXP06vAg7TMtvxEoF8LfG4+yWXyGLBTkd73HODWIr1XfNyW69isJSWPr0YACwnHlOOB1WT2D9nT1gH/mXj+w+g1W4VCrlq2NfmMsEEdSLjEdPKA6+1oXPx3b2LcUMJB7Uzgx4SDlEGEe+/MSrzmhdIWP1Xi5fJV4P8Ah7ZscRr4FPgKsG30fBiwLGuapYSD9Hz2J//O5X7CvO8LrAVO3+yStm4HE77b/Qjrx1GEA7ns+R0FVCSe70A4OAToW+IylloZ8AjwHLAn4XcxCiiPxsfrwQDCFSIvSrx2AQ0vnDKacADYGowG/hz9j71NWJ/7Esp9OXBuYnxfwgVjDgO2b55iNkuQWQL8Brghen4DcAfwd+CJ6PFehO/+EsLvIFbKbUFrCwfx/nVfwjb1WMKJDWi8rIVclKilxPP0FcL3N6bA1xVznhoLMi2x7JLL5J803Ka1JkNpvcdmRwL/j7COvBcN+5AQ/nNZA5xMuMfMVscgk9+OwIpNfM2LQLdNmL4d8AfCGczk2bhxhIOaVwk7wfiePJcCVYSzt/FZze0JV5KbTTgbesImlrkYBgF/icr1MOGMJMABZM7E30jus+pxTVe83I4mLMe/Es5wdYyGjyDU3rxMWMEfp7SmAMdFj0fT8ECb6PP3JdzYNZf/pPGgA+H7357M7+x44CXC9/i/hDP5bYC3yNwIqg2hpq9z9PdHwm9lDpkw+HUyZ5rmEYJBS+hC2PiuiZ5/SDigX0G4YW7sNBou3wfIHNDlWvZp8g3CAc5vE8PeA27Jmq6M8D0ltzmzgCFAe8J60Ivwnba0jsDXgPPJf4XKd4ArCdus2GjC1S2fYsPt1LfJnMUdEg3bmRAC5xO2LwM2MjzX7/4GQnCqBK7YpLncNDcDBxHC29cItcxnELZlydsVvEqmdjYpe1vQk3Abg/nA08CXNzL8m9F7v0JYxzoQrix6OmHeW9vJkg8InZYvBr7AhmUdT/itPB/9z7etaw37v9gswjqar0znEH4LzxC+u47A/5Bp0XFKNF2+feBi4JfR9LOjzzoEGEnYv1YSAvNM4NeEq8peRjgonhe97m7C8o7f77rocxaQqV0tpuQx0ZDo+TxCcIj3necAfwKmEvZ1v0y8/lxCrcRsGp7szLceTCCcVPgLYRt0BGGeXyf3etcaHQ7cSTgJ+HZi+N2EdWPnHK+pIRwrlnIbp5SIq0TfIDT52D8anqtp2WHRuMVkUvCvaXhFiSPIf8Ddk1AdGK+cdxOqA6HhD3Ui4QAXYDmZjVBcXfsfwJmJYQsp7dnOXE3L5hMOIiDskH4dPX6VzI1SbyATZJLLpRMhnHyJsByfI1P+HxFC3TaEs557RMMrKG2Q+YRwcPRQ9NmVWWWOq7jPAu6JhmU3LdudsPHsRf6mZf8g7PzaRuM6kQmt3yFTVXwt4QAJwk4ubrZ2H+GgCcKGPG6e9RiZ31VHWu6MZkfCfC4EbifzG/kh4cAPwsFf8gZfiwk7uPgM2TzC2ca0Ni27lMy8Zks2LVtC2O7sGI2Lf2M3EXZoZxB+BxNo+aZlZxAuuQ/he9qf3E1ldyJsN2NvEn6nRxN+o7GZhB03hJ14/D63kDlj/w0yIS7f8Fy/+8a2wcU2nLBNHxY9v4lwIJlPY9uCx8jcm+08QnBrbPgCMgeM8b6hmE1xiiHXvmMlYVuZXdbxhP1CXCueb1vX3Pu/bPE8tQMeBS5spEznEGry4/37L8jsKyFs//PtAyFsG+OTY2eR+V1nbxNmEra3kNl39ome30tmX7KYUEMI8H3gro3PbkHiZdKWEMSOiZ7vSGZfdBSZ/dg5hNDxxai87xFq5LsAfyOE2A6EUBv/RvKtBxMIJ3nLCAFyFdCfcALwZcJJV2jYtOylps1uUa0j1GINyBo+nrDfHEcIn9BwffqEsHwXE5ajTcu2YnGV6D6Ele9eMgeW2U3Lku34ZxCaHh3Lpp09XkJYOSH0yYg31EMJK9cCwo5632j4fEINzpmEBA7hoGAsYYWcSdgQxGcnmsMXCRvrZ6Pn9xAORnYinBF9MRp+X9brDiOcPVxGuEfR3wkHtf0Iy6SSsKHqQfg+3iG0O4fmOUM/n3BwNppQO5PLfYQy75FjXC3hLNm/5xgXNyf5EuE7vioaXk5YFvGw+Hu/m0yfrPMIZ/Eg7AxuJSyryYQNWUfC8ruJcBC9E5nfSnP7hHCQewHhgO1+wk7rfsKOtw0bNisD+IhwZnoU4YBldTOVtzncRvjdz4mex03LuhO+119mTT+JsBxyLaeWMppMjfAkGjYvSypLPB5MqJH7G+EM6ldpeMImnrfnCL/jnQjbw4nR8GeAXaJx+Ya39O/+WOB9QpOaXB4mhLQ/JYbl2xYcTGabOZHMviHf8OcJB3HfJROG0m4ymSCcb1vX0vu/baPPnkv4bf/3Rso0nXCgCmGebku81wry7wNjFYn/B5Pf/dH/vQn7zYXR83j/HIt/iy+TORHXVPEy+TshpE6Phn+REGxeJZzc2TfxmqcJJ3U+J7Q66UGotZ9J2HesTcwT5F8PIIScOsL69I/o/3pC36zkPMZNy5KtA1raOsLJofPzjP9/hN9ErlYWqwjHrJfmGLdFM8jk9yLh7EjnjU1IWCF6EFbe6/JM051MbU7cjrYua5o6wkbvdsKBXn/CmcptovHHETZ8+xEOhNoRDhZOIROwkmerWrNZhL5I+xJW2kGEeZlOZl76kX+Fbg6TCU1E8h1A1hBqTX6UZ/xEwk6je57xdYSNbrxjuYWws+4PfI/M976EsEH+BqF6/sloeBvCji9eXt0I4eEGQo3OtoQdYimaDBSqlrAzupbQjOQUwvy8S6ihOYWGO6jY/YTfems5eN9crxHW19hFhKYeubYrk2l4kAGhSUV/wrZo4QavaH47E36HdxHO/l1FaBpYlmPar5LZFo0m/A4XE04K7UimKQ3k3hZuqpb83Q8i1MQcRGje0YUNv/uTCEE+V9OQ7G3BphpD6J/ZnXBQustmvk9z2pOwffggz/hPE4/zbetaev8Xn/wcRKjdWLuRMn2a4z2SNrYPrMvzONvGPicWN/utpXg19/Ey6UGYn7iPzE8IJ32/Qmhlsk3iNWsSj5talvi91me97/omvm9zWE/Yng4B/m+O8SsJAS5fv6NfE34vzVkr2eIMMvntQziz9VGB09cQqmzPIveOagmZjVPcXv7LZM6qfIvQeTZeuT8knHGKq4zbEHZSMwgHzl+Mxk8jbEDjA4mvFljeYvmYcCYpbmr3bULtzErgX2TOduRrS/8u4QDkR4R2rYcSmmNBWBn7EJqk7EnmbEpztfe+mxBMFzQyzQTCmbVcB6brCGeeGmu3+jUy7WC/SOaiAmdnTXcXodbuQcKGHkJfg0sS08TV5ntFZf4FIfC2VJDZm3DVptggMh0XKwjL5h1Cc4tsDxNqJ6aVsoDN4BnCOn1hYli+KxslfwtJY8m9U2sJpxICeg/C+hhfsSs7rPcknAS4hbDtOo0QyHpGfyfQsCYnXqe/RtimfEw42XFGNPwIwjZxVSPDc/3u/0Xp+4iVEdrlX044K38jYd7vI2zPRiambeyqVsnv/wUy28wzyLQAyDd8L0It/jjCGezuNM+8b67OhP3grYQD8o2VNd+2rqX3f7kUWqbpNDwg7UT+fWDs9MT/uLVDY8vuTcL6Fr9fvH9uDqsJtQM/IASI5P4t1xUNs71EONm1C6Gf4DcT4/KtB1uC1YST1meQ+0TuTYQTnblC2T8JfUxb8gSwWljcRya+BHPc2TtXH5m4+i7ZRwbCjvua6PHG+si8QTg4fZ3QXjTeyf2UsEN7ntDcZDxhRf4zYUf9KuHgBsLZx99Fw19r5POKZT3hwDP+u5KGnf0fIdPZ/0Aynf3/i0wzuuzlsi1hA9eTcLZ3TvS6+WQOAo4n09n/t4QmdqWSqy13rj4ysUsJO+NkH5n4N/EFQt+mXH1k5hOarcWXVDyBzCV6byTUZMTaEw7WkqFkV0LNxXxCdXwckG8h/EbmEwLDF2gZ+xN2OPEFKv5EZrnsSgh62Vf5yV6fIL2XKo91ITTBepdQwxJfuS3ZRybupB0ftOTr39DSfWRmkGnzHruUUEuY7/LLXydsH5LaEpqedCHTOXkeTevsn+t3354QJl+hdB1hL6BhrWJbQgfqrxPW1ymE9fpFwgF5fEntxrYFPcjdmTnf8D+R2Tf8F+EgemfCtrS1dPbPvvzyD8mcTM0ua9wnIJZvW9fc+79sufYV+cqUvU53JDT1ii/ScHI0PN8+cDEhpM+Pxsfh5FDCMplHprN/8nLmjXX2j7e1g2m4v2mK7GXyGCFAHUyoVZ5HOMZZHI3PXi6PE7aN0LCz/x2J6fKtB8ntY/Z+Izku136mNUguu/gk0Ug2XB9uomGNXPJ1uxPC0FbTR0YqpY6Jx2MJO9imvlcZoend1nZ1jsFsWWedJEmFa60H35K0xYovp/kq4X4KhfQ3yueK6L2qCLUxW/JNJLONJTTJ+trGJpQkbZEMMpIkSZIkSZIkSZIkSZIkSZIkSZIkSZIkSZIkSZIkSZIkSdKW7/8DdtXb1lsbKQ8AAAAASUVORK5CYII=)"
      ],
      "metadata": {
        "id": "XUW65kTmgbCQ"
      },
      "id": "XUW65kTmgbCQ"
    },
    {
      "cell_type": "code",
      "source": [
        "BACKUP=False\n",
        "if(BACKUP):\n",
        "  !zip {TRAINED_MODEL} outputs/best_model/*.*\n",
        "  !cp -nf {TRAINED_MODEL} {DRIVE_PATH}/last_model/"
      ],
      "metadata": {
        "id": "l1ugcbGAUP6-"
      },
      "id": "l1ugcbGAUP6-",
      "execution_count": 59,
      "outputs": []
    },
    {
      "cell_type": "markdown",
      "source": [
        "# References\n",
        "\n",
        "*  [stress-analysis-in-social-media](https://www.kaggle.com/datasets/ruchi798/) \n",
        "\n",
        "<br>\n",
        "\n",
        "**Thank you**\n",
        "\n"
      ],
      "metadata": {
        "id": "1SmM7Kohi6If"
      },
      "id": "1SmM7Kohi6If"
    }
  ],
  "metadata": {
    "accelerator": "GPU",
    "colab": {
      "collapsed_sections": [],
      "name": "Adv ML Final Project Dreaddit - Part 1 .ipynb",
      "provenance": []
    },
    "gpuClass": "standard",
    "kernelspec": {
      "display_name": "Python 3",
      "language": "python",
      "name": "python3"
    },
    "language_info": {
      "codemirror_mode": {
        "name": "ipython",
        "version": 3
      },
      "file_extension": ".py",
      "mimetype": "text/x-python",
      "name": "python",
      "nbconvert_exporter": "python",
      "pygments_lexer": "ipython3",
      "version": "3.7.10"
    },
    "papermill": {
      "default_parameters": {},
      "duration": 199.046021,
      "end_time": "2021-07-03T17:02:02.940039",
      "environment_variables": {},
      "exception": null,
      "input_path": "__notebook__.ipynb",
      "output_path": "__notebook__.ipynb",
      "parameters": {},
      "start_time": "2021-07-03T16:58:43.894018",
      "version": "2.3.3"
    },
    "widgets": {
      "application/vnd.jupyter.widget-state+json": {
        "edf9fc569d984503bb79583ce9906e57": {
          "model_module": "@jupyter-widgets/controls",
          "model_name": "HBoxModel",
          "model_module_version": "1.5.0",
          "state": {
            "_dom_classes": [],
            "_model_module": "@jupyter-widgets/controls",
            "_model_module_version": "1.5.0",
            "_model_name": "HBoxModel",
            "_view_count": null,
            "_view_module": "@jupyter-widgets/controls",
            "_view_module_version": "1.5.0",
            "_view_name": "HBoxView",
            "box_style": "",
            "children": [
              "IPY_MODEL_b209c59268f6454699d42e436bd6a6fd",
              "IPY_MODEL_07324980ee1c4947aa9f2605ad28980c",
              "IPY_MODEL_143d72df5a5745168a4fe2f2c2ea37d2"
            ],
            "layout": "IPY_MODEL_560aa8a055c64783a40017c154f453f6"
          }
        },
        "b209c59268f6454699d42e436bd6a6fd": {
          "model_module": "@jupyter-widgets/controls",
          "model_name": "HTMLModel",
          "model_module_version": "1.5.0",
          "state": {
            "_dom_classes": [],
            "_model_module": "@jupyter-widgets/controls",
            "_model_module_version": "1.5.0",
            "_model_name": "HTMLModel",
            "_view_count": null,
            "_view_module": "@jupyter-widgets/controls",
            "_view_module_version": "1.5.0",
            "_view_name": "HTMLView",
            "description": "",
            "description_tooltip": null,
            "layout": "IPY_MODEL_7554e0c40ed54862a75b811e64b23adb",
            "placeholder": "​",
            "style": "IPY_MODEL_d3a5628aa60c40a392b8c2c6271da3f9",
            "value": "Downloading vocab.txt: 100%"
          }
        },
        "07324980ee1c4947aa9f2605ad28980c": {
          "model_module": "@jupyter-widgets/controls",
          "model_name": "FloatProgressModel",
          "model_module_version": "1.5.0",
          "state": {
            "_dom_classes": [],
            "_model_module": "@jupyter-widgets/controls",
            "_model_module_version": "1.5.0",
            "_model_name": "FloatProgressModel",
            "_view_count": null,
            "_view_module": "@jupyter-widgets/controls",
            "_view_module_version": "1.5.0",
            "_view_name": "ProgressView",
            "bar_style": "success",
            "description": "",
            "description_tooltip": null,
            "layout": "IPY_MODEL_48cb208010274f2588b9a2b017ef15c1",
            "max": 231508,
            "min": 0,
            "orientation": "horizontal",
            "style": "IPY_MODEL_903eee2dfb314ba9a2e219dc57864c64",
            "value": 231508
          }
        },
        "143d72df5a5745168a4fe2f2c2ea37d2": {
          "model_module": "@jupyter-widgets/controls",
          "model_name": "HTMLModel",
          "model_module_version": "1.5.0",
          "state": {
            "_dom_classes": [],
            "_model_module": "@jupyter-widgets/controls",
            "_model_module_version": "1.5.0",
            "_model_name": "HTMLModel",
            "_view_count": null,
            "_view_module": "@jupyter-widgets/controls",
            "_view_module_version": "1.5.0",
            "_view_name": "HTMLView",
            "description": "",
            "description_tooltip": null,
            "layout": "IPY_MODEL_bd35f0c6f75340e9b1b5eec55f295c76",
            "placeholder": "​",
            "style": "IPY_MODEL_d7a58ab21b8c4f37b0886697cf9e9fc3",
            "value": " 226k/226k [00:00&lt;00:00, 1.02MB/s]"
          }
        },
        "560aa8a055c64783a40017c154f453f6": {
          "model_module": "@jupyter-widgets/base",
          "model_name": "LayoutModel",
          "model_module_version": "1.2.0",
          "state": {
            "_model_module": "@jupyter-widgets/base",
            "_model_module_version": "1.2.0",
            "_model_name": "LayoutModel",
            "_view_count": null,
            "_view_module": "@jupyter-widgets/base",
            "_view_module_version": "1.2.0",
            "_view_name": "LayoutView",
            "align_content": null,
            "align_items": null,
            "align_self": null,
            "border": null,
            "bottom": null,
            "display": null,
            "flex": null,
            "flex_flow": null,
            "grid_area": null,
            "grid_auto_columns": null,
            "grid_auto_flow": null,
            "grid_auto_rows": null,
            "grid_column": null,
            "grid_gap": null,
            "grid_row": null,
            "grid_template_areas": null,
            "grid_template_columns": null,
            "grid_template_rows": null,
            "height": null,
            "justify_content": null,
            "justify_items": null,
            "left": null,
            "margin": null,
            "max_height": null,
            "max_width": null,
            "min_height": null,
            "min_width": null,
            "object_fit": null,
            "object_position": null,
            "order": null,
            "overflow": null,
            "overflow_x": null,
            "overflow_y": null,
            "padding": null,
            "right": null,
            "top": null,
            "visibility": null,
            "width": null
          }
        },
        "7554e0c40ed54862a75b811e64b23adb": {
          "model_module": "@jupyter-widgets/base",
          "model_name": "LayoutModel",
          "model_module_version": "1.2.0",
          "state": {
            "_model_module": "@jupyter-widgets/base",
            "_model_module_version": "1.2.0",
            "_model_name": "LayoutModel",
            "_view_count": null,
            "_view_module": "@jupyter-widgets/base",
            "_view_module_version": "1.2.0",
            "_view_name": "LayoutView",
            "align_content": null,
            "align_items": null,
            "align_self": null,
            "border": null,
            "bottom": null,
            "display": null,
            "flex": null,
            "flex_flow": null,
            "grid_area": null,
            "grid_auto_columns": null,
            "grid_auto_flow": null,
            "grid_auto_rows": null,
            "grid_column": null,
            "grid_gap": null,
            "grid_row": null,
            "grid_template_areas": null,
            "grid_template_columns": null,
            "grid_template_rows": null,
            "height": null,
            "justify_content": null,
            "justify_items": null,
            "left": null,
            "margin": null,
            "max_height": null,
            "max_width": null,
            "min_height": null,
            "min_width": null,
            "object_fit": null,
            "object_position": null,
            "order": null,
            "overflow": null,
            "overflow_x": null,
            "overflow_y": null,
            "padding": null,
            "right": null,
            "top": null,
            "visibility": null,
            "width": null
          }
        },
        "d3a5628aa60c40a392b8c2c6271da3f9": {
          "model_module": "@jupyter-widgets/controls",
          "model_name": "DescriptionStyleModel",
          "model_module_version": "1.5.0",
          "state": {
            "_model_module": "@jupyter-widgets/controls",
            "_model_module_version": "1.5.0",
            "_model_name": "DescriptionStyleModel",
            "_view_count": null,
            "_view_module": "@jupyter-widgets/base",
            "_view_module_version": "1.2.0",
            "_view_name": "StyleView",
            "description_width": ""
          }
        },
        "48cb208010274f2588b9a2b017ef15c1": {
          "model_module": "@jupyter-widgets/base",
          "model_name": "LayoutModel",
          "model_module_version": "1.2.0",
          "state": {
            "_model_module": "@jupyter-widgets/base",
            "_model_module_version": "1.2.0",
            "_model_name": "LayoutModel",
            "_view_count": null,
            "_view_module": "@jupyter-widgets/base",
            "_view_module_version": "1.2.0",
            "_view_name": "LayoutView",
            "align_content": null,
            "align_items": null,
            "align_self": null,
            "border": null,
            "bottom": null,
            "display": null,
            "flex": null,
            "flex_flow": null,
            "grid_area": null,
            "grid_auto_columns": null,
            "grid_auto_flow": null,
            "grid_auto_rows": null,
            "grid_column": null,
            "grid_gap": null,
            "grid_row": null,
            "grid_template_areas": null,
            "grid_template_columns": null,
            "grid_template_rows": null,
            "height": null,
            "justify_content": null,
            "justify_items": null,
            "left": null,
            "margin": null,
            "max_height": null,
            "max_width": null,
            "min_height": null,
            "min_width": null,
            "object_fit": null,
            "object_position": null,
            "order": null,
            "overflow": null,
            "overflow_x": null,
            "overflow_y": null,
            "padding": null,
            "right": null,
            "top": null,
            "visibility": null,
            "width": null
          }
        },
        "903eee2dfb314ba9a2e219dc57864c64": {
          "model_module": "@jupyter-widgets/controls",
          "model_name": "ProgressStyleModel",
          "model_module_version": "1.5.0",
          "state": {
            "_model_module": "@jupyter-widgets/controls",
            "_model_module_version": "1.5.0",
            "_model_name": "ProgressStyleModel",
            "_view_count": null,
            "_view_module": "@jupyter-widgets/base",
            "_view_module_version": "1.2.0",
            "_view_name": "StyleView",
            "bar_color": null,
            "description_width": ""
          }
        },
        "bd35f0c6f75340e9b1b5eec55f295c76": {
          "model_module": "@jupyter-widgets/base",
          "model_name": "LayoutModel",
          "model_module_version": "1.2.0",
          "state": {
            "_model_module": "@jupyter-widgets/base",
            "_model_module_version": "1.2.0",
            "_model_name": "LayoutModel",
            "_view_count": null,
            "_view_module": "@jupyter-widgets/base",
            "_view_module_version": "1.2.0",
            "_view_name": "LayoutView",
            "align_content": null,
            "align_items": null,
            "align_self": null,
            "border": null,
            "bottom": null,
            "display": null,
            "flex": null,
            "flex_flow": null,
            "grid_area": null,
            "grid_auto_columns": null,
            "grid_auto_flow": null,
            "grid_auto_rows": null,
            "grid_column": null,
            "grid_gap": null,
            "grid_row": null,
            "grid_template_areas": null,
            "grid_template_columns": null,
            "grid_template_rows": null,
            "height": null,
            "justify_content": null,
            "justify_items": null,
            "left": null,
            "margin": null,
            "max_height": null,
            "max_width": null,
            "min_height": null,
            "min_width": null,
            "object_fit": null,
            "object_position": null,
            "order": null,
            "overflow": null,
            "overflow_x": null,
            "overflow_y": null,
            "padding": null,
            "right": null,
            "top": null,
            "visibility": null,
            "width": null
          }
        },
        "d7a58ab21b8c4f37b0886697cf9e9fc3": {
          "model_module": "@jupyter-widgets/controls",
          "model_name": "DescriptionStyleModel",
          "model_module_version": "1.5.0",
          "state": {
            "_model_module": "@jupyter-widgets/controls",
            "_model_module_version": "1.5.0",
            "_model_name": "DescriptionStyleModel",
            "_view_count": null,
            "_view_module": "@jupyter-widgets/base",
            "_view_module_version": "1.2.0",
            "_view_name": "StyleView",
            "description_width": ""
          }
        },
        "daabf19b52764bc78dd0ed07cddb741e": {
          "model_module": "@jupyter-widgets/controls",
          "model_name": "HBoxModel",
          "model_module_version": "1.5.0",
          "state": {
            "_dom_classes": [],
            "_model_module": "@jupyter-widgets/controls",
            "_model_module_version": "1.5.0",
            "_model_name": "HBoxModel",
            "_view_count": null,
            "_view_module": "@jupyter-widgets/controls",
            "_view_module_version": "1.5.0",
            "_view_name": "HBoxView",
            "box_style": "",
            "children": [
              "IPY_MODEL_ad6c51c6a6f949d5904cdcca2a2d61e6",
              "IPY_MODEL_e75f2b23dfec4b3eb6847b57e3b95ce1",
              "IPY_MODEL_7a6b78c6c31d4d49a9b4c1f3f91091e2"
            ],
            "layout": "IPY_MODEL_b4eeb59fb7d6437ea86a6882705695e8"
          }
        },
        "ad6c51c6a6f949d5904cdcca2a2d61e6": {
          "model_module": "@jupyter-widgets/controls",
          "model_name": "HTMLModel",
          "model_module_version": "1.5.0",
          "state": {
            "_dom_classes": [],
            "_model_module": "@jupyter-widgets/controls",
            "_model_module_version": "1.5.0",
            "_model_name": "HTMLModel",
            "_view_count": null,
            "_view_module": "@jupyter-widgets/controls",
            "_view_module_version": "1.5.0",
            "_view_name": "HTMLView",
            "description": "",
            "description_tooltip": null,
            "layout": "IPY_MODEL_afb4f072441243d1ba3b78ad16a15cdf",
            "placeholder": "​",
            "style": "IPY_MODEL_6663015bbc5f488698b6b01fc72d3ac8",
            "value": "Downloading tokenizer_config.json: 100%"
          }
        },
        "e75f2b23dfec4b3eb6847b57e3b95ce1": {
          "model_module": "@jupyter-widgets/controls",
          "model_name": "FloatProgressModel",
          "model_module_version": "1.5.0",
          "state": {
            "_dom_classes": [],
            "_model_module": "@jupyter-widgets/controls",
            "_model_module_version": "1.5.0",
            "_model_name": "FloatProgressModel",
            "_view_count": null,
            "_view_module": "@jupyter-widgets/controls",
            "_view_module_version": "1.5.0",
            "_view_name": "ProgressView",
            "bar_style": "success",
            "description": "",
            "description_tooltip": null,
            "layout": "IPY_MODEL_52253d636e2b4127abdd78a76945b690",
            "max": 28,
            "min": 0,
            "orientation": "horizontal",
            "style": "IPY_MODEL_71f5570a747e4cb78233e3f0e3cd33dc",
            "value": 28
          }
        },
        "7a6b78c6c31d4d49a9b4c1f3f91091e2": {
          "model_module": "@jupyter-widgets/controls",
          "model_name": "HTMLModel",
          "model_module_version": "1.5.0",
          "state": {
            "_dom_classes": [],
            "_model_module": "@jupyter-widgets/controls",
            "_model_module_version": "1.5.0",
            "_model_name": "HTMLModel",
            "_view_count": null,
            "_view_module": "@jupyter-widgets/controls",
            "_view_module_version": "1.5.0",
            "_view_name": "HTMLView",
            "description": "",
            "description_tooltip": null,
            "layout": "IPY_MODEL_1312a36cc9fa4b9a8b1f356375df9521",
            "placeholder": "​",
            "style": "IPY_MODEL_b3b4c3bdc90f47d8aa9a519aceca9db6",
            "value": " 28.0/28.0 [00:00&lt;00:00, 323B/s]"
          }
        },
        "b4eeb59fb7d6437ea86a6882705695e8": {
          "model_module": "@jupyter-widgets/base",
          "model_name": "LayoutModel",
          "model_module_version": "1.2.0",
          "state": {
            "_model_module": "@jupyter-widgets/base",
            "_model_module_version": "1.2.0",
            "_model_name": "LayoutModel",
            "_view_count": null,
            "_view_module": "@jupyter-widgets/base",
            "_view_module_version": "1.2.0",
            "_view_name": "LayoutView",
            "align_content": null,
            "align_items": null,
            "align_self": null,
            "border": null,
            "bottom": null,
            "display": null,
            "flex": null,
            "flex_flow": null,
            "grid_area": null,
            "grid_auto_columns": null,
            "grid_auto_flow": null,
            "grid_auto_rows": null,
            "grid_column": null,
            "grid_gap": null,
            "grid_row": null,
            "grid_template_areas": null,
            "grid_template_columns": null,
            "grid_template_rows": null,
            "height": null,
            "justify_content": null,
            "justify_items": null,
            "left": null,
            "margin": null,
            "max_height": null,
            "max_width": null,
            "min_height": null,
            "min_width": null,
            "object_fit": null,
            "object_position": null,
            "order": null,
            "overflow": null,
            "overflow_x": null,
            "overflow_y": null,
            "padding": null,
            "right": null,
            "top": null,
            "visibility": null,
            "width": null
          }
        },
        "afb4f072441243d1ba3b78ad16a15cdf": {
          "model_module": "@jupyter-widgets/base",
          "model_name": "LayoutModel",
          "model_module_version": "1.2.0",
          "state": {
            "_model_module": "@jupyter-widgets/base",
            "_model_module_version": "1.2.0",
            "_model_name": "LayoutModel",
            "_view_count": null,
            "_view_module": "@jupyter-widgets/base",
            "_view_module_version": "1.2.0",
            "_view_name": "LayoutView",
            "align_content": null,
            "align_items": null,
            "align_self": null,
            "border": null,
            "bottom": null,
            "display": null,
            "flex": null,
            "flex_flow": null,
            "grid_area": null,
            "grid_auto_columns": null,
            "grid_auto_flow": null,
            "grid_auto_rows": null,
            "grid_column": null,
            "grid_gap": null,
            "grid_row": null,
            "grid_template_areas": null,
            "grid_template_columns": null,
            "grid_template_rows": null,
            "height": null,
            "justify_content": null,
            "justify_items": null,
            "left": null,
            "margin": null,
            "max_height": null,
            "max_width": null,
            "min_height": null,
            "min_width": null,
            "object_fit": null,
            "object_position": null,
            "order": null,
            "overflow": null,
            "overflow_x": null,
            "overflow_y": null,
            "padding": null,
            "right": null,
            "top": null,
            "visibility": null,
            "width": null
          }
        },
        "6663015bbc5f488698b6b01fc72d3ac8": {
          "model_module": "@jupyter-widgets/controls",
          "model_name": "DescriptionStyleModel",
          "model_module_version": "1.5.0",
          "state": {
            "_model_module": "@jupyter-widgets/controls",
            "_model_module_version": "1.5.0",
            "_model_name": "DescriptionStyleModel",
            "_view_count": null,
            "_view_module": "@jupyter-widgets/base",
            "_view_module_version": "1.2.0",
            "_view_name": "StyleView",
            "description_width": ""
          }
        },
        "52253d636e2b4127abdd78a76945b690": {
          "model_module": "@jupyter-widgets/base",
          "model_name": "LayoutModel",
          "model_module_version": "1.2.0",
          "state": {
            "_model_module": "@jupyter-widgets/base",
            "_model_module_version": "1.2.0",
            "_model_name": "LayoutModel",
            "_view_count": null,
            "_view_module": "@jupyter-widgets/base",
            "_view_module_version": "1.2.0",
            "_view_name": "LayoutView",
            "align_content": null,
            "align_items": null,
            "align_self": null,
            "border": null,
            "bottom": null,
            "display": null,
            "flex": null,
            "flex_flow": null,
            "grid_area": null,
            "grid_auto_columns": null,
            "grid_auto_flow": null,
            "grid_auto_rows": null,
            "grid_column": null,
            "grid_gap": null,
            "grid_row": null,
            "grid_template_areas": null,
            "grid_template_columns": null,
            "grid_template_rows": null,
            "height": null,
            "justify_content": null,
            "justify_items": null,
            "left": null,
            "margin": null,
            "max_height": null,
            "max_width": null,
            "min_height": null,
            "min_width": null,
            "object_fit": null,
            "object_position": null,
            "order": null,
            "overflow": null,
            "overflow_x": null,
            "overflow_y": null,
            "padding": null,
            "right": null,
            "top": null,
            "visibility": null,
            "width": null
          }
        },
        "71f5570a747e4cb78233e3f0e3cd33dc": {
          "model_module": "@jupyter-widgets/controls",
          "model_name": "ProgressStyleModel",
          "model_module_version": "1.5.0",
          "state": {
            "_model_module": "@jupyter-widgets/controls",
            "_model_module_version": "1.5.0",
            "_model_name": "ProgressStyleModel",
            "_view_count": null,
            "_view_module": "@jupyter-widgets/base",
            "_view_module_version": "1.2.0",
            "_view_name": "StyleView",
            "bar_color": null,
            "description_width": ""
          }
        },
        "1312a36cc9fa4b9a8b1f356375df9521": {
          "model_module": "@jupyter-widgets/base",
          "model_name": "LayoutModel",
          "model_module_version": "1.2.0",
          "state": {
            "_model_module": "@jupyter-widgets/base",
            "_model_module_version": "1.2.0",
            "_model_name": "LayoutModel",
            "_view_count": null,
            "_view_module": "@jupyter-widgets/base",
            "_view_module_version": "1.2.0",
            "_view_name": "LayoutView",
            "align_content": null,
            "align_items": null,
            "align_self": null,
            "border": null,
            "bottom": null,
            "display": null,
            "flex": null,
            "flex_flow": null,
            "grid_area": null,
            "grid_auto_columns": null,
            "grid_auto_flow": null,
            "grid_auto_rows": null,
            "grid_column": null,
            "grid_gap": null,
            "grid_row": null,
            "grid_template_areas": null,
            "grid_template_columns": null,
            "grid_template_rows": null,
            "height": null,
            "justify_content": null,
            "justify_items": null,
            "left": null,
            "margin": null,
            "max_height": null,
            "max_width": null,
            "min_height": null,
            "min_width": null,
            "object_fit": null,
            "object_position": null,
            "order": null,
            "overflow": null,
            "overflow_x": null,
            "overflow_y": null,
            "padding": null,
            "right": null,
            "top": null,
            "visibility": null,
            "width": null
          }
        },
        "b3b4c3bdc90f47d8aa9a519aceca9db6": {
          "model_module": "@jupyter-widgets/controls",
          "model_name": "DescriptionStyleModel",
          "model_module_version": "1.5.0",
          "state": {
            "_model_module": "@jupyter-widgets/controls",
            "_model_module_version": "1.5.0",
            "_model_name": "DescriptionStyleModel",
            "_view_count": null,
            "_view_module": "@jupyter-widgets/base",
            "_view_module_version": "1.2.0",
            "_view_name": "StyleView",
            "description_width": ""
          }
        },
        "e77c8caf998741a2a10d9d7ed0704a27": {
          "model_module": "@jupyter-widgets/controls",
          "model_name": "HBoxModel",
          "model_module_version": "1.5.0",
          "state": {
            "_dom_classes": [],
            "_model_module": "@jupyter-widgets/controls",
            "_model_module_version": "1.5.0",
            "_model_name": "HBoxModel",
            "_view_count": null,
            "_view_module": "@jupyter-widgets/controls",
            "_view_module_version": "1.5.0",
            "_view_name": "HBoxView",
            "box_style": "",
            "children": [
              "IPY_MODEL_37ccd37d1d7e41dfa4e1c7f83fd3651c",
              "IPY_MODEL_3b0680c75ab24c2a9964fdff1f0d8f90",
              "IPY_MODEL_b030238f41dc439d833a8c10c94626c4"
            ],
            "layout": "IPY_MODEL_b201e6c46ced4357874dc7e521b63bed"
          }
        },
        "37ccd37d1d7e41dfa4e1c7f83fd3651c": {
          "model_module": "@jupyter-widgets/controls",
          "model_name": "HTMLModel",
          "model_module_version": "1.5.0",
          "state": {
            "_dom_classes": [],
            "_model_module": "@jupyter-widgets/controls",
            "_model_module_version": "1.5.0",
            "_model_name": "HTMLModel",
            "_view_count": null,
            "_view_module": "@jupyter-widgets/controls",
            "_view_module_version": "1.5.0",
            "_view_name": "HTMLView",
            "description": "",
            "description_tooltip": null,
            "layout": "IPY_MODEL_91166da47ac2455baed983ab00021d14",
            "placeholder": "​",
            "style": "IPY_MODEL_0ddc3cc057ad4e00beda47c3644cc0e8",
            "value": "Downloading config.json: 100%"
          }
        },
        "3b0680c75ab24c2a9964fdff1f0d8f90": {
          "model_module": "@jupyter-widgets/controls",
          "model_name": "FloatProgressModel",
          "model_module_version": "1.5.0",
          "state": {
            "_dom_classes": [],
            "_model_module": "@jupyter-widgets/controls",
            "_model_module_version": "1.5.0",
            "_model_name": "FloatProgressModel",
            "_view_count": null,
            "_view_module": "@jupyter-widgets/controls",
            "_view_module_version": "1.5.0",
            "_view_name": "ProgressView",
            "bar_style": "success",
            "description": "",
            "description_tooltip": null,
            "layout": "IPY_MODEL_653f52ddca6d4eada369859842d57a04",
            "max": 570,
            "min": 0,
            "orientation": "horizontal",
            "style": "IPY_MODEL_88262c7deb7343698c879b4d74a1c311",
            "value": 570
          }
        },
        "b030238f41dc439d833a8c10c94626c4": {
          "model_module": "@jupyter-widgets/controls",
          "model_name": "HTMLModel",
          "model_module_version": "1.5.0",
          "state": {
            "_dom_classes": [],
            "_model_module": "@jupyter-widgets/controls",
            "_model_module_version": "1.5.0",
            "_model_name": "HTMLModel",
            "_view_count": null,
            "_view_module": "@jupyter-widgets/controls",
            "_view_module_version": "1.5.0",
            "_view_name": "HTMLView",
            "description": "",
            "description_tooltip": null,
            "layout": "IPY_MODEL_b4085ae059234df1b629828f1fd1c59f",
            "placeholder": "​",
            "style": "IPY_MODEL_b10a93c09c1e4d8fa199898451c4e8cd",
            "value": " 570/570 [00:00&lt;00:00, 3.39kB/s]"
          }
        },
        "b201e6c46ced4357874dc7e521b63bed": {
          "model_module": "@jupyter-widgets/base",
          "model_name": "LayoutModel",
          "model_module_version": "1.2.0",
          "state": {
            "_model_module": "@jupyter-widgets/base",
            "_model_module_version": "1.2.0",
            "_model_name": "LayoutModel",
            "_view_count": null,
            "_view_module": "@jupyter-widgets/base",
            "_view_module_version": "1.2.0",
            "_view_name": "LayoutView",
            "align_content": null,
            "align_items": null,
            "align_self": null,
            "border": null,
            "bottom": null,
            "display": null,
            "flex": null,
            "flex_flow": null,
            "grid_area": null,
            "grid_auto_columns": null,
            "grid_auto_flow": null,
            "grid_auto_rows": null,
            "grid_column": null,
            "grid_gap": null,
            "grid_row": null,
            "grid_template_areas": null,
            "grid_template_columns": null,
            "grid_template_rows": null,
            "height": null,
            "justify_content": null,
            "justify_items": null,
            "left": null,
            "margin": null,
            "max_height": null,
            "max_width": null,
            "min_height": null,
            "min_width": null,
            "object_fit": null,
            "object_position": null,
            "order": null,
            "overflow": null,
            "overflow_x": null,
            "overflow_y": null,
            "padding": null,
            "right": null,
            "top": null,
            "visibility": null,
            "width": null
          }
        },
        "91166da47ac2455baed983ab00021d14": {
          "model_module": "@jupyter-widgets/base",
          "model_name": "LayoutModel",
          "model_module_version": "1.2.0",
          "state": {
            "_model_module": "@jupyter-widgets/base",
            "_model_module_version": "1.2.0",
            "_model_name": "LayoutModel",
            "_view_count": null,
            "_view_module": "@jupyter-widgets/base",
            "_view_module_version": "1.2.0",
            "_view_name": "LayoutView",
            "align_content": null,
            "align_items": null,
            "align_self": null,
            "border": null,
            "bottom": null,
            "display": null,
            "flex": null,
            "flex_flow": null,
            "grid_area": null,
            "grid_auto_columns": null,
            "grid_auto_flow": null,
            "grid_auto_rows": null,
            "grid_column": null,
            "grid_gap": null,
            "grid_row": null,
            "grid_template_areas": null,
            "grid_template_columns": null,
            "grid_template_rows": null,
            "height": null,
            "justify_content": null,
            "justify_items": null,
            "left": null,
            "margin": null,
            "max_height": null,
            "max_width": null,
            "min_height": null,
            "min_width": null,
            "object_fit": null,
            "object_position": null,
            "order": null,
            "overflow": null,
            "overflow_x": null,
            "overflow_y": null,
            "padding": null,
            "right": null,
            "top": null,
            "visibility": null,
            "width": null
          }
        },
        "0ddc3cc057ad4e00beda47c3644cc0e8": {
          "model_module": "@jupyter-widgets/controls",
          "model_name": "DescriptionStyleModel",
          "model_module_version": "1.5.0",
          "state": {
            "_model_module": "@jupyter-widgets/controls",
            "_model_module_version": "1.5.0",
            "_model_name": "DescriptionStyleModel",
            "_view_count": null,
            "_view_module": "@jupyter-widgets/base",
            "_view_module_version": "1.2.0",
            "_view_name": "StyleView",
            "description_width": ""
          }
        },
        "653f52ddca6d4eada369859842d57a04": {
          "model_module": "@jupyter-widgets/base",
          "model_name": "LayoutModel",
          "model_module_version": "1.2.0",
          "state": {
            "_model_module": "@jupyter-widgets/base",
            "_model_module_version": "1.2.0",
            "_model_name": "LayoutModel",
            "_view_count": null,
            "_view_module": "@jupyter-widgets/base",
            "_view_module_version": "1.2.0",
            "_view_name": "LayoutView",
            "align_content": null,
            "align_items": null,
            "align_self": null,
            "border": null,
            "bottom": null,
            "display": null,
            "flex": null,
            "flex_flow": null,
            "grid_area": null,
            "grid_auto_columns": null,
            "grid_auto_flow": null,
            "grid_auto_rows": null,
            "grid_column": null,
            "grid_gap": null,
            "grid_row": null,
            "grid_template_areas": null,
            "grid_template_columns": null,
            "grid_template_rows": null,
            "height": null,
            "justify_content": null,
            "justify_items": null,
            "left": null,
            "margin": null,
            "max_height": null,
            "max_width": null,
            "min_height": null,
            "min_width": null,
            "object_fit": null,
            "object_position": null,
            "order": null,
            "overflow": null,
            "overflow_x": null,
            "overflow_y": null,
            "padding": null,
            "right": null,
            "top": null,
            "visibility": null,
            "width": null
          }
        },
        "88262c7deb7343698c879b4d74a1c311": {
          "model_module": "@jupyter-widgets/controls",
          "model_name": "ProgressStyleModel",
          "model_module_version": "1.5.0",
          "state": {
            "_model_module": "@jupyter-widgets/controls",
            "_model_module_version": "1.5.0",
            "_model_name": "ProgressStyleModel",
            "_view_count": null,
            "_view_module": "@jupyter-widgets/base",
            "_view_module_version": "1.2.0",
            "_view_name": "StyleView",
            "bar_color": null,
            "description_width": ""
          }
        },
        "b4085ae059234df1b629828f1fd1c59f": {
          "model_module": "@jupyter-widgets/base",
          "model_name": "LayoutModel",
          "model_module_version": "1.2.0",
          "state": {
            "_model_module": "@jupyter-widgets/base",
            "_model_module_version": "1.2.0",
            "_model_name": "LayoutModel",
            "_view_count": null,
            "_view_module": "@jupyter-widgets/base",
            "_view_module_version": "1.2.0",
            "_view_name": "LayoutView",
            "align_content": null,
            "align_items": null,
            "align_self": null,
            "border": null,
            "bottom": null,
            "display": null,
            "flex": null,
            "flex_flow": null,
            "grid_area": null,
            "grid_auto_columns": null,
            "grid_auto_flow": null,
            "grid_auto_rows": null,
            "grid_column": null,
            "grid_gap": null,
            "grid_row": null,
            "grid_template_areas": null,
            "grid_template_columns": null,
            "grid_template_rows": null,
            "height": null,
            "justify_content": null,
            "justify_items": null,
            "left": null,
            "margin": null,
            "max_height": null,
            "max_width": null,
            "min_height": null,
            "min_width": null,
            "object_fit": null,
            "object_position": null,
            "order": null,
            "overflow": null,
            "overflow_x": null,
            "overflow_y": null,
            "padding": null,
            "right": null,
            "top": null,
            "visibility": null,
            "width": null
          }
        },
        "b10a93c09c1e4d8fa199898451c4e8cd": {
          "model_module": "@jupyter-widgets/controls",
          "model_name": "DescriptionStyleModel",
          "model_module_version": "1.5.0",
          "state": {
            "_model_module": "@jupyter-widgets/controls",
            "_model_module_version": "1.5.0",
            "_model_name": "DescriptionStyleModel",
            "_view_count": null,
            "_view_module": "@jupyter-widgets/base",
            "_view_module_version": "1.2.0",
            "_view_name": "StyleView",
            "description_width": ""
          }
        },
        "68b59e8509f24683b44c5123c3437b3b": {
          "model_module": "@jupyter-widgets/controls",
          "model_name": "HBoxModel",
          "model_module_version": "1.5.0",
          "state": {
            "_dom_classes": [],
            "_model_module": "@jupyter-widgets/controls",
            "_model_module_version": "1.5.0",
            "_model_name": "HBoxModel",
            "_view_count": null,
            "_view_module": "@jupyter-widgets/controls",
            "_view_module_version": "1.5.0",
            "_view_name": "HBoxView",
            "box_style": "",
            "children": [
              "IPY_MODEL_d5788ba53bea4160ac2bf6c591777a4e",
              "IPY_MODEL_ba980c4dbb4c40db92e6aed426f18c47",
              "IPY_MODEL_bab00f7654cc4e1a805e574993d9d87c"
            ],
            "layout": "IPY_MODEL_48cc8221a8d8478190610c6c5c7eab4f"
          }
        },
        "d5788ba53bea4160ac2bf6c591777a4e": {
          "model_module": "@jupyter-widgets/controls",
          "model_name": "HTMLModel",
          "model_module_version": "1.5.0",
          "state": {
            "_dom_classes": [],
            "_model_module": "@jupyter-widgets/controls",
            "_model_module_version": "1.5.0",
            "_model_name": "HTMLModel",
            "_view_count": null,
            "_view_module": "@jupyter-widgets/controls",
            "_view_module_version": "1.5.0",
            "_view_name": "HTMLView",
            "description": "",
            "description_tooltip": null,
            "layout": "IPY_MODEL_b6ccde3d417545849d4d37d72080b4d3",
            "placeholder": "​",
            "style": "IPY_MODEL_689b40058fc74fd6969d16721a19bf06",
            "value": "100%"
          }
        },
        "ba980c4dbb4c40db92e6aed426f18c47": {
          "model_module": "@jupyter-widgets/controls",
          "model_name": "FloatProgressModel",
          "model_module_version": "1.5.0",
          "state": {
            "_dom_classes": [],
            "_model_module": "@jupyter-widgets/controls",
            "_model_module_version": "1.5.0",
            "_model_name": "FloatProgressModel",
            "_view_count": null,
            "_view_module": "@jupyter-widgets/controls",
            "_view_module_version": "1.5.0",
            "_view_name": "ProgressView",
            "bar_style": "success",
            "description": "",
            "description_tooltip": null,
            "layout": "IPY_MODEL_1df4caea093f4830b452fdaa15eb79d0",
            "max": 2838,
            "min": 0,
            "orientation": "horizontal",
            "style": "IPY_MODEL_20fe51a1f42443cbba0c7010f7a41632",
            "value": 2838
          }
        },
        "bab00f7654cc4e1a805e574993d9d87c": {
          "model_module": "@jupyter-widgets/controls",
          "model_name": "HTMLModel",
          "model_module_version": "1.5.0",
          "state": {
            "_dom_classes": [],
            "_model_module": "@jupyter-widgets/controls",
            "_model_module_version": "1.5.0",
            "_model_name": "HTMLModel",
            "_view_count": null,
            "_view_module": "@jupyter-widgets/controls",
            "_view_module_version": "1.5.0",
            "_view_name": "HTMLView",
            "description": "",
            "description_tooltip": null,
            "layout": "IPY_MODEL_0bb9a36e921f4d039d288790cae4c0a0",
            "placeholder": "​",
            "style": "IPY_MODEL_0d9a9184c20541f78fedf220488a8016",
            "value": " 2838/2838 [00:20&lt;00:00, 168.80it/s]"
          }
        },
        "48cc8221a8d8478190610c6c5c7eab4f": {
          "model_module": "@jupyter-widgets/base",
          "model_name": "LayoutModel",
          "model_module_version": "1.2.0",
          "state": {
            "_model_module": "@jupyter-widgets/base",
            "_model_module_version": "1.2.0",
            "_model_name": "LayoutModel",
            "_view_count": null,
            "_view_module": "@jupyter-widgets/base",
            "_view_module_version": "1.2.0",
            "_view_name": "LayoutView",
            "align_content": null,
            "align_items": null,
            "align_self": null,
            "border": null,
            "bottom": null,
            "display": null,
            "flex": null,
            "flex_flow": null,
            "grid_area": null,
            "grid_auto_columns": null,
            "grid_auto_flow": null,
            "grid_auto_rows": null,
            "grid_column": null,
            "grid_gap": null,
            "grid_row": null,
            "grid_template_areas": null,
            "grid_template_columns": null,
            "grid_template_rows": null,
            "height": null,
            "justify_content": null,
            "justify_items": null,
            "left": null,
            "margin": null,
            "max_height": null,
            "max_width": null,
            "min_height": null,
            "min_width": null,
            "object_fit": null,
            "object_position": null,
            "order": null,
            "overflow": null,
            "overflow_x": null,
            "overflow_y": null,
            "padding": null,
            "right": null,
            "top": null,
            "visibility": null,
            "width": null
          }
        },
        "b6ccde3d417545849d4d37d72080b4d3": {
          "model_module": "@jupyter-widgets/base",
          "model_name": "LayoutModel",
          "model_module_version": "1.2.0",
          "state": {
            "_model_module": "@jupyter-widgets/base",
            "_model_module_version": "1.2.0",
            "_model_name": "LayoutModel",
            "_view_count": null,
            "_view_module": "@jupyter-widgets/base",
            "_view_module_version": "1.2.0",
            "_view_name": "LayoutView",
            "align_content": null,
            "align_items": null,
            "align_self": null,
            "border": null,
            "bottom": null,
            "display": null,
            "flex": null,
            "flex_flow": null,
            "grid_area": null,
            "grid_auto_columns": null,
            "grid_auto_flow": null,
            "grid_auto_rows": null,
            "grid_column": null,
            "grid_gap": null,
            "grid_row": null,
            "grid_template_areas": null,
            "grid_template_columns": null,
            "grid_template_rows": null,
            "height": null,
            "justify_content": null,
            "justify_items": null,
            "left": null,
            "margin": null,
            "max_height": null,
            "max_width": null,
            "min_height": null,
            "min_width": null,
            "object_fit": null,
            "object_position": null,
            "order": null,
            "overflow": null,
            "overflow_x": null,
            "overflow_y": null,
            "padding": null,
            "right": null,
            "top": null,
            "visibility": null,
            "width": null
          }
        },
        "689b40058fc74fd6969d16721a19bf06": {
          "model_module": "@jupyter-widgets/controls",
          "model_name": "DescriptionStyleModel",
          "model_module_version": "1.5.0",
          "state": {
            "_model_module": "@jupyter-widgets/controls",
            "_model_module_version": "1.5.0",
            "_model_name": "DescriptionStyleModel",
            "_view_count": null,
            "_view_module": "@jupyter-widgets/base",
            "_view_module_version": "1.2.0",
            "_view_name": "StyleView",
            "description_width": ""
          }
        },
        "1df4caea093f4830b452fdaa15eb79d0": {
          "model_module": "@jupyter-widgets/base",
          "model_name": "LayoutModel",
          "model_module_version": "1.2.0",
          "state": {
            "_model_module": "@jupyter-widgets/base",
            "_model_module_version": "1.2.0",
            "_model_name": "LayoutModel",
            "_view_count": null,
            "_view_module": "@jupyter-widgets/base",
            "_view_module_version": "1.2.0",
            "_view_name": "LayoutView",
            "align_content": null,
            "align_items": null,
            "align_self": null,
            "border": null,
            "bottom": null,
            "display": null,
            "flex": null,
            "flex_flow": null,
            "grid_area": null,
            "grid_auto_columns": null,
            "grid_auto_flow": null,
            "grid_auto_rows": null,
            "grid_column": null,
            "grid_gap": null,
            "grid_row": null,
            "grid_template_areas": null,
            "grid_template_columns": null,
            "grid_template_rows": null,
            "height": null,
            "justify_content": null,
            "justify_items": null,
            "left": null,
            "margin": null,
            "max_height": null,
            "max_width": null,
            "min_height": null,
            "min_width": null,
            "object_fit": null,
            "object_position": null,
            "order": null,
            "overflow": null,
            "overflow_x": null,
            "overflow_y": null,
            "padding": null,
            "right": null,
            "top": null,
            "visibility": null,
            "width": null
          }
        },
        "20fe51a1f42443cbba0c7010f7a41632": {
          "model_module": "@jupyter-widgets/controls",
          "model_name": "ProgressStyleModel",
          "model_module_version": "1.5.0",
          "state": {
            "_model_module": "@jupyter-widgets/controls",
            "_model_module_version": "1.5.0",
            "_model_name": "ProgressStyleModel",
            "_view_count": null,
            "_view_module": "@jupyter-widgets/base",
            "_view_module_version": "1.2.0",
            "_view_name": "StyleView",
            "bar_color": null,
            "description_width": ""
          }
        },
        "0bb9a36e921f4d039d288790cae4c0a0": {
          "model_module": "@jupyter-widgets/base",
          "model_name": "LayoutModel",
          "model_module_version": "1.2.0",
          "state": {
            "_model_module": "@jupyter-widgets/base",
            "_model_module_version": "1.2.0",
            "_model_name": "LayoutModel",
            "_view_count": null,
            "_view_module": "@jupyter-widgets/base",
            "_view_module_version": "1.2.0",
            "_view_name": "LayoutView",
            "align_content": null,
            "align_items": null,
            "align_self": null,
            "border": null,
            "bottom": null,
            "display": null,
            "flex": null,
            "flex_flow": null,
            "grid_area": null,
            "grid_auto_columns": null,
            "grid_auto_flow": null,
            "grid_auto_rows": null,
            "grid_column": null,
            "grid_gap": null,
            "grid_row": null,
            "grid_template_areas": null,
            "grid_template_columns": null,
            "grid_template_rows": null,
            "height": null,
            "justify_content": null,
            "justify_items": null,
            "left": null,
            "margin": null,
            "max_height": null,
            "max_width": null,
            "min_height": null,
            "min_width": null,
            "object_fit": null,
            "object_position": null,
            "order": null,
            "overflow": null,
            "overflow_x": null,
            "overflow_y": null,
            "padding": null,
            "right": null,
            "top": null,
            "visibility": null,
            "width": null
          }
        },
        "0d9a9184c20541f78fedf220488a8016": {
          "model_module": "@jupyter-widgets/controls",
          "model_name": "DescriptionStyleModel",
          "model_module_version": "1.5.0",
          "state": {
            "_model_module": "@jupyter-widgets/controls",
            "_model_module_version": "1.5.0",
            "_model_name": "DescriptionStyleModel",
            "_view_count": null,
            "_view_module": "@jupyter-widgets/base",
            "_view_module_version": "1.2.0",
            "_view_name": "StyleView",
            "description_width": ""
          }
        },
        "e5f00dc89dec4211a2f26aeb202ec8fe": {
          "model_module": "@jupyter-widgets/controls",
          "model_name": "HBoxModel",
          "model_module_version": "1.5.0",
          "state": {
            "_dom_classes": [],
            "_model_module": "@jupyter-widgets/controls",
            "_model_module_version": "1.5.0",
            "_model_name": "HBoxModel",
            "_view_count": null,
            "_view_module": "@jupyter-widgets/controls",
            "_view_module_version": "1.5.0",
            "_view_name": "HBoxView",
            "box_style": "",
            "children": [
              "IPY_MODEL_3917b4fbd2b9442bb8cdf95a7ab819ec",
              "IPY_MODEL_ee00cdf0caa24e24abf192884b5daf04",
              "IPY_MODEL_d11702e813a44a8c80ac9ade30494af4"
            ],
            "layout": "IPY_MODEL_1251a8f2650e462fa1a6d5383ba24e0c"
          }
        },
        "3917b4fbd2b9442bb8cdf95a7ab819ec": {
          "model_module": "@jupyter-widgets/controls",
          "model_name": "HTMLModel",
          "model_module_version": "1.5.0",
          "state": {
            "_dom_classes": [],
            "_model_module": "@jupyter-widgets/controls",
            "_model_module_version": "1.5.0",
            "_model_name": "HTMLModel",
            "_view_count": null,
            "_view_module": "@jupyter-widgets/controls",
            "_view_module_version": "1.5.0",
            "_view_name": "HTMLView",
            "description": "",
            "description_tooltip": null,
            "layout": "IPY_MODEL_396ba3a6318c4c32b7866a0ce79a26b7",
            "placeholder": "​",
            "style": "IPY_MODEL_26c4a3b881ac435db056303f5ecfe0d5",
            "value": "100%"
          }
        },
        "ee00cdf0caa24e24abf192884b5daf04": {
          "model_module": "@jupyter-widgets/controls",
          "model_name": "FloatProgressModel",
          "model_module_version": "1.5.0",
          "state": {
            "_dom_classes": [],
            "_model_module": "@jupyter-widgets/controls",
            "_model_module_version": "1.5.0",
            "_model_name": "FloatProgressModel",
            "_view_count": null,
            "_view_module": "@jupyter-widgets/controls",
            "_view_module_version": "1.5.0",
            "_view_name": "ProgressView",
            "bar_style": "success",
            "description": "",
            "description_tooltip": null,
            "layout": "IPY_MODEL_5aabdf512d1743319c8717aaa6e29281",
            "max": 715,
            "min": 0,
            "orientation": "horizontal",
            "style": "IPY_MODEL_6924ca36ace84affa79790d9754eb28b",
            "value": 715
          }
        },
        "d11702e813a44a8c80ac9ade30494af4": {
          "model_module": "@jupyter-widgets/controls",
          "model_name": "HTMLModel",
          "model_module_version": "1.5.0",
          "state": {
            "_dom_classes": [],
            "_model_module": "@jupyter-widgets/controls",
            "_model_module_version": "1.5.0",
            "_model_name": "HTMLModel",
            "_view_count": null,
            "_view_module": "@jupyter-widgets/controls",
            "_view_module_version": "1.5.0",
            "_view_name": "HTMLView",
            "description": "",
            "description_tooltip": null,
            "layout": "IPY_MODEL_48b76c27f5ce49069738c7e94c3aee85",
            "placeholder": "​",
            "style": "IPY_MODEL_7b1fe2405354421184fa446136d78b77",
            "value": " 715/715 [00:05&lt;00:00, 124.21it/s]"
          }
        },
        "1251a8f2650e462fa1a6d5383ba24e0c": {
          "model_module": "@jupyter-widgets/base",
          "model_name": "LayoutModel",
          "model_module_version": "1.2.0",
          "state": {
            "_model_module": "@jupyter-widgets/base",
            "_model_module_version": "1.2.0",
            "_model_name": "LayoutModel",
            "_view_count": null,
            "_view_module": "@jupyter-widgets/base",
            "_view_module_version": "1.2.0",
            "_view_name": "LayoutView",
            "align_content": null,
            "align_items": null,
            "align_self": null,
            "border": null,
            "bottom": null,
            "display": null,
            "flex": null,
            "flex_flow": null,
            "grid_area": null,
            "grid_auto_columns": null,
            "grid_auto_flow": null,
            "grid_auto_rows": null,
            "grid_column": null,
            "grid_gap": null,
            "grid_row": null,
            "grid_template_areas": null,
            "grid_template_columns": null,
            "grid_template_rows": null,
            "height": null,
            "justify_content": null,
            "justify_items": null,
            "left": null,
            "margin": null,
            "max_height": null,
            "max_width": null,
            "min_height": null,
            "min_width": null,
            "object_fit": null,
            "object_position": null,
            "order": null,
            "overflow": null,
            "overflow_x": null,
            "overflow_y": null,
            "padding": null,
            "right": null,
            "top": null,
            "visibility": null,
            "width": null
          }
        },
        "396ba3a6318c4c32b7866a0ce79a26b7": {
          "model_module": "@jupyter-widgets/base",
          "model_name": "LayoutModel",
          "model_module_version": "1.2.0",
          "state": {
            "_model_module": "@jupyter-widgets/base",
            "_model_module_version": "1.2.0",
            "_model_name": "LayoutModel",
            "_view_count": null,
            "_view_module": "@jupyter-widgets/base",
            "_view_module_version": "1.2.0",
            "_view_name": "LayoutView",
            "align_content": null,
            "align_items": null,
            "align_self": null,
            "border": null,
            "bottom": null,
            "display": null,
            "flex": null,
            "flex_flow": null,
            "grid_area": null,
            "grid_auto_columns": null,
            "grid_auto_flow": null,
            "grid_auto_rows": null,
            "grid_column": null,
            "grid_gap": null,
            "grid_row": null,
            "grid_template_areas": null,
            "grid_template_columns": null,
            "grid_template_rows": null,
            "height": null,
            "justify_content": null,
            "justify_items": null,
            "left": null,
            "margin": null,
            "max_height": null,
            "max_width": null,
            "min_height": null,
            "min_width": null,
            "object_fit": null,
            "object_position": null,
            "order": null,
            "overflow": null,
            "overflow_x": null,
            "overflow_y": null,
            "padding": null,
            "right": null,
            "top": null,
            "visibility": null,
            "width": null
          }
        },
        "26c4a3b881ac435db056303f5ecfe0d5": {
          "model_module": "@jupyter-widgets/controls",
          "model_name": "DescriptionStyleModel",
          "model_module_version": "1.5.0",
          "state": {
            "_model_module": "@jupyter-widgets/controls",
            "_model_module_version": "1.5.0",
            "_model_name": "DescriptionStyleModel",
            "_view_count": null,
            "_view_module": "@jupyter-widgets/base",
            "_view_module_version": "1.2.0",
            "_view_name": "StyleView",
            "description_width": ""
          }
        },
        "5aabdf512d1743319c8717aaa6e29281": {
          "model_module": "@jupyter-widgets/base",
          "model_name": "LayoutModel",
          "model_module_version": "1.2.0",
          "state": {
            "_model_module": "@jupyter-widgets/base",
            "_model_module_version": "1.2.0",
            "_model_name": "LayoutModel",
            "_view_count": null,
            "_view_module": "@jupyter-widgets/base",
            "_view_module_version": "1.2.0",
            "_view_name": "LayoutView",
            "align_content": null,
            "align_items": null,
            "align_self": null,
            "border": null,
            "bottom": null,
            "display": null,
            "flex": null,
            "flex_flow": null,
            "grid_area": null,
            "grid_auto_columns": null,
            "grid_auto_flow": null,
            "grid_auto_rows": null,
            "grid_column": null,
            "grid_gap": null,
            "grid_row": null,
            "grid_template_areas": null,
            "grid_template_columns": null,
            "grid_template_rows": null,
            "height": null,
            "justify_content": null,
            "justify_items": null,
            "left": null,
            "margin": null,
            "max_height": null,
            "max_width": null,
            "min_height": null,
            "min_width": null,
            "object_fit": null,
            "object_position": null,
            "order": null,
            "overflow": null,
            "overflow_x": null,
            "overflow_y": null,
            "padding": null,
            "right": null,
            "top": null,
            "visibility": null,
            "width": null
          }
        },
        "6924ca36ace84affa79790d9754eb28b": {
          "model_module": "@jupyter-widgets/controls",
          "model_name": "ProgressStyleModel",
          "model_module_version": "1.5.0",
          "state": {
            "_model_module": "@jupyter-widgets/controls",
            "_model_module_version": "1.5.0",
            "_model_name": "ProgressStyleModel",
            "_view_count": null,
            "_view_module": "@jupyter-widgets/base",
            "_view_module_version": "1.2.0",
            "_view_name": "StyleView",
            "bar_color": null,
            "description_width": ""
          }
        },
        "48b76c27f5ce49069738c7e94c3aee85": {
          "model_module": "@jupyter-widgets/base",
          "model_name": "LayoutModel",
          "model_module_version": "1.2.0",
          "state": {
            "_model_module": "@jupyter-widgets/base",
            "_model_module_version": "1.2.0",
            "_model_name": "LayoutModel",
            "_view_count": null,
            "_view_module": "@jupyter-widgets/base",
            "_view_module_version": "1.2.0",
            "_view_name": "LayoutView",
            "align_content": null,
            "align_items": null,
            "align_self": null,
            "border": null,
            "bottom": null,
            "display": null,
            "flex": null,
            "flex_flow": null,
            "grid_area": null,
            "grid_auto_columns": null,
            "grid_auto_flow": null,
            "grid_auto_rows": null,
            "grid_column": null,
            "grid_gap": null,
            "grid_row": null,
            "grid_template_areas": null,
            "grid_template_columns": null,
            "grid_template_rows": null,
            "height": null,
            "justify_content": null,
            "justify_items": null,
            "left": null,
            "margin": null,
            "max_height": null,
            "max_width": null,
            "min_height": null,
            "min_width": null,
            "object_fit": null,
            "object_position": null,
            "order": null,
            "overflow": null,
            "overflow_x": null,
            "overflow_y": null,
            "padding": null,
            "right": null,
            "top": null,
            "visibility": null,
            "width": null
          }
        },
        "7b1fe2405354421184fa446136d78b77": {
          "model_module": "@jupyter-widgets/controls",
          "model_name": "DescriptionStyleModel",
          "model_module_version": "1.5.0",
          "state": {
            "_model_module": "@jupyter-widgets/controls",
            "_model_module_version": "1.5.0",
            "_model_name": "DescriptionStyleModel",
            "_view_count": null,
            "_view_module": "@jupyter-widgets/base",
            "_view_module_version": "1.2.0",
            "_view_name": "StyleView",
            "description_width": ""
          }
        },
        "7b2470c5e8e649dd83981a7586c20fda": {
          "model_module": "@jupyter-widgets/controls",
          "model_name": "HBoxModel",
          "model_module_version": "1.5.0",
          "state": {
            "_dom_classes": [],
            "_model_module": "@jupyter-widgets/controls",
            "_model_module_version": "1.5.0",
            "_model_name": "HBoxModel",
            "_view_count": null,
            "_view_module": "@jupyter-widgets/controls",
            "_view_module_version": "1.5.0",
            "_view_name": "HBoxView",
            "box_style": "",
            "children": [
              "IPY_MODEL_0f0f2e9634ba4cb298d0994a44610f89",
              "IPY_MODEL_5a31a41535d24622a5ca12f492599a51",
              "IPY_MODEL_61d277df1be9438cb0a5c7516d755aaf"
            ],
            "layout": "IPY_MODEL_1ce73a30fa434af7aada3a3eca5a118a"
          }
        },
        "0f0f2e9634ba4cb298d0994a44610f89": {
          "model_module": "@jupyter-widgets/controls",
          "model_name": "HTMLModel",
          "model_module_version": "1.5.0",
          "state": {
            "_dom_classes": [],
            "_model_module": "@jupyter-widgets/controls",
            "_model_module_version": "1.5.0",
            "_model_name": "HTMLModel",
            "_view_count": null,
            "_view_module": "@jupyter-widgets/controls",
            "_view_module_version": "1.5.0",
            "_view_name": "HTMLView",
            "description": "",
            "description_tooltip": null,
            "layout": "IPY_MODEL_e2bd50f1234c4299bab3ee74add50988",
            "placeholder": "​",
            "style": "IPY_MODEL_25764acee3fe4ecf81a771994323cb1d",
            "value": "Tokenizing texts...: 100%"
          }
        },
        "5a31a41535d24622a5ca12f492599a51": {
          "model_module": "@jupyter-widgets/controls",
          "model_name": "FloatProgressModel",
          "model_module_version": "1.5.0",
          "state": {
            "_dom_classes": [],
            "_model_module": "@jupyter-widgets/controls",
            "_model_module_version": "1.5.0",
            "_model_name": "FloatProgressModel",
            "_view_count": null,
            "_view_module": "@jupyter-widgets/controls",
            "_view_module_version": "1.5.0",
            "_view_name": "ProgressView",
            "bar_style": "success",
            "description": "",
            "description_tooltip": null,
            "layout": "IPY_MODEL_4cf27ef977a14fd19b77610c5eca9c60",
            "max": 2297,
            "min": 0,
            "orientation": "horizontal",
            "style": "IPY_MODEL_e16899ccc9834c0986cc2d523dfd009a",
            "value": 2297
          }
        },
        "61d277df1be9438cb0a5c7516d755aaf": {
          "model_module": "@jupyter-widgets/controls",
          "model_name": "HTMLModel",
          "model_module_version": "1.5.0",
          "state": {
            "_dom_classes": [],
            "_model_module": "@jupyter-widgets/controls",
            "_model_module_version": "1.5.0",
            "_model_name": "HTMLModel",
            "_view_count": null,
            "_view_module": "@jupyter-widgets/controls",
            "_view_module_version": "1.5.0",
            "_view_name": "HTMLView",
            "description": "",
            "description_tooltip": null,
            "layout": "IPY_MODEL_77d9d86ca47e464baf1d1498bad2668e",
            "placeholder": "​",
            "style": "IPY_MODEL_f2f4b8e8d76d437090706be6f07c3fd4",
            "value": " 2297/2297 [00:06&lt;00:00, 358.61it/s]"
          }
        },
        "1ce73a30fa434af7aada3a3eca5a118a": {
          "model_module": "@jupyter-widgets/base",
          "model_name": "LayoutModel",
          "model_module_version": "1.2.0",
          "state": {
            "_model_module": "@jupyter-widgets/base",
            "_model_module_version": "1.2.0",
            "_model_name": "LayoutModel",
            "_view_count": null,
            "_view_module": "@jupyter-widgets/base",
            "_view_module_version": "1.2.0",
            "_view_name": "LayoutView",
            "align_content": null,
            "align_items": null,
            "align_self": null,
            "border": null,
            "bottom": null,
            "display": null,
            "flex": null,
            "flex_flow": null,
            "grid_area": null,
            "grid_auto_columns": null,
            "grid_auto_flow": null,
            "grid_auto_rows": null,
            "grid_column": null,
            "grid_gap": null,
            "grid_row": null,
            "grid_template_areas": null,
            "grid_template_columns": null,
            "grid_template_rows": null,
            "height": null,
            "justify_content": null,
            "justify_items": null,
            "left": null,
            "margin": null,
            "max_height": null,
            "max_width": null,
            "min_height": null,
            "min_width": null,
            "object_fit": null,
            "object_position": null,
            "order": null,
            "overflow": null,
            "overflow_x": null,
            "overflow_y": null,
            "padding": null,
            "right": null,
            "top": null,
            "visibility": null,
            "width": null
          }
        },
        "e2bd50f1234c4299bab3ee74add50988": {
          "model_module": "@jupyter-widgets/base",
          "model_name": "LayoutModel",
          "model_module_version": "1.2.0",
          "state": {
            "_model_module": "@jupyter-widgets/base",
            "_model_module_version": "1.2.0",
            "_model_name": "LayoutModel",
            "_view_count": null,
            "_view_module": "@jupyter-widgets/base",
            "_view_module_version": "1.2.0",
            "_view_name": "LayoutView",
            "align_content": null,
            "align_items": null,
            "align_self": null,
            "border": null,
            "bottom": null,
            "display": null,
            "flex": null,
            "flex_flow": null,
            "grid_area": null,
            "grid_auto_columns": null,
            "grid_auto_flow": null,
            "grid_auto_rows": null,
            "grid_column": null,
            "grid_gap": null,
            "grid_row": null,
            "grid_template_areas": null,
            "grid_template_columns": null,
            "grid_template_rows": null,
            "height": null,
            "justify_content": null,
            "justify_items": null,
            "left": null,
            "margin": null,
            "max_height": null,
            "max_width": null,
            "min_height": null,
            "min_width": null,
            "object_fit": null,
            "object_position": null,
            "order": null,
            "overflow": null,
            "overflow_x": null,
            "overflow_y": null,
            "padding": null,
            "right": null,
            "top": null,
            "visibility": null,
            "width": null
          }
        },
        "25764acee3fe4ecf81a771994323cb1d": {
          "model_module": "@jupyter-widgets/controls",
          "model_name": "DescriptionStyleModel",
          "model_module_version": "1.5.0",
          "state": {
            "_model_module": "@jupyter-widgets/controls",
            "_model_module_version": "1.5.0",
            "_model_name": "DescriptionStyleModel",
            "_view_count": null,
            "_view_module": "@jupyter-widgets/base",
            "_view_module_version": "1.2.0",
            "_view_name": "StyleView",
            "description_width": ""
          }
        },
        "4cf27ef977a14fd19b77610c5eca9c60": {
          "model_module": "@jupyter-widgets/base",
          "model_name": "LayoutModel",
          "model_module_version": "1.2.0",
          "state": {
            "_model_module": "@jupyter-widgets/base",
            "_model_module_version": "1.2.0",
            "_model_name": "LayoutModel",
            "_view_count": null,
            "_view_module": "@jupyter-widgets/base",
            "_view_module_version": "1.2.0",
            "_view_name": "LayoutView",
            "align_content": null,
            "align_items": null,
            "align_self": null,
            "border": null,
            "bottom": null,
            "display": null,
            "flex": null,
            "flex_flow": null,
            "grid_area": null,
            "grid_auto_columns": null,
            "grid_auto_flow": null,
            "grid_auto_rows": null,
            "grid_column": null,
            "grid_gap": null,
            "grid_row": null,
            "grid_template_areas": null,
            "grid_template_columns": null,
            "grid_template_rows": null,
            "height": null,
            "justify_content": null,
            "justify_items": null,
            "left": null,
            "margin": null,
            "max_height": null,
            "max_width": null,
            "min_height": null,
            "min_width": null,
            "object_fit": null,
            "object_position": null,
            "order": null,
            "overflow": null,
            "overflow_x": null,
            "overflow_y": null,
            "padding": null,
            "right": null,
            "top": null,
            "visibility": null,
            "width": null
          }
        },
        "e16899ccc9834c0986cc2d523dfd009a": {
          "model_module": "@jupyter-widgets/controls",
          "model_name": "ProgressStyleModel",
          "model_module_version": "1.5.0",
          "state": {
            "_model_module": "@jupyter-widgets/controls",
            "_model_module_version": "1.5.0",
            "_model_name": "ProgressStyleModel",
            "_view_count": null,
            "_view_module": "@jupyter-widgets/base",
            "_view_module_version": "1.2.0",
            "_view_name": "StyleView",
            "bar_color": null,
            "description_width": ""
          }
        },
        "77d9d86ca47e464baf1d1498bad2668e": {
          "model_module": "@jupyter-widgets/base",
          "model_name": "LayoutModel",
          "model_module_version": "1.2.0",
          "state": {
            "_model_module": "@jupyter-widgets/base",
            "_model_module_version": "1.2.0",
            "_model_name": "LayoutModel",
            "_view_count": null,
            "_view_module": "@jupyter-widgets/base",
            "_view_module_version": "1.2.0",
            "_view_name": "LayoutView",
            "align_content": null,
            "align_items": null,
            "align_self": null,
            "border": null,
            "bottom": null,
            "display": null,
            "flex": null,
            "flex_flow": null,
            "grid_area": null,
            "grid_auto_columns": null,
            "grid_auto_flow": null,
            "grid_auto_rows": null,
            "grid_column": null,
            "grid_gap": null,
            "grid_row": null,
            "grid_template_areas": null,
            "grid_template_columns": null,
            "grid_template_rows": null,
            "height": null,
            "justify_content": null,
            "justify_items": null,
            "left": null,
            "margin": null,
            "max_height": null,
            "max_width": null,
            "min_height": null,
            "min_width": null,
            "object_fit": null,
            "object_position": null,
            "order": null,
            "overflow": null,
            "overflow_x": null,
            "overflow_y": null,
            "padding": null,
            "right": null,
            "top": null,
            "visibility": null,
            "width": null
          }
        },
        "f2f4b8e8d76d437090706be6f07c3fd4": {
          "model_module": "@jupyter-widgets/controls",
          "model_name": "DescriptionStyleModel",
          "model_module_version": "1.5.0",
          "state": {
            "_model_module": "@jupyter-widgets/controls",
            "_model_module_version": "1.5.0",
            "_model_name": "DescriptionStyleModel",
            "_view_count": null,
            "_view_module": "@jupyter-widgets/base",
            "_view_module_version": "1.2.0",
            "_view_name": "StyleView",
            "description_width": ""
          }
        },
        "c480de089d0f4ccab4f129356e307464": {
          "model_module": "@jupyter-widgets/controls",
          "model_name": "HBoxModel",
          "model_module_version": "1.5.0",
          "state": {
            "_dom_classes": [],
            "_model_module": "@jupyter-widgets/controls",
            "_model_module_version": "1.5.0",
            "_model_name": "HBoxModel",
            "_view_count": null,
            "_view_module": "@jupyter-widgets/controls",
            "_view_module_version": "1.5.0",
            "_view_name": "HBoxView",
            "box_style": "",
            "children": [
              "IPY_MODEL_e2756e8545024c85b57f71cf908de5b0",
              "IPY_MODEL_ec310d798efd4ffb92dc3c2db02085ba",
              "IPY_MODEL_77fbb581344747a2bd9724b3f05b2093"
            ],
            "layout": "IPY_MODEL_c9e37e7d480d440e86edb6a6596ee905"
          }
        },
        "e2756e8545024c85b57f71cf908de5b0": {
          "model_module": "@jupyter-widgets/controls",
          "model_name": "HTMLModel",
          "model_module_version": "1.5.0",
          "state": {
            "_dom_classes": [],
            "_model_module": "@jupyter-widgets/controls",
            "_model_module_version": "1.5.0",
            "_model_name": "HTMLModel",
            "_view_count": null,
            "_view_module": "@jupyter-widgets/controls",
            "_view_module_version": "1.5.0",
            "_view_name": "HTMLView",
            "description": "",
            "description_tooltip": null,
            "layout": "IPY_MODEL_9c9b0d426df440539fc76eb367794553",
            "placeholder": "​",
            "style": "IPY_MODEL_ba6fcd023e754fc7b2c006a5c5b30808",
            "value": "  0%"
          }
        },
        "ec310d798efd4ffb92dc3c2db02085ba": {
          "model_module": "@jupyter-widgets/controls",
          "model_name": "FloatProgressModel",
          "model_module_version": "1.5.0",
          "state": {
            "_dom_classes": [],
            "_model_module": "@jupyter-widgets/controls",
            "_model_module_version": "1.5.0",
            "_model_name": "FloatProgressModel",
            "_view_count": null,
            "_view_module": "@jupyter-widgets/controls",
            "_view_module_version": "1.5.0",
            "_view_name": "ProgressView",
            "bar_style": "danger",
            "description": "",
            "description_tooltip": null,
            "layout": "IPY_MODEL_405560579b334270865a252a460f33c7",
            "max": 445,
            "min": 0,
            "orientation": "horizontal",
            "style": "IPY_MODEL_3d11fb3256484f48b16e148df7b6e23f",
            "value": 1
          }
        },
        "77fbb581344747a2bd9724b3f05b2093": {
          "model_module": "@jupyter-widgets/controls",
          "model_name": "HTMLModel",
          "model_module_version": "1.5.0",
          "state": {
            "_dom_classes": [],
            "_model_module": "@jupyter-widgets/controls",
            "_model_module_version": "1.5.0",
            "_model_name": "HTMLModel",
            "_view_count": null,
            "_view_module": "@jupyter-widgets/controls",
            "_view_module_version": "1.5.0",
            "_view_name": "HTMLView",
            "description": "",
            "description_tooltip": null,
            "layout": "IPY_MODEL_18c4b8743c814888b1e02e5495385aa6",
            "placeholder": "​",
            "style": "IPY_MODEL_b3f83b1c7c8e42b2931efe13f8f81f3b",
            "value": " 1/445 [00:00&lt;07:04,  1.05it/s]"
          }
        },
        "c9e37e7d480d440e86edb6a6596ee905": {
          "model_module": "@jupyter-widgets/base",
          "model_name": "LayoutModel",
          "model_module_version": "1.2.0",
          "state": {
            "_model_module": "@jupyter-widgets/base",
            "_model_module_version": "1.2.0",
            "_model_name": "LayoutModel",
            "_view_count": null,
            "_view_module": "@jupyter-widgets/base",
            "_view_module_version": "1.2.0",
            "_view_name": "LayoutView",
            "align_content": null,
            "align_items": null,
            "align_self": null,
            "border": null,
            "bottom": null,
            "display": null,
            "flex": null,
            "flex_flow": null,
            "grid_area": null,
            "grid_auto_columns": null,
            "grid_auto_flow": null,
            "grid_auto_rows": null,
            "grid_column": null,
            "grid_gap": null,
            "grid_row": null,
            "grid_template_areas": null,
            "grid_template_columns": null,
            "grid_template_rows": null,
            "height": null,
            "justify_content": null,
            "justify_items": null,
            "left": null,
            "margin": null,
            "max_height": null,
            "max_width": null,
            "min_height": null,
            "min_width": null,
            "object_fit": null,
            "object_position": null,
            "order": null,
            "overflow": null,
            "overflow_x": null,
            "overflow_y": null,
            "padding": null,
            "right": null,
            "top": null,
            "visibility": null,
            "width": null
          }
        },
        "9c9b0d426df440539fc76eb367794553": {
          "model_module": "@jupyter-widgets/base",
          "model_name": "LayoutModel",
          "model_module_version": "1.2.0",
          "state": {
            "_model_module": "@jupyter-widgets/base",
            "_model_module_version": "1.2.0",
            "_model_name": "LayoutModel",
            "_view_count": null,
            "_view_module": "@jupyter-widgets/base",
            "_view_module_version": "1.2.0",
            "_view_name": "LayoutView",
            "align_content": null,
            "align_items": null,
            "align_self": null,
            "border": null,
            "bottom": null,
            "display": null,
            "flex": null,
            "flex_flow": null,
            "grid_area": null,
            "grid_auto_columns": null,
            "grid_auto_flow": null,
            "grid_auto_rows": null,
            "grid_column": null,
            "grid_gap": null,
            "grid_row": null,
            "grid_template_areas": null,
            "grid_template_columns": null,
            "grid_template_rows": null,
            "height": null,
            "justify_content": null,
            "justify_items": null,
            "left": null,
            "margin": null,
            "max_height": null,
            "max_width": null,
            "min_height": null,
            "min_width": null,
            "object_fit": null,
            "object_position": null,
            "order": null,
            "overflow": null,
            "overflow_x": null,
            "overflow_y": null,
            "padding": null,
            "right": null,
            "top": null,
            "visibility": null,
            "width": null
          }
        },
        "ba6fcd023e754fc7b2c006a5c5b30808": {
          "model_module": "@jupyter-widgets/controls",
          "model_name": "DescriptionStyleModel",
          "model_module_version": "1.5.0",
          "state": {
            "_model_module": "@jupyter-widgets/controls",
            "_model_module_version": "1.5.0",
            "_model_name": "DescriptionStyleModel",
            "_view_count": null,
            "_view_module": "@jupyter-widgets/base",
            "_view_module_version": "1.2.0",
            "_view_name": "StyleView",
            "description_width": ""
          }
        },
        "405560579b334270865a252a460f33c7": {
          "model_module": "@jupyter-widgets/base",
          "model_name": "LayoutModel",
          "model_module_version": "1.2.0",
          "state": {
            "_model_module": "@jupyter-widgets/base",
            "_model_module_version": "1.2.0",
            "_model_name": "LayoutModel",
            "_view_count": null,
            "_view_module": "@jupyter-widgets/base",
            "_view_module_version": "1.2.0",
            "_view_name": "LayoutView",
            "align_content": null,
            "align_items": null,
            "align_self": null,
            "border": null,
            "bottom": null,
            "display": null,
            "flex": null,
            "flex_flow": null,
            "grid_area": null,
            "grid_auto_columns": null,
            "grid_auto_flow": null,
            "grid_auto_rows": null,
            "grid_column": null,
            "grid_gap": null,
            "grid_row": null,
            "grid_template_areas": null,
            "grid_template_columns": null,
            "grid_template_rows": null,
            "height": null,
            "justify_content": null,
            "justify_items": null,
            "left": null,
            "margin": null,
            "max_height": null,
            "max_width": null,
            "min_height": null,
            "min_width": null,
            "object_fit": null,
            "object_position": null,
            "order": null,
            "overflow": null,
            "overflow_x": null,
            "overflow_y": null,
            "padding": null,
            "right": null,
            "top": null,
            "visibility": null,
            "width": null
          }
        },
        "3d11fb3256484f48b16e148df7b6e23f": {
          "model_module": "@jupyter-widgets/controls",
          "model_name": "ProgressStyleModel",
          "model_module_version": "1.5.0",
          "state": {
            "_model_module": "@jupyter-widgets/controls",
            "_model_module_version": "1.5.0",
            "_model_name": "ProgressStyleModel",
            "_view_count": null,
            "_view_module": "@jupyter-widgets/base",
            "_view_module_version": "1.2.0",
            "_view_name": "StyleView",
            "bar_color": null,
            "description_width": ""
          }
        },
        "18c4b8743c814888b1e02e5495385aa6": {
          "model_module": "@jupyter-widgets/base",
          "model_name": "LayoutModel",
          "model_module_version": "1.2.0",
          "state": {
            "_model_module": "@jupyter-widgets/base",
            "_model_module_version": "1.2.0",
            "_model_name": "LayoutModel",
            "_view_count": null,
            "_view_module": "@jupyter-widgets/base",
            "_view_module_version": "1.2.0",
            "_view_name": "LayoutView",
            "align_content": null,
            "align_items": null,
            "align_self": null,
            "border": null,
            "bottom": null,
            "display": null,
            "flex": null,
            "flex_flow": null,
            "grid_area": null,
            "grid_auto_columns": null,
            "grid_auto_flow": null,
            "grid_auto_rows": null,
            "grid_column": null,
            "grid_gap": null,
            "grid_row": null,
            "grid_template_areas": null,
            "grid_template_columns": null,
            "grid_template_rows": null,
            "height": null,
            "justify_content": null,
            "justify_items": null,
            "left": null,
            "margin": null,
            "max_height": null,
            "max_width": null,
            "min_height": null,
            "min_width": null,
            "object_fit": null,
            "object_position": null,
            "order": null,
            "overflow": null,
            "overflow_x": null,
            "overflow_y": null,
            "padding": null,
            "right": null,
            "top": null,
            "visibility": null,
            "width": null
          }
        },
        "b3f83b1c7c8e42b2931efe13f8f81f3b": {
          "model_module": "@jupyter-widgets/controls",
          "model_name": "DescriptionStyleModel",
          "model_module_version": "1.5.0",
          "state": {
            "_model_module": "@jupyter-widgets/controls",
            "_model_module_version": "1.5.0",
            "_model_name": "DescriptionStyleModel",
            "_view_count": null,
            "_view_module": "@jupyter-widgets/base",
            "_view_module_version": "1.2.0",
            "_view_name": "StyleView",
            "description_width": ""
          }
        },
        "065c5aa40f764123a0c1b0f806f5d7f9": {
          "model_module": "@jupyter-widgets/controls",
          "model_name": "HBoxModel",
          "model_module_version": "1.5.0",
          "state": {
            "_dom_classes": [],
            "_model_module": "@jupyter-widgets/controls",
            "_model_module_version": "1.5.0",
            "_model_name": "HBoxModel",
            "_view_count": null,
            "_view_module": "@jupyter-widgets/controls",
            "_view_module_version": "1.5.0",
            "_view_name": "HBoxView",
            "box_style": "",
            "children": [
              "IPY_MODEL_5f0f4849df3c4c29a1d3559d1b84fb87",
              "IPY_MODEL_f860379babdd4946943ee5a4a748ec20",
              "IPY_MODEL_5b5f10cac1234dac96de5aaf10aa3968"
            ],
            "layout": "IPY_MODEL_42d0bf1f69fe45d5985319c52358de8d"
          }
        },
        "5f0f4849df3c4c29a1d3559d1b84fb87": {
          "model_module": "@jupyter-widgets/controls",
          "model_name": "HTMLModel",
          "model_module_version": "1.5.0",
          "state": {
            "_dom_classes": [],
            "_model_module": "@jupyter-widgets/controls",
            "_model_module_version": "1.5.0",
            "_model_name": "HTMLModel",
            "_view_count": null,
            "_view_module": "@jupyter-widgets/controls",
            "_view_module_version": "1.5.0",
            "_view_name": "HTMLView",
            "description": "",
            "description_tooltip": null,
            "layout": "IPY_MODEL_a564375f522f42788f76100a403a53c9",
            "placeholder": "​",
            "style": "IPY_MODEL_5c429d0a24204da4bf53f8d0eede13d0",
            "value": "Running Evaluation: 100%"
          }
        },
        "f860379babdd4946943ee5a4a748ec20": {
          "model_module": "@jupyter-widgets/controls",
          "model_name": "FloatProgressModel",
          "model_module_version": "1.5.0",
          "state": {
            "_dom_classes": [],
            "_model_module": "@jupyter-widgets/controls",
            "_model_module_version": "1.5.0",
            "_model_name": "FloatProgressModel",
            "_view_count": null,
            "_view_module": "@jupyter-widgets/controls",
            "_view_module_version": "1.5.0",
            "_view_name": "ProgressView",
            "bar_style": "success",
            "description": "",
            "description_tooltip": null,
            "layout": "IPY_MODEL_18e66591f03f44cd9f5d96ae49dcb5c7",
            "max": 56,
            "min": 0,
            "orientation": "horizontal",
            "style": "IPY_MODEL_14c3de9d192545ada4145df3b7b4803e",
            "value": 56
          }
        },
        "5b5f10cac1234dac96de5aaf10aa3968": {
          "model_module": "@jupyter-widgets/controls",
          "model_name": "HTMLModel",
          "model_module_version": "1.5.0",
          "state": {
            "_dom_classes": [],
            "_model_module": "@jupyter-widgets/controls",
            "_model_module_version": "1.5.0",
            "_model_name": "HTMLModel",
            "_view_count": null,
            "_view_module": "@jupyter-widgets/controls",
            "_view_module_version": "1.5.0",
            "_view_name": "HTMLView",
            "description": "",
            "description_tooltip": null,
            "layout": "IPY_MODEL_6ac9ae6cd1f5450ba53f6efa5a409d02",
            "placeholder": "​",
            "style": "IPY_MODEL_af4ebcb6d5764c84b2b03921ec74d978",
            "value": " 56/56 [00:04&lt;00:00, 26.36it/s]"
          }
        },
        "42d0bf1f69fe45d5985319c52358de8d": {
          "model_module": "@jupyter-widgets/base",
          "model_name": "LayoutModel",
          "model_module_version": "1.2.0",
          "state": {
            "_model_module": "@jupyter-widgets/base",
            "_model_module_version": "1.2.0",
            "_model_name": "LayoutModel",
            "_view_count": null,
            "_view_module": "@jupyter-widgets/base",
            "_view_module_version": "1.2.0",
            "_view_name": "LayoutView",
            "align_content": null,
            "align_items": null,
            "align_self": null,
            "border": null,
            "bottom": null,
            "display": null,
            "flex": null,
            "flex_flow": null,
            "grid_area": null,
            "grid_auto_columns": null,
            "grid_auto_flow": null,
            "grid_auto_rows": null,
            "grid_column": null,
            "grid_gap": null,
            "grid_row": null,
            "grid_template_areas": null,
            "grid_template_columns": null,
            "grid_template_rows": null,
            "height": null,
            "justify_content": null,
            "justify_items": null,
            "left": null,
            "margin": null,
            "max_height": null,
            "max_width": null,
            "min_height": null,
            "min_width": null,
            "object_fit": null,
            "object_position": null,
            "order": null,
            "overflow": null,
            "overflow_x": null,
            "overflow_y": null,
            "padding": null,
            "right": null,
            "top": null,
            "visibility": null,
            "width": null
          }
        },
        "a564375f522f42788f76100a403a53c9": {
          "model_module": "@jupyter-widgets/base",
          "model_name": "LayoutModel",
          "model_module_version": "1.2.0",
          "state": {
            "_model_module": "@jupyter-widgets/base",
            "_model_module_version": "1.2.0",
            "_model_name": "LayoutModel",
            "_view_count": null,
            "_view_module": "@jupyter-widgets/base",
            "_view_module_version": "1.2.0",
            "_view_name": "LayoutView",
            "align_content": null,
            "align_items": null,
            "align_self": null,
            "border": null,
            "bottom": null,
            "display": null,
            "flex": null,
            "flex_flow": null,
            "grid_area": null,
            "grid_auto_columns": null,
            "grid_auto_flow": null,
            "grid_auto_rows": null,
            "grid_column": null,
            "grid_gap": null,
            "grid_row": null,
            "grid_template_areas": null,
            "grid_template_columns": null,
            "grid_template_rows": null,
            "height": null,
            "justify_content": null,
            "justify_items": null,
            "left": null,
            "margin": null,
            "max_height": null,
            "max_width": null,
            "min_height": null,
            "min_width": null,
            "object_fit": null,
            "object_position": null,
            "order": null,
            "overflow": null,
            "overflow_x": null,
            "overflow_y": null,
            "padding": null,
            "right": null,
            "top": null,
            "visibility": null,
            "width": null
          }
        },
        "5c429d0a24204da4bf53f8d0eede13d0": {
          "model_module": "@jupyter-widgets/controls",
          "model_name": "DescriptionStyleModel",
          "model_module_version": "1.5.0",
          "state": {
            "_model_module": "@jupyter-widgets/controls",
            "_model_module_version": "1.5.0",
            "_model_name": "DescriptionStyleModel",
            "_view_count": null,
            "_view_module": "@jupyter-widgets/base",
            "_view_module_version": "1.2.0",
            "_view_name": "StyleView",
            "description_width": ""
          }
        },
        "18e66591f03f44cd9f5d96ae49dcb5c7": {
          "model_module": "@jupyter-widgets/base",
          "model_name": "LayoutModel",
          "model_module_version": "1.2.0",
          "state": {
            "_model_module": "@jupyter-widgets/base",
            "_model_module_version": "1.2.0",
            "_model_name": "LayoutModel",
            "_view_count": null,
            "_view_module": "@jupyter-widgets/base",
            "_view_module_version": "1.2.0",
            "_view_name": "LayoutView",
            "align_content": null,
            "align_items": null,
            "align_self": null,
            "border": null,
            "bottom": null,
            "display": null,
            "flex": null,
            "flex_flow": null,
            "grid_area": null,
            "grid_auto_columns": null,
            "grid_auto_flow": null,
            "grid_auto_rows": null,
            "grid_column": null,
            "grid_gap": null,
            "grid_row": null,
            "grid_template_areas": null,
            "grid_template_columns": null,
            "grid_template_rows": null,
            "height": null,
            "justify_content": null,
            "justify_items": null,
            "left": null,
            "margin": null,
            "max_height": null,
            "max_width": null,
            "min_height": null,
            "min_width": null,
            "object_fit": null,
            "object_position": null,
            "order": null,
            "overflow": null,
            "overflow_x": null,
            "overflow_y": null,
            "padding": null,
            "right": null,
            "top": null,
            "visibility": null,
            "width": null
          }
        },
        "14c3de9d192545ada4145df3b7b4803e": {
          "model_module": "@jupyter-widgets/controls",
          "model_name": "ProgressStyleModel",
          "model_module_version": "1.5.0",
          "state": {
            "_model_module": "@jupyter-widgets/controls",
            "_model_module_version": "1.5.0",
            "_model_name": "ProgressStyleModel",
            "_view_count": null,
            "_view_module": "@jupyter-widgets/base",
            "_view_module_version": "1.2.0",
            "_view_name": "StyleView",
            "bar_color": null,
            "description_width": ""
          }
        },
        "6ac9ae6cd1f5450ba53f6efa5a409d02": {
          "model_module": "@jupyter-widgets/base",
          "model_name": "LayoutModel",
          "model_module_version": "1.2.0",
          "state": {
            "_model_module": "@jupyter-widgets/base",
            "_model_module_version": "1.2.0",
            "_model_name": "LayoutModel",
            "_view_count": null,
            "_view_module": "@jupyter-widgets/base",
            "_view_module_version": "1.2.0",
            "_view_name": "LayoutView",
            "align_content": null,
            "align_items": null,
            "align_self": null,
            "border": null,
            "bottom": null,
            "display": null,
            "flex": null,
            "flex_flow": null,
            "grid_area": null,
            "grid_auto_columns": null,
            "grid_auto_flow": null,
            "grid_auto_rows": null,
            "grid_column": null,
            "grid_gap": null,
            "grid_row": null,
            "grid_template_areas": null,
            "grid_template_columns": null,
            "grid_template_rows": null,
            "height": null,
            "justify_content": null,
            "justify_items": null,
            "left": null,
            "margin": null,
            "max_height": null,
            "max_width": null,
            "min_height": null,
            "min_width": null,
            "object_fit": null,
            "object_position": null,
            "order": null,
            "overflow": null,
            "overflow_x": null,
            "overflow_y": null,
            "padding": null,
            "right": null,
            "top": null,
            "visibility": null,
            "width": null
          }
        },
        "af4ebcb6d5764c84b2b03921ec74d978": {
          "model_module": "@jupyter-widgets/controls",
          "model_name": "DescriptionStyleModel",
          "model_module_version": "1.5.0",
          "state": {
            "_model_module": "@jupyter-widgets/controls",
            "_model_module_version": "1.5.0",
            "_model_name": "DescriptionStyleModel",
            "_view_count": null,
            "_view_module": "@jupyter-widgets/base",
            "_view_module_version": "1.2.0",
            "_view_name": "StyleView",
            "description_width": ""
          }
        },
        "704ba531214e4411a6784c5c25e3bc9e": {
          "model_module": "@jupyter-widgets/controls",
          "model_name": "HBoxModel",
          "model_module_version": "1.5.0",
          "state": {
            "_dom_classes": [],
            "_model_module": "@jupyter-widgets/controls",
            "_model_module_version": "1.5.0",
            "_model_name": "HBoxModel",
            "_view_count": null,
            "_view_module": "@jupyter-widgets/controls",
            "_view_module_version": "1.5.0",
            "_view_name": "HBoxView",
            "box_style": "",
            "children": [
              "IPY_MODEL_ba854d26bab445baa5fa0a41c95c25f1",
              "IPY_MODEL_47f04887d02741b893c2cbb1074a1f0b",
              "IPY_MODEL_672523dcf8a144ebbf18f6d38f847f00"
            ],
            "layout": "IPY_MODEL_a1c4b690e0a54ce0923d2f0bbdf3f10c"
          }
        },
        "ba854d26bab445baa5fa0a41c95c25f1": {
          "model_module": "@jupyter-widgets/controls",
          "model_name": "HTMLModel",
          "model_module_version": "1.5.0",
          "state": {
            "_dom_classes": [],
            "_model_module": "@jupyter-widgets/controls",
            "_model_module_version": "1.5.0",
            "_model_name": "HTMLModel",
            "_view_count": null,
            "_view_module": "@jupyter-widgets/controls",
            "_view_module_version": "1.5.0",
            "_view_name": "HTMLView",
            "description": "",
            "description_tooltip": null,
            "layout": "IPY_MODEL_4078ddd5fdaf45b9baeb9fa8675f474a",
            "placeholder": "​",
            "style": "IPY_MODEL_92cbdbd7ca8a437d9500a2573fb65127",
            "value": "  0%"
          }
        },
        "47f04887d02741b893c2cbb1074a1f0b": {
          "model_module": "@jupyter-widgets/controls",
          "model_name": "FloatProgressModel",
          "model_module_version": "1.5.0",
          "state": {
            "_dom_classes": [],
            "_model_module": "@jupyter-widgets/controls",
            "_model_module_version": "1.5.0",
            "_model_name": "FloatProgressModel",
            "_view_count": null,
            "_view_module": "@jupyter-widgets/controls",
            "_view_module_version": "1.5.0",
            "_view_name": "ProgressView",
            "bar_style": "danger",
            "description": "",
            "description_tooltip": null,
            "layout": "IPY_MODEL_44ba64e4dc4c4779ba36573ea44522b1",
            "max": 1852,
            "min": 0,
            "orientation": "horizontal",
            "style": "IPY_MODEL_b46cf723bad04bd78539b20bd878d98e",
            "value": 4
          }
        },
        "672523dcf8a144ebbf18f6d38f847f00": {
          "model_module": "@jupyter-widgets/controls",
          "model_name": "HTMLModel",
          "model_module_version": "1.5.0",
          "state": {
            "_dom_classes": [],
            "_model_module": "@jupyter-widgets/controls",
            "_model_module_version": "1.5.0",
            "_model_name": "HTMLModel",
            "_view_count": null,
            "_view_module": "@jupyter-widgets/controls",
            "_view_module_version": "1.5.0",
            "_view_name": "HTMLView",
            "description": "",
            "description_tooltip": null,
            "layout": "IPY_MODEL_e86265a60f6a4605b0383a22aa01ec4b",
            "placeholder": "​",
            "style": "IPY_MODEL_8aa1d32468b3426290d1ae6d676eabcb",
            "value": " 4/1852 [00:03&lt;26:11,  1.18it/s]"
          }
        },
        "a1c4b690e0a54ce0923d2f0bbdf3f10c": {
          "model_module": "@jupyter-widgets/base",
          "model_name": "LayoutModel",
          "model_module_version": "1.2.0",
          "state": {
            "_model_module": "@jupyter-widgets/base",
            "_model_module_version": "1.2.0",
            "_model_name": "LayoutModel",
            "_view_count": null,
            "_view_module": "@jupyter-widgets/base",
            "_view_module_version": "1.2.0",
            "_view_name": "LayoutView",
            "align_content": null,
            "align_items": null,
            "align_self": null,
            "border": null,
            "bottom": null,
            "display": null,
            "flex": null,
            "flex_flow": null,
            "grid_area": null,
            "grid_auto_columns": null,
            "grid_auto_flow": null,
            "grid_auto_rows": null,
            "grid_column": null,
            "grid_gap": null,
            "grid_row": null,
            "grid_template_areas": null,
            "grid_template_columns": null,
            "grid_template_rows": null,
            "height": null,
            "justify_content": null,
            "justify_items": null,
            "left": null,
            "margin": null,
            "max_height": null,
            "max_width": null,
            "min_height": null,
            "min_width": null,
            "object_fit": null,
            "object_position": null,
            "order": null,
            "overflow": null,
            "overflow_x": null,
            "overflow_y": null,
            "padding": null,
            "right": null,
            "top": null,
            "visibility": null,
            "width": null
          }
        },
        "4078ddd5fdaf45b9baeb9fa8675f474a": {
          "model_module": "@jupyter-widgets/base",
          "model_name": "LayoutModel",
          "model_module_version": "1.2.0",
          "state": {
            "_model_module": "@jupyter-widgets/base",
            "_model_module_version": "1.2.0",
            "_model_name": "LayoutModel",
            "_view_count": null,
            "_view_module": "@jupyter-widgets/base",
            "_view_module_version": "1.2.0",
            "_view_name": "LayoutView",
            "align_content": null,
            "align_items": null,
            "align_self": null,
            "border": null,
            "bottom": null,
            "display": null,
            "flex": null,
            "flex_flow": null,
            "grid_area": null,
            "grid_auto_columns": null,
            "grid_auto_flow": null,
            "grid_auto_rows": null,
            "grid_column": null,
            "grid_gap": null,
            "grid_row": null,
            "grid_template_areas": null,
            "grid_template_columns": null,
            "grid_template_rows": null,
            "height": null,
            "justify_content": null,
            "justify_items": null,
            "left": null,
            "margin": null,
            "max_height": null,
            "max_width": null,
            "min_height": null,
            "min_width": null,
            "object_fit": null,
            "object_position": null,
            "order": null,
            "overflow": null,
            "overflow_x": null,
            "overflow_y": null,
            "padding": null,
            "right": null,
            "top": null,
            "visibility": null,
            "width": null
          }
        },
        "92cbdbd7ca8a437d9500a2573fb65127": {
          "model_module": "@jupyter-widgets/controls",
          "model_name": "DescriptionStyleModel",
          "model_module_version": "1.5.0",
          "state": {
            "_model_module": "@jupyter-widgets/controls",
            "_model_module_version": "1.5.0",
            "_model_name": "DescriptionStyleModel",
            "_view_count": null,
            "_view_module": "@jupyter-widgets/base",
            "_view_module_version": "1.2.0",
            "_view_name": "StyleView",
            "description_width": ""
          }
        },
        "44ba64e4dc4c4779ba36573ea44522b1": {
          "model_module": "@jupyter-widgets/base",
          "model_name": "LayoutModel",
          "model_module_version": "1.2.0",
          "state": {
            "_model_module": "@jupyter-widgets/base",
            "_model_module_version": "1.2.0",
            "_model_name": "LayoutModel",
            "_view_count": null,
            "_view_module": "@jupyter-widgets/base",
            "_view_module_version": "1.2.0",
            "_view_name": "LayoutView",
            "align_content": null,
            "align_items": null,
            "align_self": null,
            "border": null,
            "bottom": null,
            "display": null,
            "flex": null,
            "flex_flow": null,
            "grid_area": null,
            "grid_auto_columns": null,
            "grid_auto_flow": null,
            "grid_auto_rows": null,
            "grid_column": null,
            "grid_gap": null,
            "grid_row": null,
            "grid_template_areas": null,
            "grid_template_columns": null,
            "grid_template_rows": null,
            "height": null,
            "justify_content": null,
            "justify_items": null,
            "left": null,
            "margin": null,
            "max_height": null,
            "max_width": null,
            "min_height": null,
            "min_width": null,
            "object_fit": null,
            "object_position": null,
            "order": null,
            "overflow": null,
            "overflow_x": null,
            "overflow_y": null,
            "padding": null,
            "right": null,
            "top": null,
            "visibility": null,
            "width": null
          }
        },
        "b46cf723bad04bd78539b20bd878d98e": {
          "model_module": "@jupyter-widgets/controls",
          "model_name": "ProgressStyleModel",
          "model_module_version": "1.5.0",
          "state": {
            "_model_module": "@jupyter-widgets/controls",
            "_model_module_version": "1.5.0",
            "_model_name": "ProgressStyleModel",
            "_view_count": null,
            "_view_module": "@jupyter-widgets/base",
            "_view_module_version": "1.2.0",
            "_view_name": "StyleView",
            "bar_color": null,
            "description_width": ""
          }
        },
        "e86265a60f6a4605b0383a22aa01ec4b": {
          "model_module": "@jupyter-widgets/base",
          "model_name": "LayoutModel",
          "model_module_version": "1.2.0",
          "state": {
            "_model_module": "@jupyter-widgets/base",
            "_model_module_version": "1.2.0",
            "_model_name": "LayoutModel",
            "_view_count": null,
            "_view_module": "@jupyter-widgets/base",
            "_view_module_version": "1.2.0",
            "_view_name": "LayoutView",
            "align_content": null,
            "align_items": null,
            "align_self": null,
            "border": null,
            "bottom": null,
            "display": null,
            "flex": null,
            "flex_flow": null,
            "grid_area": null,
            "grid_auto_columns": null,
            "grid_auto_flow": null,
            "grid_auto_rows": null,
            "grid_column": null,
            "grid_gap": null,
            "grid_row": null,
            "grid_template_areas": null,
            "grid_template_columns": null,
            "grid_template_rows": null,
            "height": null,
            "justify_content": null,
            "justify_items": null,
            "left": null,
            "margin": null,
            "max_height": null,
            "max_width": null,
            "min_height": null,
            "min_width": null,
            "object_fit": null,
            "object_position": null,
            "order": null,
            "overflow": null,
            "overflow_x": null,
            "overflow_y": null,
            "padding": null,
            "right": null,
            "top": null,
            "visibility": null,
            "width": null
          }
        },
        "8aa1d32468b3426290d1ae6d676eabcb": {
          "model_module": "@jupyter-widgets/controls",
          "model_name": "DescriptionStyleModel",
          "model_module_version": "1.5.0",
          "state": {
            "_model_module": "@jupyter-widgets/controls",
            "_model_module_version": "1.5.0",
            "_model_name": "DescriptionStyleModel",
            "_view_count": null,
            "_view_module": "@jupyter-widgets/base",
            "_view_module_version": "1.2.0",
            "_view_name": "StyleView",
            "description_width": ""
          }
        },
        "82fbdd0648a84bc4b09db810c897a7eb": {
          "model_module": "@jupyter-widgets/controls",
          "model_name": "HBoxModel",
          "model_module_version": "1.5.0",
          "state": {
            "_dom_classes": [],
            "_model_module": "@jupyter-widgets/controls",
            "_model_module_version": "1.5.0",
            "_model_name": "HBoxModel",
            "_view_count": null,
            "_view_module": "@jupyter-widgets/controls",
            "_view_module_version": "1.5.0",
            "_view_name": "HBoxView",
            "box_style": "",
            "children": [
              "IPY_MODEL_1701a31ddaec4912af0d64dbd32a2eef",
              "IPY_MODEL_291dc44ba99649bc9d632cbe1b964f49",
              "IPY_MODEL_d75fa15f080f40d997a5bc2eec2da2e3"
            ],
            "layout": "IPY_MODEL_d624d80e0b1e49caa4b0c106500fe03c"
          }
        },
        "1701a31ddaec4912af0d64dbd32a2eef": {
          "model_module": "@jupyter-widgets/controls",
          "model_name": "HTMLModel",
          "model_module_version": "1.5.0",
          "state": {
            "_dom_classes": [],
            "_model_module": "@jupyter-widgets/controls",
            "_model_module_version": "1.5.0",
            "_model_name": "HTMLModel",
            "_view_count": null,
            "_view_module": "@jupyter-widgets/controls",
            "_view_module_version": "1.5.0",
            "_view_name": "HTMLView",
            "description": "",
            "description_tooltip": null,
            "layout": "IPY_MODEL_6668c43cbbcf4378b102845ad7a49a52",
            "placeholder": "​",
            "style": "IPY_MODEL_73cc7100eeaa4829acd02a4c6d42b6da",
            "value": "100%"
          }
        },
        "291dc44ba99649bc9d632cbe1b964f49": {
          "model_module": "@jupyter-widgets/controls",
          "model_name": "FloatProgressModel",
          "model_module_version": "1.5.0",
          "state": {
            "_dom_classes": [],
            "_model_module": "@jupyter-widgets/controls",
            "_model_module_version": "1.5.0",
            "_model_name": "FloatProgressModel",
            "_view_count": null,
            "_view_module": "@jupyter-widgets/controls",
            "_view_module_version": "1.5.0",
            "_view_name": "ProgressView",
            "bar_style": "success",
            "description": "",
            "description_tooltip": null,
            "layout": "IPY_MODEL_595dfb80a2f94791acce92f92011b3d5",
            "max": 232,
            "min": 0,
            "orientation": "horizontal",
            "style": "IPY_MODEL_d353675759ea47e2bb9e83cce71e3e80",
            "value": 232
          }
        },
        "d75fa15f080f40d997a5bc2eec2da2e3": {
          "model_module": "@jupyter-widgets/controls",
          "model_name": "HTMLModel",
          "model_module_version": "1.5.0",
          "state": {
            "_dom_classes": [],
            "_model_module": "@jupyter-widgets/controls",
            "_model_module_version": "1.5.0",
            "_model_name": "HTMLModel",
            "_view_count": null,
            "_view_module": "@jupyter-widgets/controls",
            "_view_module_version": "1.5.0",
            "_view_name": "HTMLView",
            "description": "",
            "description_tooltip": null,
            "layout": "IPY_MODEL_7c523daa541b41aba53d6d64de6cc14d",
            "placeholder": "​",
            "style": "IPY_MODEL_9b0d4d360675467ba0d9907fdc34536b",
            "value": " 232/232 [00:09&lt;00:00, 25.59it/s]"
          }
        },
        "d624d80e0b1e49caa4b0c106500fe03c": {
          "model_module": "@jupyter-widgets/base",
          "model_name": "LayoutModel",
          "model_module_version": "1.2.0",
          "state": {
            "_model_module": "@jupyter-widgets/base",
            "_model_module_version": "1.2.0",
            "_model_name": "LayoutModel",
            "_view_count": null,
            "_view_module": "@jupyter-widgets/base",
            "_view_module_version": "1.2.0",
            "_view_name": "LayoutView",
            "align_content": null,
            "align_items": null,
            "align_self": null,
            "border": null,
            "bottom": null,
            "display": null,
            "flex": null,
            "flex_flow": null,
            "grid_area": null,
            "grid_auto_columns": null,
            "grid_auto_flow": null,
            "grid_auto_rows": null,
            "grid_column": null,
            "grid_gap": null,
            "grid_row": null,
            "grid_template_areas": null,
            "grid_template_columns": null,
            "grid_template_rows": null,
            "height": null,
            "justify_content": null,
            "justify_items": null,
            "left": null,
            "margin": null,
            "max_height": null,
            "max_width": null,
            "min_height": null,
            "min_width": null,
            "object_fit": null,
            "object_position": null,
            "order": null,
            "overflow": null,
            "overflow_x": null,
            "overflow_y": null,
            "padding": null,
            "right": null,
            "top": null,
            "visibility": null,
            "width": null
          }
        },
        "6668c43cbbcf4378b102845ad7a49a52": {
          "model_module": "@jupyter-widgets/base",
          "model_name": "LayoutModel",
          "model_module_version": "1.2.0",
          "state": {
            "_model_module": "@jupyter-widgets/base",
            "_model_module_version": "1.2.0",
            "_model_name": "LayoutModel",
            "_view_count": null,
            "_view_module": "@jupyter-widgets/base",
            "_view_module_version": "1.2.0",
            "_view_name": "LayoutView",
            "align_content": null,
            "align_items": null,
            "align_self": null,
            "border": null,
            "bottom": null,
            "display": null,
            "flex": null,
            "flex_flow": null,
            "grid_area": null,
            "grid_auto_columns": null,
            "grid_auto_flow": null,
            "grid_auto_rows": null,
            "grid_column": null,
            "grid_gap": null,
            "grid_row": null,
            "grid_template_areas": null,
            "grid_template_columns": null,
            "grid_template_rows": null,
            "height": null,
            "justify_content": null,
            "justify_items": null,
            "left": null,
            "margin": null,
            "max_height": null,
            "max_width": null,
            "min_height": null,
            "min_width": null,
            "object_fit": null,
            "object_position": null,
            "order": null,
            "overflow": null,
            "overflow_x": null,
            "overflow_y": null,
            "padding": null,
            "right": null,
            "top": null,
            "visibility": null,
            "width": null
          }
        },
        "73cc7100eeaa4829acd02a4c6d42b6da": {
          "model_module": "@jupyter-widgets/controls",
          "model_name": "DescriptionStyleModel",
          "model_module_version": "1.5.0",
          "state": {
            "_model_module": "@jupyter-widgets/controls",
            "_model_module_version": "1.5.0",
            "_model_name": "DescriptionStyleModel",
            "_view_count": null,
            "_view_module": "@jupyter-widgets/base",
            "_view_module_version": "1.2.0",
            "_view_name": "StyleView",
            "description_width": ""
          }
        },
        "595dfb80a2f94791acce92f92011b3d5": {
          "model_module": "@jupyter-widgets/base",
          "model_name": "LayoutModel",
          "model_module_version": "1.2.0",
          "state": {
            "_model_module": "@jupyter-widgets/base",
            "_model_module_version": "1.2.0",
            "_model_name": "LayoutModel",
            "_view_count": null,
            "_view_module": "@jupyter-widgets/base",
            "_view_module_version": "1.2.0",
            "_view_name": "LayoutView",
            "align_content": null,
            "align_items": null,
            "align_self": null,
            "border": null,
            "bottom": null,
            "display": null,
            "flex": null,
            "flex_flow": null,
            "grid_area": null,
            "grid_auto_columns": null,
            "grid_auto_flow": null,
            "grid_auto_rows": null,
            "grid_column": null,
            "grid_gap": null,
            "grid_row": null,
            "grid_template_areas": null,
            "grid_template_columns": null,
            "grid_template_rows": null,
            "height": null,
            "justify_content": null,
            "justify_items": null,
            "left": null,
            "margin": null,
            "max_height": null,
            "max_width": null,
            "min_height": null,
            "min_width": null,
            "object_fit": null,
            "object_position": null,
            "order": null,
            "overflow": null,
            "overflow_x": null,
            "overflow_y": null,
            "padding": null,
            "right": null,
            "top": null,
            "visibility": null,
            "width": null
          }
        },
        "d353675759ea47e2bb9e83cce71e3e80": {
          "model_module": "@jupyter-widgets/controls",
          "model_name": "ProgressStyleModel",
          "model_module_version": "1.5.0",
          "state": {
            "_model_module": "@jupyter-widgets/controls",
            "_model_module_version": "1.5.0",
            "_model_name": "ProgressStyleModel",
            "_view_count": null,
            "_view_module": "@jupyter-widgets/base",
            "_view_module_version": "1.2.0",
            "_view_name": "StyleView",
            "bar_color": null,
            "description_width": ""
          }
        },
        "7c523daa541b41aba53d6d64de6cc14d": {
          "model_module": "@jupyter-widgets/base",
          "model_name": "LayoutModel",
          "model_module_version": "1.2.0",
          "state": {
            "_model_module": "@jupyter-widgets/base",
            "_model_module_version": "1.2.0",
            "_model_name": "LayoutModel",
            "_view_count": null,
            "_view_module": "@jupyter-widgets/base",
            "_view_module_version": "1.2.0",
            "_view_name": "LayoutView",
            "align_content": null,
            "align_items": null,
            "align_self": null,
            "border": null,
            "bottom": null,
            "display": null,
            "flex": null,
            "flex_flow": null,
            "grid_area": null,
            "grid_auto_columns": null,
            "grid_auto_flow": null,
            "grid_auto_rows": null,
            "grid_column": null,
            "grid_gap": null,
            "grid_row": null,
            "grid_template_areas": null,
            "grid_template_columns": null,
            "grid_template_rows": null,
            "height": null,
            "justify_content": null,
            "justify_items": null,
            "left": null,
            "margin": null,
            "max_height": null,
            "max_width": null,
            "min_height": null,
            "min_width": null,
            "object_fit": null,
            "object_position": null,
            "order": null,
            "overflow": null,
            "overflow_x": null,
            "overflow_y": null,
            "padding": null,
            "right": null,
            "top": null,
            "visibility": null,
            "width": null
          }
        },
        "9b0d4d360675467ba0d9907fdc34536b": {
          "model_module": "@jupyter-widgets/controls",
          "model_name": "DescriptionStyleModel",
          "model_module_version": "1.5.0",
          "state": {
            "_model_module": "@jupyter-widgets/controls",
            "_model_module_version": "1.5.0",
            "_model_name": "DescriptionStyleModel",
            "_view_count": null,
            "_view_module": "@jupyter-widgets/base",
            "_view_module_version": "1.2.0",
            "_view_name": "StyleView",
            "description_width": ""
          }
        },
        "56bfed4010314b59bd0b703e7b64e576": {
          "model_module": "@jupyter-widgets/controls",
          "model_name": "HBoxModel",
          "model_module_version": "1.5.0",
          "state": {
            "_dom_classes": [],
            "_model_module": "@jupyter-widgets/controls",
            "_model_module_version": "1.5.0",
            "_model_name": "HBoxModel",
            "_view_count": null,
            "_view_module": "@jupyter-widgets/controls",
            "_view_module_version": "1.5.0",
            "_view_name": "HBoxView",
            "box_style": "",
            "children": [
              "IPY_MODEL_40050d34e5664258bcf9672fc9562fbc",
              "IPY_MODEL_67c33c2b9460489da8728d4399edc5d1",
              "IPY_MODEL_5d7071916fc34955848d68722f635f4c"
            ],
            "layout": "IPY_MODEL_aa7a7a245a3c4cab9e22c35446d736d6"
          }
        },
        "40050d34e5664258bcf9672fc9562fbc": {
          "model_module": "@jupyter-widgets/controls",
          "model_name": "HTMLModel",
          "model_module_version": "1.5.0",
          "state": {
            "_dom_classes": [],
            "_model_module": "@jupyter-widgets/controls",
            "_model_module_version": "1.5.0",
            "_model_name": "HTMLModel",
            "_view_count": null,
            "_view_module": "@jupyter-widgets/controls",
            "_view_module_version": "1.5.0",
            "_view_name": "HTMLView",
            "description": "",
            "description_tooltip": null,
            "layout": "IPY_MODEL_018141298a514ffab9bf02a87d28963e",
            "placeholder": "​",
            "style": "IPY_MODEL_bbcc8cb8a0a34c4d9d1bf7e0ab60b3be",
            "value": "  0%"
          }
        },
        "67c33c2b9460489da8728d4399edc5d1": {
          "model_module": "@jupyter-widgets/controls",
          "model_name": "FloatProgressModel",
          "model_module_version": "1.5.0",
          "state": {
            "_dom_classes": [],
            "_model_module": "@jupyter-widgets/controls",
            "_model_module_version": "1.5.0",
            "_model_name": "FloatProgressModel",
            "_view_count": null,
            "_view_module": "@jupyter-widgets/controls",
            "_view_module_version": "1.5.0",
            "_view_name": "ProgressView",
            "bar_style": "danger",
            "description": "",
            "description_tooltip": null,
            "layout": "IPY_MODEL_e23df2792ed947febc58cf4021282795",
            "max": 445,
            "min": 0,
            "orientation": "horizontal",
            "style": "IPY_MODEL_33f366d4be674a1eadd7deede56dc575",
            "value": 1
          }
        },
        "5d7071916fc34955848d68722f635f4c": {
          "model_module": "@jupyter-widgets/controls",
          "model_name": "HTMLModel",
          "model_module_version": "1.5.0",
          "state": {
            "_dom_classes": [],
            "_model_module": "@jupyter-widgets/controls",
            "_model_module_version": "1.5.0",
            "_model_name": "HTMLModel",
            "_view_count": null,
            "_view_module": "@jupyter-widgets/controls",
            "_view_module_version": "1.5.0",
            "_view_name": "HTMLView",
            "description": "",
            "description_tooltip": null,
            "layout": "IPY_MODEL_96747abfcbec4e1fb7ede21de3377a94",
            "placeholder": "​",
            "style": "IPY_MODEL_2db54cf0db474a618971e0eb6df43d64",
            "value": " 1/445 [00:00&lt;07:07,  1.04it/s]"
          }
        },
        "aa7a7a245a3c4cab9e22c35446d736d6": {
          "model_module": "@jupyter-widgets/base",
          "model_name": "LayoutModel",
          "model_module_version": "1.2.0",
          "state": {
            "_model_module": "@jupyter-widgets/base",
            "_model_module_version": "1.2.0",
            "_model_name": "LayoutModel",
            "_view_count": null,
            "_view_module": "@jupyter-widgets/base",
            "_view_module_version": "1.2.0",
            "_view_name": "LayoutView",
            "align_content": null,
            "align_items": null,
            "align_self": null,
            "border": null,
            "bottom": null,
            "display": null,
            "flex": null,
            "flex_flow": null,
            "grid_area": null,
            "grid_auto_columns": null,
            "grid_auto_flow": null,
            "grid_auto_rows": null,
            "grid_column": null,
            "grid_gap": null,
            "grid_row": null,
            "grid_template_areas": null,
            "grid_template_columns": null,
            "grid_template_rows": null,
            "height": null,
            "justify_content": null,
            "justify_items": null,
            "left": null,
            "margin": null,
            "max_height": null,
            "max_width": null,
            "min_height": null,
            "min_width": null,
            "object_fit": null,
            "object_position": null,
            "order": null,
            "overflow": null,
            "overflow_x": null,
            "overflow_y": null,
            "padding": null,
            "right": null,
            "top": null,
            "visibility": null,
            "width": null
          }
        },
        "018141298a514ffab9bf02a87d28963e": {
          "model_module": "@jupyter-widgets/base",
          "model_name": "LayoutModel",
          "model_module_version": "1.2.0",
          "state": {
            "_model_module": "@jupyter-widgets/base",
            "_model_module_version": "1.2.0",
            "_model_name": "LayoutModel",
            "_view_count": null,
            "_view_module": "@jupyter-widgets/base",
            "_view_module_version": "1.2.0",
            "_view_name": "LayoutView",
            "align_content": null,
            "align_items": null,
            "align_self": null,
            "border": null,
            "bottom": null,
            "display": null,
            "flex": null,
            "flex_flow": null,
            "grid_area": null,
            "grid_auto_columns": null,
            "grid_auto_flow": null,
            "grid_auto_rows": null,
            "grid_column": null,
            "grid_gap": null,
            "grid_row": null,
            "grid_template_areas": null,
            "grid_template_columns": null,
            "grid_template_rows": null,
            "height": null,
            "justify_content": null,
            "justify_items": null,
            "left": null,
            "margin": null,
            "max_height": null,
            "max_width": null,
            "min_height": null,
            "min_width": null,
            "object_fit": null,
            "object_position": null,
            "order": null,
            "overflow": null,
            "overflow_x": null,
            "overflow_y": null,
            "padding": null,
            "right": null,
            "top": null,
            "visibility": null,
            "width": null
          }
        },
        "bbcc8cb8a0a34c4d9d1bf7e0ab60b3be": {
          "model_module": "@jupyter-widgets/controls",
          "model_name": "DescriptionStyleModel",
          "model_module_version": "1.5.0",
          "state": {
            "_model_module": "@jupyter-widgets/controls",
            "_model_module_version": "1.5.0",
            "_model_name": "DescriptionStyleModel",
            "_view_count": null,
            "_view_module": "@jupyter-widgets/base",
            "_view_module_version": "1.2.0",
            "_view_name": "StyleView",
            "description_width": ""
          }
        },
        "e23df2792ed947febc58cf4021282795": {
          "model_module": "@jupyter-widgets/base",
          "model_name": "LayoutModel",
          "model_module_version": "1.2.0",
          "state": {
            "_model_module": "@jupyter-widgets/base",
            "_model_module_version": "1.2.0",
            "_model_name": "LayoutModel",
            "_view_count": null,
            "_view_module": "@jupyter-widgets/base",
            "_view_module_version": "1.2.0",
            "_view_name": "LayoutView",
            "align_content": null,
            "align_items": null,
            "align_self": null,
            "border": null,
            "bottom": null,
            "display": null,
            "flex": null,
            "flex_flow": null,
            "grid_area": null,
            "grid_auto_columns": null,
            "grid_auto_flow": null,
            "grid_auto_rows": null,
            "grid_column": null,
            "grid_gap": null,
            "grid_row": null,
            "grid_template_areas": null,
            "grid_template_columns": null,
            "grid_template_rows": null,
            "height": null,
            "justify_content": null,
            "justify_items": null,
            "left": null,
            "margin": null,
            "max_height": null,
            "max_width": null,
            "min_height": null,
            "min_width": null,
            "object_fit": null,
            "object_position": null,
            "order": null,
            "overflow": null,
            "overflow_x": null,
            "overflow_y": null,
            "padding": null,
            "right": null,
            "top": null,
            "visibility": null,
            "width": null
          }
        },
        "33f366d4be674a1eadd7deede56dc575": {
          "model_module": "@jupyter-widgets/controls",
          "model_name": "ProgressStyleModel",
          "model_module_version": "1.5.0",
          "state": {
            "_model_module": "@jupyter-widgets/controls",
            "_model_module_version": "1.5.0",
            "_model_name": "ProgressStyleModel",
            "_view_count": null,
            "_view_module": "@jupyter-widgets/base",
            "_view_module_version": "1.2.0",
            "_view_name": "StyleView",
            "bar_color": null,
            "description_width": ""
          }
        },
        "96747abfcbec4e1fb7ede21de3377a94": {
          "model_module": "@jupyter-widgets/base",
          "model_name": "LayoutModel",
          "model_module_version": "1.2.0",
          "state": {
            "_model_module": "@jupyter-widgets/base",
            "_model_module_version": "1.2.0",
            "_model_name": "LayoutModel",
            "_view_count": null,
            "_view_module": "@jupyter-widgets/base",
            "_view_module_version": "1.2.0",
            "_view_name": "LayoutView",
            "align_content": null,
            "align_items": null,
            "align_self": null,
            "border": null,
            "bottom": null,
            "display": null,
            "flex": null,
            "flex_flow": null,
            "grid_area": null,
            "grid_auto_columns": null,
            "grid_auto_flow": null,
            "grid_auto_rows": null,
            "grid_column": null,
            "grid_gap": null,
            "grid_row": null,
            "grid_template_areas": null,
            "grid_template_columns": null,
            "grid_template_rows": null,
            "height": null,
            "justify_content": null,
            "justify_items": null,
            "left": null,
            "margin": null,
            "max_height": null,
            "max_width": null,
            "min_height": null,
            "min_width": null,
            "object_fit": null,
            "object_position": null,
            "order": null,
            "overflow": null,
            "overflow_x": null,
            "overflow_y": null,
            "padding": null,
            "right": null,
            "top": null,
            "visibility": null,
            "width": null
          }
        },
        "2db54cf0db474a618971e0eb6df43d64": {
          "model_module": "@jupyter-widgets/controls",
          "model_name": "DescriptionStyleModel",
          "model_module_version": "1.5.0",
          "state": {
            "_model_module": "@jupyter-widgets/controls",
            "_model_module_version": "1.5.0",
            "_model_name": "DescriptionStyleModel",
            "_view_count": null,
            "_view_module": "@jupyter-widgets/base",
            "_view_module_version": "1.2.0",
            "_view_name": "StyleView",
            "description_width": ""
          }
        },
        "fbe351f32351448a9aae23753bca5ae2": {
          "model_module": "@jupyter-widgets/controls",
          "model_name": "HBoxModel",
          "model_module_version": "1.5.0",
          "state": {
            "_dom_classes": [],
            "_model_module": "@jupyter-widgets/controls",
            "_model_module_version": "1.5.0",
            "_model_name": "HBoxModel",
            "_view_count": null,
            "_view_module": "@jupyter-widgets/controls",
            "_view_module_version": "1.5.0",
            "_view_name": "HBoxView",
            "box_style": "",
            "children": [
              "IPY_MODEL_371b9f1d6bba42138f9b7f9d64ad1812",
              "IPY_MODEL_102420dcb616425cbaf88e837ac84c9a",
              "IPY_MODEL_b48c079f5798409d8c5a2dd5d92e88af"
            ],
            "layout": "IPY_MODEL_46bf22f9a9404ce39517f199351f20e4"
          }
        },
        "371b9f1d6bba42138f9b7f9d64ad1812": {
          "model_module": "@jupyter-widgets/controls",
          "model_name": "HTMLModel",
          "model_module_version": "1.5.0",
          "state": {
            "_dom_classes": [],
            "_model_module": "@jupyter-widgets/controls",
            "_model_module_version": "1.5.0",
            "_model_name": "HTMLModel",
            "_view_count": null,
            "_view_module": "@jupyter-widgets/controls",
            "_view_module_version": "1.5.0",
            "_view_name": "HTMLView",
            "description": "",
            "description_tooltip": null,
            "layout": "IPY_MODEL_b76eaa8a31864076801508d959c7d9db",
            "placeholder": "​",
            "style": "IPY_MODEL_b0fdcbf63dad4e3cab9a9d0ba9e603bc",
            "value": "100%"
          }
        },
        "102420dcb616425cbaf88e837ac84c9a": {
          "model_module": "@jupyter-widgets/controls",
          "model_name": "FloatProgressModel",
          "model_module_version": "1.5.0",
          "state": {
            "_dom_classes": [],
            "_model_module": "@jupyter-widgets/controls",
            "_model_module_version": "1.5.0",
            "_model_name": "FloatProgressModel",
            "_view_count": null,
            "_view_module": "@jupyter-widgets/controls",
            "_view_module_version": "1.5.0",
            "_view_name": "ProgressView",
            "bar_style": "success",
            "description": "",
            "description_tooltip": null,
            "layout": "IPY_MODEL_222715f184694908a5537a2056d31e9d",
            "max": 56,
            "min": 0,
            "orientation": "horizontal",
            "style": "IPY_MODEL_d755297489354019b26a61f908959923",
            "value": 56
          }
        },
        "b48c079f5798409d8c5a2dd5d92e88af": {
          "model_module": "@jupyter-widgets/controls",
          "model_name": "HTMLModel",
          "model_module_version": "1.5.0",
          "state": {
            "_dom_classes": [],
            "_model_module": "@jupyter-widgets/controls",
            "_model_module_version": "1.5.0",
            "_model_name": "HTMLModel",
            "_view_count": null,
            "_view_module": "@jupyter-widgets/controls",
            "_view_module_version": "1.5.0",
            "_view_name": "HTMLView",
            "description": "",
            "description_tooltip": null,
            "layout": "IPY_MODEL_26ab5758770642c3bffc8c9d92a98f29",
            "placeholder": "​",
            "style": "IPY_MODEL_64587128f1b64213a4906c32a9d90d50",
            "value": " 56/56 [00:02&lt;00:00, 26.01it/s]"
          }
        },
        "46bf22f9a9404ce39517f199351f20e4": {
          "model_module": "@jupyter-widgets/base",
          "model_name": "LayoutModel",
          "model_module_version": "1.2.0",
          "state": {
            "_model_module": "@jupyter-widgets/base",
            "_model_module_version": "1.2.0",
            "_model_name": "LayoutModel",
            "_view_count": null,
            "_view_module": "@jupyter-widgets/base",
            "_view_module_version": "1.2.0",
            "_view_name": "LayoutView",
            "align_content": null,
            "align_items": null,
            "align_self": null,
            "border": null,
            "bottom": null,
            "display": null,
            "flex": null,
            "flex_flow": null,
            "grid_area": null,
            "grid_auto_columns": null,
            "grid_auto_flow": null,
            "grid_auto_rows": null,
            "grid_column": null,
            "grid_gap": null,
            "grid_row": null,
            "grid_template_areas": null,
            "grid_template_columns": null,
            "grid_template_rows": null,
            "height": null,
            "justify_content": null,
            "justify_items": null,
            "left": null,
            "margin": null,
            "max_height": null,
            "max_width": null,
            "min_height": null,
            "min_width": null,
            "object_fit": null,
            "object_position": null,
            "order": null,
            "overflow": null,
            "overflow_x": null,
            "overflow_y": null,
            "padding": null,
            "right": null,
            "top": null,
            "visibility": null,
            "width": null
          }
        },
        "b76eaa8a31864076801508d959c7d9db": {
          "model_module": "@jupyter-widgets/base",
          "model_name": "LayoutModel",
          "model_module_version": "1.2.0",
          "state": {
            "_model_module": "@jupyter-widgets/base",
            "_model_module_version": "1.2.0",
            "_model_name": "LayoutModel",
            "_view_count": null,
            "_view_module": "@jupyter-widgets/base",
            "_view_module_version": "1.2.0",
            "_view_name": "LayoutView",
            "align_content": null,
            "align_items": null,
            "align_self": null,
            "border": null,
            "bottom": null,
            "display": null,
            "flex": null,
            "flex_flow": null,
            "grid_area": null,
            "grid_auto_columns": null,
            "grid_auto_flow": null,
            "grid_auto_rows": null,
            "grid_column": null,
            "grid_gap": null,
            "grid_row": null,
            "grid_template_areas": null,
            "grid_template_columns": null,
            "grid_template_rows": null,
            "height": null,
            "justify_content": null,
            "justify_items": null,
            "left": null,
            "margin": null,
            "max_height": null,
            "max_width": null,
            "min_height": null,
            "min_width": null,
            "object_fit": null,
            "object_position": null,
            "order": null,
            "overflow": null,
            "overflow_x": null,
            "overflow_y": null,
            "padding": null,
            "right": null,
            "top": null,
            "visibility": null,
            "width": null
          }
        },
        "b0fdcbf63dad4e3cab9a9d0ba9e603bc": {
          "model_module": "@jupyter-widgets/controls",
          "model_name": "DescriptionStyleModel",
          "model_module_version": "1.5.0",
          "state": {
            "_model_module": "@jupyter-widgets/controls",
            "_model_module_version": "1.5.0",
            "_model_name": "DescriptionStyleModel",
            "_view_count": null,
            "_view_module": "@jupyter-widgets/base",
            "_view_module_version": "1.2.0",
            "_view_name": "StyleView",
            "description_width": ""
          }
        },
        "222715f184694908a5537a2056d31e9d": {
          "model_module": "@jupyter-widgets/base",
          "model_name": "LayoutModel",
          "model_module_version": "1.2.0",
          "state": {
            "_model_module": "@jupyter-widgets/base",
            "_model_module_version": "1.2.0",
            "_model_name": "LayoutModel",
            "_view_count": null,
            "_view_module": "@jupyter-widgets/base",
            "_view_module_version": "1.2.0",
            "_view_name": "LayoutView",
            "align_content": null,
            "align_items": null,
            "align_self": null,
            "border": null,
            "bottom": null,
            "display": null,
            "flex": null,
            "flex_flow": null,
            "grid_area": null,
            "grid_auto_columns": null,
            "grid_auto_flow": null,
            "grid_auto_rows": null,
            "grid_column": null,
            "grid_gap": null,
            "grid_row": null,
            "grid_template_areas": null,
            "grid_template_columns": null,
            "grid_template_rows": null,
            "height": null,
            "justify_content": null,
            "justify_items": null,
            "left": null,
            "margin": null,
            "max_height": null,
            "max_width": null,
            "min_height": null,
            "min_width": null,
            "object_fit": null,
            "object_position": null,
            "order": null,
            "overflow": null,
            "overflow_x": null,
            "overflow_y": null,
            "padding": null,
            "right": null,
            "top": null,
            "visibility": null,
            "width": null
          }
        },
        "d755297489354019b26a61f908959923": {
          "model_module": "@jupyter-widgets/controls",
          "model_name": "ProgressStyleModel",
          "model_module_version": "1.5.0",
          "state": {
            "_model_module": "@jupyter-widgets/controls",
            "_model_module_version": "1.5.0",
            "_model_name": "ProgressStyleModel",
            "_view_count": null,
            "_view_module": "@jupyter-widgets/base",
            "_view_module_version": "1.2.0",
            "_view_name": "StyleView",
            "bar_color": null,
            "description_width": ""
          }
        },
        "26ab5758770642c3bffc8c9d92a98f29": {
          "model_module": "@jupyter-widgets/base",
          "model_name": "LayoutModel",
          "model_module_version": "1.2.0",
          "state": {
            "_model_module": "@jupyter-widgets/base",
            "_model_module_version": "1.2.0",
            "_model_name": "LayoutModel",
            "_view_count": null,
            "_view_module": "@jupyter-widgets/base",
            "_view_module_version": "1.2.0",
            "_view_name": "LayoutView",
            "align_content": null,
            "align_items": null,
            "align_self": null,
            "border": null,
            "bottom": null,
            "display": null,
            "flex": null,
            "flex_flow": null,
            "grid_area": null,
            "grid_auto_columns": null,
            "grid_auto_flow": null,
            "grid_auto_rows": null,
            "grid_column": null,
            "grid_gap": null,
            "grid_row": null,
            "grid_template_areas": null,
            "grid_template_columns": null,
            "grid_template_rows": null,
            "height": null,
            "justify_content": null,
            "justify_items": null,
            "left": null,
            "margin": null,
            "max_height": null,
            "max_width": null,
            "min_height": null,
            "min_width": null,
            "object_fit": null,
            "object_position": null,
            "order": null,
            "overflow": null,
            "overflow_x": null,
            "overflow_y": null,
            "padding": null,
            "right": null,
            "top": null,
            "visibility": null,
            "width": null
          }
        },
        "64587128f1b64213a4906c32a9d90d50": {
          "model_module": "@jupyter-widgets/controls",
          "model_name": "DescriptionStyleModel",
          "model_module_version": "1.5.0",
          "state": {
            "_model_module": "@jupyter-widgets/controls",
            "_model_module_version": "1.5.0",
            "_model_name": "DescriptionStyleModel",
            "_view_count": null,
            "_view_module": "@jupyter-widgets/base",
            "_view_module_version": "1.2.0",
            "_view_name": "StyleView",
            "description_width": ""
          }
        }
      }
    }
  },
  "nbformat": 4,
  "nbformat_minor": 5
}